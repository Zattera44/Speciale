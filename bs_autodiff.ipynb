{
 "cells": [
  {
   "cell_type": "code",
   "execution_count": 573,
   "metadata": {},
   "outputs": [],
   "source": [
    "import tensorflow as tf\n",
    "import numpy as np\n",
    "import scipy as sp\n",
    "import scipy.stats as stats\n",
    "import multiprocessing as mp\n",
    "import tensorflow_probability as tfp"
   ]
  },
  {
   "cell_type": "code",
   "execution_count": 578,
   "metadata": {},
   "outputs": [],
   "source": [
    "N = stats.norm.cdf\n",
    "\n",
    "def BlackScholesCall(S, K, T, r, sigma):\n",
    "    d1 = (np.log(S/K) + (r + sigma**2/2)*T) / (sigma*np.sqrt(T))\n",
    "    d2 = d1 - sigma * np.sqrt(T)\n",
    "    return S * N(d1) - K * np.exp(-r*T)* N(d2)"
   ]
  },
  {
   "cell_type": "code",
   "execution_count": 579,
   "metadata": {},
   "outputs": [
    {
     "name": "stdout",
     "output_type": "stream",
     "text": [
      "tf.Tensor(0.5199388, shape=(), dtype=float32) tf.Tensor(3.9877625, shape=(), dtype=float32)\n"
     ]
    }
   ],
   "source": [
    "x = tf.Variable(100.0)\n",
    "\n",
    "with tf.GradientTape() as g:\n",
    "    g.watch(x)\n",
    "    C = BlackScholesCall(x,100,1.0,0,0.1)\n",
    "    delta = g.gradient(C,x)\n",
    "\n",
    "print(delta, C)"
   ]
  },
  {
   "cell_type": "code",
   "execution_count": 558,
   "metadata": {},
   "outputs": [
    {
     "name": "stdout",
     "output_type": "stream",
     "text": [
      "tf.Tensor(40.005962, shape=(), dtype=float32) tf.Tensor(3.9903426, shape=(), dtype=float32)\n"
     ]
    }
   ],
   "source": [
    "def simulate_BS(it, S, sigma = 0.1):\n",
    "    T = 1\n",
    "    weeks = 52\n",
    "    dt = T/weeks\n",
    "    sum = 0\n",
    "\n",
    "    for i in range(it):\n",
    "        Sold = S\n",
    "        for t in range(weeks):\n",
    "            Z = np.random.normal()\n",
    "            Snew = Sold*tf.math.exp((-0.5*sigma**2)*dt+sigma*tf.math.sqrt(dt)*Z)\n",
    "            Sold = Snew\n",
    "        if Snew - 100 > 0:\n",
    "            sum = sum + (Snew - 100)\n",
    "    \n",
    "    return sum/float(it)\n",
    "\n",
    "x = tf.Variable(0.1)\n",
    "\n",
    "with tf.GradientTape() as g:\n",
    "    g.watch(x)\n",
    "    C = simulate_BS(1000,100,x)\n",
    "    delta = g.gradient(C,x)\n",
    "\n",
    "print(delta, C)"
   ]
  },
  {
   "cell_type": "code",
   "execution_count": 521,
   "metadata": {},
   "outputs": [
    {
     "name": "stdout",
     "output_type": "stream",
     "text": [
      "None tf.Tensor(3.9710507, shape=(), dtype=float32)\n"
     ]
    }
   ],
   "source": [
    "def simulate_BS(it, S0):\n",
    "    sigma = 0.1\n",
    "\n",
    "    T = 1\n",
    "    weeks = 52\n",
    "    dt = T/weeks\n",
    "\n",
    "    S = tf.reshape(tf.Variable(np.repeat(S0,it), dtype = \"float32\"), shape = (it,1))\n",
    "\n",
    "    for i in range(weeks):\n",
    "        Z = tf.random.normal(shape=(it,1))\n",
    "        temp = tf.math.multiply(tf.reshape(S[:,i], shape = (it,1)), np.exp((-0.5*sigma**2)*dt+sigma*np.sqrt(dt)*Z))\n",
    "        S = tf.concat([tf.reshape(S, shape = (it,i+1)), tf.reshape(temp, shape = (it,1))], axis = 1)\n",
    "        \n",
    "    return tf.math.reduce_sum(tf.nn.relu(S[:,i+1]-100))/it\n",
    "\n",
    "x = tf.Variable(100.0)\n",
    "\n",
    "with tf.GradientTape() as g:\n",
    "    g.watch(x)\n",
    "    C = simulate_BS(10000,x)\n",
    "    delta = g.gradient(C,x)\n",
    "\n",
    "print(delta, C)\n",
    "    "
   ]
  },
  {
   "cell_type": "code",
   "execution_count": null,
   "metadata": {},
   "outputs": [],
   "source": [
    "def simulate_BS(it, S0):\n",
    "    sigma = 0.1\n",
    "\n",
    "    T = 1\n",
    "    weeks = 52\n",
    "    dt = T/weeks\n",
    "\n",
    "    S = tf.reshape(tf.Variable(np.repeat(S0,it), dtype = \"float32\"), shape = (it,1))\n",
    "\n",
    "    for i in range(weeks):\n",
    "        Z = tf.random.normal(shape=(it,1))\n",
    "        temp = tf.math.multiply(tf.reshape(S[:,i], shape = (it,1)), np.exp((-0.5*sigma**2)*dt+sigma*np.sqrt(dt)*Z))\n",
    "        S = tf.concat([tf.reshape(S, shape = (it,i+1)), tf.reshape(temp, shape = (it,1))], axis = 1)\n",
    "        \n",
    "    return tf.math.reduce_sum(tf.nn.relu(S[:,i+1]-100))/it\n",
    "\n",
    "\n",
    "with tf.GradientTape() as g:\n",
    "    g.watch(x)\n",
    "    C = simulate_BS(10000,x)\n",
    "    delta = g.gradient(C,x)\n",
    "\n",
    "print(delta, C)"
   ]
  }
 ],
 "metadata": {
  "interpreter": {
   "hash": "6314f1dd6a1867270512df5dbaf0da944fed172eba7544c32ea9917be2637492"
  },
  "kernelspec": {
   "display_name": "Python 3.10.2 64-bit ('thematrix': venv)",
   "language": "python",
   "name": "python3"
  },
  "language_info": {
   "codemirror_mode": {
    "name": "ipython",
    "version": 3
   },
   "file_extension": ".py",
   "mimetype": "text/x-python",
   "name": "python",
   "nbconvert_exporter": "python",
   "pygments_lexer": "ipython3",
   "version": "3.10.2"
  },
  "orig_nbformat": 4
 },
 "nbformat": 4,
 "nbformat_minor": 2
}
