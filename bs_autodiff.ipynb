{
 "cells": [
  {
   "cell_type": "code",
   "execution_count": 172,
   "metadata": {},
   "outputs": [],
   "source": [
    "import tensorflow as tf\n",
    "import numpy as np\n",
    "import scipy as sp\n",
    "import scipy.stats as stats\n",
    "import multiprocessing as mp\n",
    "import itertools"
   ]
  },
  {
   "cell_type": "code",
   "execution_count": 173,
   "metadata": {},
   "outputs": [],
   "source": [
    "N = stats.norm.cdf\n",
    "\n",
    "def BlackScholesCall(S, K, T, r, sigma):\n",
    "    d1 = (np.log(S/K) + (r + sigma**2/2)*T) / (sigma*np.sqrt(T))\n",
    "    d2 = d1 - sigma * np.sqrt(T)\n",
    "    return S * N(d1) - K * np.exp(-r*T)* N(d2)"
   ]
  },
  {
   "cell_type": "code",
   "execution_count": 229,
   "metadata": {},
   "outputs": [
    {
     "name": "stdout",
     "output_type": "stream",
     "text": [
      "tf.Tensor(0.0, shape=(), dtype=float32)\n"
     ]
    }
   ],
   "source": [
    "x = tf.constant(50.0)\n",
    "\n",
    "with tf.GradientTape() as g:\n",
    "    g.watch(x)\n",
    "    C = BlackScholesCall(x,100,1,0,0.1)\n",
    "    delta = g.gradient(C,x)\n",
    "\n",
    "print(delta)"
   ]
  },
  {
   "cell_type": "code",
   "execution_count": 195,
   "metadata": {},
   "outputs": [],
   "source": [
    "def test(it, S):\n",
    "    sigma = 0.1\n",
    "    sum = 0.0\n",
    "    for i in range(it):\n",
    "        Z = np.random.normal()\n",
    "        stock_price = S*np.exp((-0.5*sigma**2)+sigma*Z)\n",
    "        if stock_price - 100 > 0:\n",
    "            sum = sum + (stock_price - 100)\n",
    "    \n",
    "    return sum/float(it)\n",
    "            "
   ]
  },
  {
   "cell_type": "code",
   "execution_count": 224,
   "metadata": {},
   "outputs": [],
   "source": [
    "def test2(it, S):\n",
    "    sigma = 0.1\n",
    "    sum = tf.constant(0.0)\n",
    "    stock_price = np.zeros(it)\n",
    "    T = 1\n",
    "    weeks = 52\n",
    "    dt = T/weeks\n",
    "    for i in range(it):\n",
    "        Sold = S\n",
    "        for t in range(weeks):\n",
    "            Z = np.random.normal()\n",
    "            Snew = Sold*np.exp((-0.5*sigma**2)*dt+sigma*np.sqrt(dt)*Z)\n",
    "            Sold = Snew\n",
    "        if Snew - 100 > 0:\n",
    "            sum = sum + (Snew - 100)\n",
    "    \n",
    "    return sum/float(it)"
   ]
  },
  {
   "cell_type": "code",
   "execution_count": 196,
   "metadata": {},
   "outputs": [
    {
     "name": "stdout",
     "output_type": "stream",
     "text": [
      "4.002366711087956\n",
      "3.987761167674492\n"
     ]
    }
   ],
   "source": [
    "print(test(100000,100))\n",
    "print(BlackScholesCall(100,100,1,0,0.1))"
   ]
  },
  {
   "cell_type": "code",
   "execution_count": 207,
   "metadata": {},
   "outputs": [
    {
     "name": "stdout",
     "output_type": "stream",
     "text": [
      "tf.Tensor(0.52046776, shape=(), dtype=float32)\n"
     ]
    }
   ],
   "source": [
    "x = tf.constant(100.0)\n",
    "\n",
    "with tf.GradientTape() as g:\n",
    "    g.watch(x)\n",
    "    C = test(100000,x)\n",
    "    delta = g.gradient(C,x)\n",
    "\n",
    "print(delta)"
   ]
  },
  {
   "cell_type": "code",
   "execution_count": 231,
   "metadata": {},
   "outputs": [
    {
     "name": "stdout",
     "output_type": "stream",
     "text": [
      "None\n"
     ]
    }
   ],
   "source": [
    "x = tf.constant(50.0)\n",
    "\n",
    "with tf.GradientTape() as g:\n",
    "    g.watch(x)\n",
    "    C = test2(1000,x)\n",
    "    delta = g.gradient(C,x)\n",
    "\n",
    "print(delta)"
   ]
  }
 ],
 "metadata": {
  "interpreter": {
   "hash": "6314f1dd6a1867270512df5dbaf0da944fed172eba7544c32ea9917be2637492"
  },
  "kernelspec": {
   "display_name": "Python 3.10.2 64-bit ('thematrix': venv)",
   "language": "python",
   "name": "python3"
  },
  "language_info": {
   "codemirror_mode": {
    "name": "ipython",
    "version": 3
   },
   "file_extension": ".py",
   "mimetype": "text/x-python",
   "name": "python",
   "nbconvert_exporter": "python",
   "pygments_lexer": "ipython3",
   "version": "3.10.2"
  },
  "orig_nbformat": 4
 },
 "nbformat": 4,
 "nbformat_minor": 2
}
