{
 "cells": [
  {
   "cell_type": "code",
   "execution_count": 3,
   "metadata": {},
   "outputs": [],
   "source": [
    "import pandas as pd\n",
    "import numpy as np\n",
    "import scipy as sp\n",
    "import scipy.stats as stats\n",
    "from tensorflow import keras\n",
    "import itertools\n",
    "import multiprocessing as mp"
   ]
  },
  {
   "cell_type": "code",
   "execution_count": 4,
   "metadata": {},
   "outputs": [],
   "source": [
    "N = stats.norm.cdf\n",
    "\n",
    "def BlackScholesCall(S, K, T, r, sigma):\n",
    "    d1 = (np.log(S/K) + (r + sigma**2/2)*T) / (sigma*np.sqrt(T))\n",
    "    d2 = d1 - sigma * np.sqrt(T)\n",
    "    return S * N(d1) - K * np.exp(-r*T)* N(d2)"
   ]
  },
  {
   "cell_type": "code",
   "execution_count": 7,
   "metadata": {},
   "outputs": [],
   "source": [
    "S = np.linspace(50,150,100)\n",
    "#K = np.linspace(50,150,100)\n",
    "#sigma = np.linspace(0.05,0.15,100)"
   ]
  },
  {
   "cell_type": "code",
   "execution_count": 8,
   "metadata": {},
   "outputs": [
    {
     "data": {
      "text/plain": [
       "array([5.77434928e-03, 8.24248182e-03, 1.15850522e-02, 1.60461806e-02,\n",
       "       2.19182129e-02, 2.95463461e-02, 3.93327160e-02, 5.17397574e-02,\n",
       "       6.72926628e-02, 8.65807845e-02, 1.10257855e-01, 1.39040935e-01,\n",
       "       1.73708040e-01, 2.15094433e-01, 2.64087615e-01, 3.21621095e-01,\n",
       "       3.88667044e-01, 4.66227968e-01, 5.55327596e-01, 6.57001146e-01,\n",
       "       7.72285195e-01, 9.02207351e-01, 1.04777594e+00, 1.20996994e+00,\n",
       "       1.38972927e+00, 1.58794573e+00, 1.80545461e+00, 2.04302724e+00,\n",
       "       2.30136444e+00, 2.58109102e+00, 2.88275139e+00, 3.20680627e+00,\n",
       "       3.55363049e+00, 3.92351189e+00, 4.31665127e+00, 4.73316326e+00,\n",
       "       5.17307816e+00, 5.63634458e+00, 6.12283277e+00, 6.63233862e+00,\n",
       "       7.16458816e+00, 7.71924249e+00, 8.29590309e+00, 8.89411724e+00,\n",
       "       9.51338372e+00, 1.01531585e+01, 1.08128604e+01, 1.14918768e+01,\n",
       "       1.21895688e+01, 1.29052770e+01, 1.36383260e+01, 1.43880296e+01,\n",
       "       1.51536950e+01, 1.59346269e+01, 1.67301315e+01, 1.75395200e+01,\n",
       "       1.83621115e+01, 1.91972359e+01, 2.00442365e+01, 2.09024719e+01,\n",
       "       2.17713180e+01, 2.26501694e+01, 2.35384407e+01, 2.44355675e+01,\n",
       "       2.53410072e+01, 2.62542395e+01, 2.71747666e+01, 2.81021134e+01,\n",
       "       2.90358278e+01, 2.99754801e+01, 3.09206628e+01, 3.18709905e+01,\n",
       "       3.28260991e+01, 3.37856454e+01, 3.47493063e+01, 3.57167784e+01,\n",
       "       3.66877769e+01, 3.76620352e+01, 3.86393039e+01, 3.96193503e+01,\n",
       "       4.06019570e+01, 4.15869219e+01, 4.25740568e+01, 4.35631870e+01,\n",
       "       4.45541502e+01, 4.55467962e+01, 4.65409858e+01, 4.75365903e+01,\n",
       "       4.85334908e+01, 4.95315777e+01, 5.05307496e+01, 5.15309135e+01,\n",
       "       5.25319835e+01, 5.35338808e+01, 5.45365329e+01, 5.55398734e+01,\n",
       "       5.65438411e+01, 5.75483802e+01, 5.85534395e+01, 5.95589720e+01])"
      ]
     },
     "execution_count": 8,
     "metadata": {},
     "output_type": "execute_result"
    }
   ],
   "source": [
    "BlackScholesCall(S,100,1,0.1,0.2)"
   ]
  },
  {
   "cell_type": "code",
   "execution_count": 9,
   "metadata": {},
   "outputs": [
    {
     "name": "stdout",
     "output_type": "stream",
     "text": [
      "(1, 5, 'eleven')\n",
      "(1, 5, 'f')\n",
      "(1, 6, 'eleven')\n",
      "(1, 6, 'f')\n",
      "(2, 5, 'eleven')\n",
      "(2, 5, 'f')\n",
      "(2, 6, 'eleven')\n",
      "(2, 6, 'f')\n"
     ]
    }
   ],
   "source": [
    "for xs in itertools.product([1,2], [5,6], ['eleven', 'f']):\n",
    "    print(xs)"
   ]
  },
  {
   "cell_type": "code",
   "execution_count": 10,
   "metadata": {},
   "outputs": [
    {
     "name": "stdout",
     "output_type": "stream",
     "text": [
      "{'a': 1, 'b': 5, 'x': None}\n",
      "{'a': 1, 'b': 5, 'x': 'eleven'}\n",
      "{'a': 1, 'b': 5, 'x': 'f'}\n",
      "{'a': 1, 'b': 6, 'x': None}\n",
      "{'a': 1, 'b': 6, 'x': 'eleven'}\n",
      "{'a': 1, 'b': 6, 'x': 'f'}\n",
      "{'a': 1, 'b': 7, 'x': None}\n",
      "{'a': 1, 'b': 7, 'x': 'eleven'}\n",
      "{'a': 1, 'b': 7, 'x': 'f'}\n",
      "{'a': 2, 'b': 5, 'x': None}\n",
      "{'a': 2, 'b': 5, 'x': 'eleven'}\n",
      "{'a': 2, 'b': 5, 'x': 'f'}\n",
      "{'a': 2, 'b': 6, 'x': None}\n",
      "{'a': 2, 'b': 6, 'x': 'eleven'}\n",
      "{'a': 2, 'b': 6, 'x': 'f'}\n",
      "{'a': 2, 'b': 7, 'x': None}\n",
      "{'a': 2, 'b': 7, 'x': 'eleven'}\n",
      "{'a': 2, 'b': 7, 'x': 'f'}\n",
      "{'a': 3, 'b': 5, 'x': None}\n",
      "{'a': 3, 'b': 5, 'x': 'eleven'}\n",
      "{'a': 3, 'b': 5, 'x': 'f'}\n",
      "{'a': 3, 'b': 6, 'x': None}\n",
      "{'a': 3, 'b': 6, 'x': 'eleven'}\n",
      "{'a': 3, 'b': 6, 'x': 'f'}\n",
      "{'a': 3, 'b': 7, 'x': None}\n",
      "{'a': 3, 'b': 7, 'x': 'eleven'}\n",
      "{'a': 3, 'b': 7, 'x': 'f'}\n"
     ]
    }
   ],
   "source": [
    "params = {\n",
    "    'a': [1, 2, 3],\n",
    "    'b': [5, 6, 7],\n",
    "    'x': [None, 'eleven', 'f'],\n",
    "}\n",
    "\n",
    "def myfunc(**args):\n",
    "    print(args)\n",
    "\n",
    "keys = list(params)\n",
    "for values in itertools.product(*map(params.get, keys)):\n",
    "    myfunc(**dict(zip(keys, values)))"
   ]
  }
 ],
 "metadata": {
  "interpreter": {
   "hash": "6314f1dd6a1867270512df5dbaf0da944fed172eba7544c32ea9917be2637492"
  },
  "kernelspec": {
   "display_name": "Python 3.10.2 64-bit ('thematrix': venv)",
   "language": "python",
   "name": "python3"
  },
  "language_info": {
   "codemirror_mode": {
    "name": "ipython",
    "version": 3
   },
   "file_extension": ".py",
   "mimetype": "text/x-python",
   "name": "python",
   "nbconvert_exporter": "python",
   "pygments_lexer": "ipython3",
   "version": "3.10.2"
  },
  "orig_nbformat": 4
 },
 "nbformat": 4,
 "nbformat_minor": 2
}
