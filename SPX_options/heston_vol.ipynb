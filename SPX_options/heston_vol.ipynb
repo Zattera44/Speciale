{
 "cells": [
  {
   "cell_type": "code",
   "execution_count": 77,
   "metadata": {},
   "outputs": [],
   "source": [
    "import math\n",
    "import pandas as pd\n",
    "import numpy as np\n",
    "from scipy import stats\n",
    "from scipy.optimize import fsolve, minimize\n",
    "from scipy import integrate\n",
    "import matplotlib.pyplot as plt\n",
    "from scipy.interpolate import griddata"
   ]
  },
  {
   "cell_type": "code",
   "execution_count": 78,
   "metadata": {},
   "outputs": [],
   "source": [
    "def BSM(S, K, r, sigma, tau):\n",
    "    d1 = (np.log(S/K) + (r + np.power(sigma, 2) /2) * tau)/(sigma * np.sqrt(tau))\n",
    "    d2 = d1 - sigma * np.sqrt(tau)\n",
    "    price = stats.norm.cdf(d1) * S - stats.norm.cdf(d2) * K * np.exp(-r * tau)\n",
    "    return price\n",
    "\n",
    "def ImpliedVol(S, K, r, price, tau):\n",
    "    f = lambda sigma: price - BSM(S, K, r, sigma, tau)\n",
    "    return fsolve(f, [0.1])[0]\n",
    "\n",
    "def delta(S, r, data):\n",
    "    d1 = (np.log(S/data['Strike']) + (r + np.power(data['imp_vol'], 2)/2)*data['Expiry'] / 365)/(data['imp_vol']*np.sqrt(data['Expiry'] / 365))\n",
    "    delta = stats.norm.cdf(d1)\n",
    "    return delta\n",
    "\n",
    "def vega(S, r, data):\n",
    "    d1 = (np.log(S/data['Strike']) + (r + np.power(data['imp_vol'], 2)/2)*data['Expiry'] / 365)/(data['Implied Vol']*np.sqrt(data['Expiry'] / 365))\n",
    "    vega = S * np.sqrt(data['Expiry'] / 365) * stats.norm.pdf(d1) / 100\n",
    "    return vega"
   ]
  },
  {
   "cell_type": "code",
   "execution_count": 79,
   "metadata": {},
   "outputs": [],
   "source": [
    "data = pd.read_csv(r'/Users/tk/Documents/GitHub/Speciale/data/spx_options.csv', sep=';', decimal=',')\n",
    "data.drop(columns=['Bid', 'Ask'], inplace=True)\n",
    "\n",
    "S = 4523\n",
    "r = 0\n",
    "\n",
    "data['log_moneyness'] = np.log(data['Strike']/S)\n",
    "\n",
    "length = data.shape[0]"
   ]
  },
  {
   "cell_type": "code",
   "execution_count": 80,
   "metadata": {},
   "outputs": [
    {
     "name": "stderr",
     "output_type": "stream",
     "text": [
      "/Users/tk/Documents/thematrix/lib/python3.10/site-packages/scipy/optimize/minpack.py:175: RuntimeWarning: The iteration is not making good progress, as measured by the \n",
      "  improvement from the last ten iterations.\n",
      "  warnings.warn(msg, RuntimeWarning)\n"
     ]
    }
   ],
   "source": [
    "imp_vol = np.zeros((length,1))\n",
    "\n",
    "for i in range(length):\n",
    "    imp_vol[i] = ImpliedVol(S, data.loc[i][1], r, data.loc[i][0], data.loc[i][2] / 365)\n",
    "\n",
    "data['imp_vol'] = np.log(imp_vol)\n",
    "\n",
    "data = data[data['imp_vol']<2]"
   ]
  },
  {
   "cell_type": "code",
   "execution_count": 82,
   "metadata": {},
   "outputs": [
    {
     "name": "stderr",
     "output_type": "stream",
     "text": [
      "/var/folders/8r/_6h7xydd2wg1psfgy9ff5sfr0000gn/T/ipykernel_2591/1875494295.py:9: MatplotlibDeprecationWarning: Calling gca() with keyword arguments was deprecated in Matplotlib 3.4. Starting two minor releases later, gca() will take no keyword arguments. The gca() function should only be used to get the current axes, or if no axes exist, create new axes with default keyword arguments. To create a new axes with non-default arguments, use plt.axes() or plt.subplot().\n",
      "  ax = fig.gca(projection='3d')\n"
     ]
    },
    {
     "data": {
      "image/png": "[encoded data removed]",
      "text/plain": [
       "<Figure size 432x288 with 1 Axes>"
      ]
     },
     "metadata": {
      "needs_background": "light"
     },
     "output_type": "display_data"
    }
   ],
   "source": [
    "x1 = np.linspace(data['log_moneyness'].min(), data['log_moneyness'].max(), len(data['log_moneyness'].unique()))\n",
    "y1 = np.linspace(data['Expiry'].min(), data['Expiry'].max(), len(data['Expiry'].unique()))\n",
    "\n",
    "x2, y2 = np.meshgrid(x1, y1)\n",
    "\n",
    "z2 = griddata((data['log_moneyness'], data['Expiry']), data['imp_vol'], (x2, y2), method='nearest')\n",
    "\n",
    "fig = plt.figure()\n",
    "ax = fig.gca(projection='3d')\n",
    "surf = ax.plot_surface(x2, y2, z2, rstride=1, cstride=1,\n",
    "                       linewidth=0, antialiased=False)\n",
    "\n",
    "plt.show()"
   ]
  }
 ],
 "metadata": {
  "interpreter": {
   "hash": "6314f1dd6a1867270512df5dbaf0da944fed172eba7544c32ea9917be2637492"
  },
  "kernelspec": {
   "display_name": "Python 3.10.2 64-bit ('thematrix': venv)",
   "language": "python",
   "name": "python3"
  },
  "language_info": {
   "codemirror_mode": {
    "name": "ipython",
    "version": 3
   },
   "file_extension": ".py",
   "mimetype": "text/x-python",
   "name": "python",
   "nbconvert_exporter": "python",
   "pygments_lexer": "ipython3",
   "version": "3.10.2"
  },
  "orig_nbformat": 4
 },
 "nbformat": 4,
 "nbformat_minor": 2
}
