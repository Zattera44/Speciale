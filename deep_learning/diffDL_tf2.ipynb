{
 "cells": [
  {
   "cell_type": "code",
   "execution_count": 351,
   "metadata": {},
   "outputs": [
    {
     "data": {
      "text/plain": [
       "True"
      ]
     },
     "execution_count": 351,
     "metadata": {},
     "output_type": "execute_result"
    }
   ],
   "source": [
    "import tensorflow as tf\n",
    "tf.compat.v1.enable_eager_execution()\n",
    "import numpy as np\n",
    "import matplotlib.pyplot as plt\n",
    "real_type = tf.float32\n",
    "tf.executing_eagerly()"
   ]
  },
  {
   "cell_type": "code",
   "execution_count": 352,
   "metadata": {},
   "outputs": [],
   "source": [
    "# From Savine's notebook\n",
    "\n",
    "from scipy.stats import norm\n",
    "\n",
    "def bsPrice(spot, strike, vol, T):\n",
    "    d1 = (np.log(spot/strike) + 0.5 * vol * vol * T) / vol / np.sqrt(T)\n",
    "    d2 = d1 - vol * np.sqrt(T)\n",
    "    return spot * norm.cdf(d1) - strike * norm.cdf(d2)\n",
    "\n",
    "def bsDelta(spot, strike, vol, T):\n",
    "    d1 = (np.log(spot/strike) + 0.5 * vol * vol * T) / vol / np.sqrt(T)\n",
    "    return norm.cdf(d1)\n",
    "\n",
    "def bsVega(spot, strike, vol, T):\n",
    "    d1 = (np.log(spot/strike) + 0.5 * vol * vol * T) / vol / np.sqrt(T)\n",
    "    return spot * np.sqrt(T) * norm.pdf(d1)\n",
    "    \n",
    "class BlackScholes:\n",
    "    \n",
    "    def __init__(self, \n",
    "                 vol=0.2,\n",
    "                 T1=1, \n",
    "                 T2=2, \n",
    "                 K=1.10,\n",
    "                 volMult=1.5):\n",
    "        \n",
    "        self.spot = 1\n",
    "        self.vol = vol\n",
    "        self.T1 = T1\n",
    "        self.T2 = T2\n",
    "        self.K = K\n",
    "        self.volMult = volMult\n",
    "                        \n",
    "    def trainingSet(self, m):\n",
    "            \n",
    "        returns = np.random.normal(size=[m, 2])\n",
    "\n",
    "        vol0 = self.vol * self.volMult\n",
    "        sigs = np.random.uniform(0.05, 0.5, size=m)\n",
    "        R1 = np.exp(-0.5*vol0*vol0*self.T1 + vol0*np.sqrt(self.T1)*returns[:,0])\n",
    "        R2 = np.exp(-0.5*sigs*sigs*(self.T2-self.T1) \\\n",
    "                    + sigs*np.sqrt(self.T2-self.T1)*returns[:,1])\n",
    "        S1 = self.spot * R1\n",
    "        #S1 = self.spot\n",
    "        S2 = S1 * R2 \n",
    "\n",
    "        pay = np.maximum(0, S2 - self.K)\n",
    "        \n",
    "        X = S1 #np.repeat(S1,m)\n",
    "        X2 = sigs\n",
    "        Y = pay\n",
    "\n",
    "        Z =  np.where(S2 > self.K, R2, 0.0).reshape((-1,1)) \n",
    "        Z2 = np.where(S2 > self.K, S2*(-sigs*(self.T2-self.T1)+np.sqrt(self.T2-self.T1)*returns[:,1]), 0.0).reshape(-1,1)\n",
    "        \n",
    "        return np.c_[X.reshape([-1,1]), X2.reshape([-1,1])], Y.reshape([-1,1]), np.c_[Z.reshape([-1,1]),Z2.reshape([-1,1])]#np.c_[X.reshape([-1,1]),X2.reshape([-1,1])], Y.reshape([-1,1]), np.c_[Z.reshape([-1,1]),Z2.reshape([-1,1])]\n",
    "    \n",
    "    def testSet(self, lower=0.35, upper=1.65, num=100):\n",
    "        \n",
    "        spots = np.linspace(lower, upper, num).reshape((-1, 1))\n",
    "        prices = bsPrice(spots, self.K, self.vol, self.T2 - self.T1).reshape((-1, 1))\n",
    "        deltas = bsDelta(spots, self.K, self.vol, self.T2 - self.T1).reshape((-1, 1))\n",
    "        return spots, prices, deltas   "
   ]
  },
  {
   "cell_type": "code",
   "execution_count": 319,
   "metadata": {},
   "outputs": [],
   "source": [
    "class ForwardLayer(tf.keras.layers.Layer):\n",
    "    def __init__(self, units, **kwargs):\n",
    "        super().__init__(**kwargs)\n",
    "        self.units = units\n",
    "        \n",
    "    def build(self, input_shape):\n",
    "        self.w = self.add_weight(\n",
    "            name = 'weights',\n",
    "            shape=(input_shape[-1], self.units),\n",
    "            initializer=\"glorot_normal\",\n",
    "            trainable=True\n",
    "        )\n",
    "        self.b = self.add_weight(\n",
    "            name = 'bias',\n",
    "            shape=(self.units,), \n",
    "            initializer=\"zeros\", \n",
    "            trainable=True\n",
    "        )\n",
    "        super().build(input_shape)\n",
    "\n",
    "    def call(self, inputs, first=False):\n",
    "        if not first:\n",
    "            return tf.keras.activations.softplus(inputs) @ self.w + self.b\n",
    "        if first:\n",
    "            return inputs @ self.w + self.b\n",
    "\n",
    "class BackpropLayer(tf.keras.layers.Layer):\n",
    "    def __init__(self, twin: ForwardLayer, units=20, **kwargs):\n",
    "        super().__init__(**kwargs)\n",
    "        self.twin = twin\n",
    "        self.units = self.twin.units\n",
    "        self.units = units\n",
    "\n",
    "    def build(self, input_shape):\n",
    "        self.w = self.twin.w\n",
    "        super().build(input_shape)\n",
    "\n",
    "    def call(self, inputs, output=False, first=False):\n",
    "        if first:\n",
    "            return tf.transpose(self.w) * tf.keras.activations.sigmoid(inputs)\n",
    "        if not output and not first:\n",
    "            z, zbar = inputs\n",
    "            return zbar @ tf.transpose(self.w) * tf.keras.activations.sigmoid(z)\n",
    "        if output and not first:\n",
    "            return inputs @ tf.transpose(self.w)\n",
    "\n",
    "class DiffLayer(tf.keras.layers.Layer):\n",
    "    def __init__(self, units, **kwargs):\n",
    "        super().__init__(**kwargs)\n",
    "        self.units = units\n",
    "        \n",
    "    def build(self, input_shape):\n",
    "        self.w = self.add_weight(\n",
    "            name = 'weights',\n",
    "            shape=(input_shape[-1], self.units),\n",
    "            initializer=\"glorot_normal\",\n",
    "            trainable=True\n",
    "        )\n",
    "        self.b = self.add_weight(\n",
    "            name = 'bias',\n",
    "            shape=(self.units,), \n",
    "            initializer=\"zeros\", \n",
    "            trainable=True\n",
    "        )\n",
    "        super().build(input_shape)\n",
    "\n",
    "    def call(self, inputs, diff = False, first = False, output = False):\n",
    "        if not diff:\n",
    "            if not first:\n",
    "                return tf.keras.activations.softplus(inputs) @ self.w + self.b\n",
    "            if first:\n",
    "                return inputs @ self.w + self.b\n",
    "        if diff:\n",
    "            if first:\n",
    "                return tf.transpose(self.w) * tf.keras.activations.sigmoid(inputs)\n",
    "            if not output and not first:\n",
    "                z, zbar = inputs\n",
    "                return zbar @ tf.transpose(self.w) * tf.keras.activations.sigmoid(z)\n",
    "            if output and not first:\n",
    "                return inputs @ tf.transpose(self.w)"
   ]
  },
  {
   "cell_type": "code",
   "execution_count": 320,
   "metadata": {},
   "outputs": [],
   "source": [
    "epsilon = 1.0e-08\n",
    "def normalize_data(x_raw, y_raw, dydx_raw):\n",
    "    \n",
    "    x_mean = x_raw.mean(axis=0)\n",
    "    x_std = x_raw.std(axis=0) + epsilon\n",
    "    x = (x_raw- x_mean) / x_std\n",
    "    y_mean = y_raw.mean(axis=0)\n",
    "    y_std = y_raw.std(axis=0) + epsilon\n",
    "    y = (y_raw-y_mean) / y_std\n",
    "    \n",
    "    dydx = dydx_raw / y_std * x_std \n",
    "    lambda_j = 1.0 / np.sqrt((dydx ** 2).mean(axis=0)).reshape(1, -1)\n",
    "   \n",
    "    return x_mean, x_std, x, y_mean, y_std, y, dydx, lambda_j"
   ]
  },
  {
   "cell_type": "code",
   "execution_count": 321,
   "metadata": {},
   "outputs": [],
   "source": [
    "def create_derivsLoss(lambda_j):\n",
    "    def derivsLoss(dydx_true, dydx_pred):\n",
    "        dydx_true = dydx_true  * lambda_j\n",
    "        dydx_pred = dydx_pred * lambda_j\n",
    "        error = dydx_true - dydx_pred\n",
    "        return tf.reduce_mean(tf.square(error))\n",
    "    return derivsLoss"
   ]
  },
  {
   "cell_type": "code",
   "execution_count": 322,
   "metadata": {},
   "outputs": [],
   "source": [
    "class LRSchedule(tf.keras.optimizers.schedules.LearningRateSchedule):\n",
    "\n",
    "  def __init__(self, n_epochs, size, batch_size):\n",
    "    self.learning_rate_schedule = [   (0.0, 1.0e-8), \\\n",
    "                                      (0.2, 0.1),    \\\n",
    "                                      (0.6, 0.01),   \\\n",
    "                                      (0.9, 1.0e-6), \\\n",
    "                                      (1.0, 1.0e-8)  ]\n",
    "    self.n_epochs = n_epochs\n",
    "    self.lr_schedule_epochs, self.lr_schedule_rates = zip(*self.learning_rate_schedule)\n",
    "    self.batch_size = batch_size\n",
    "    self.size = size\n",
    "    self.n_steps = self.batch_size * self.size\n",
    "    self.epoch = 1\n",
    "    self.counter = 0\n",
    "    self.number = self.size/self.batch_size\n",
    "\n",
    "  def __call__(self, step):\n",
    "    self.counter += 1\n",
    "    if self.counter % self.number == 0:\n",
    "        self.epoch += 1\n",
    "    lr = np.interp(self.epoch / self.n_epochs, self.lr_schedule_epochs, self.lr_schedule_rates)\n",
    "\n",
    "    return lr "
   ]
  },
  {
   "cell_type": "code",
   "execution_count": 323,
   "metadata": {},
   "outputs": [],
   "source": [
    "combined = False\n",
    "\n",
    "if not combined:\n",
    "\n",
    "    # Defining the layers in the feedforward part of the network\n",
    "    forward_1 = ForwardLayer(units=20, name='forward_1')\n",
    "    forward_2 = ForwardLayer(units=20, name='forward_2')\n",
    "    forward_3 = ForwardLayer(units=20, name='forward_3')\n",
    "    forward_4 = ForwardLayer(units=20, name='forward_4')\n",
    "\n",
    "    # Defining the output layer responsible for predicting y\n",
    "    output = ForwardLayer(units=1, name='output')\n",
    "\n",
    "    # Defining the layers in the backpropagation part of the network\n",
    "    # The argument \"twin\" makes sure the weights are shared correctly\n",
    "    backprop_1 = BackpropLayer(twin=output, name='backprop_1')\n",
    "    backprop_2 = BackpropLayer(twin=forward_4, name = 'backprop_2')\n",
    "    backprop_3 = BackpropLayer(twin=forward_3, name='backprop_3')\n",
    "    backprop_4 = BackpropLayer(twin=forward_2, name='backprop_4')\n",
    "\n",
    "    # Defining the output layer responsible for predicting Delta\n",
    "    derivs = BackpropLayer(twin=forward_1, name='derivs')\n",
    "\n",
    "    # This defines the computations in carried out by the network\n",
    "    z0 = tf.keras.layers.Input(shape=(2,), name='input')\n",
    "\n",
    "    z1 = forward_1(z0, first=True)\n",
    "    z2 = forward_2(z1)\n",
    "    z3 = forward_3(z2)\n",
    "    z4 = forward_4(z3)\n",
    "\n",
    "    y = output(z4)\n",
    "\n",
    "    zbar4 = backprop_1(inputs=z4, first=True)\n",
    "    zbar3 = backprop_2(inputs=[z3,zbar4])\n",
    "    zbar2 = backprop_3(inputs=[z2,zbar3])\n",
    "    zbar1 = backprop_4(inputs=[z1,zbar2])\n",
    "\n",
    "    derivs = derivs(inputs=zbar1, output=True)\n",
    "\n",
    "    # Using standard keras techniques to define the model, once the computational graph is in place\n",
    "    model = tf.keras.Model(inputs=z0, outputs=[y,derivs])   \n",
    "     \n",
    "if combined:\n",
    "\n",
    "    layer_1 = DiffLayer(units=20, name='layer_1')\n",
    "    layer_2 = DiffLayer(units=20, name='layer_2')\n",
    "    layer_3 = DiffLayer(units=20, name='layer_3')\n",
    "    layer_4 = DiffLayer(units=20, name='layer_4')\n",
    "\n",
    "    output = DiffLayer(units=1, name='output')\n",
    "\n",
    "    z0 = tf.keras.layers.Input(shape=(1,), name='input')\n",
    "\n",
    "    z1 = layer_1(z0, first=True)\n",
    "    z2 = layer_2(z1)\n",
    "    z3 = layer_3(z2)\n",
    "    z4 = layer_4(z3)\n",
    "\n",
    "    y = output(z4)\n",
    "\n",
    "    zbar4 = output(inputs=z4, diff=True, first=True)\n",
    "    zbar3 = layer_4(inputs=[z3,zbar4], diff=True)\n",
    "    zbar2 = layer_3(inputs=[z2,zbar3], diff=True)\n",
    "    zbar1 = layer_2(inputs=[z1,zbar2], diff=True)\n",
    "\n",
    "    derivs = layer_1(inputs=zbar1, diff=True, output=True)\n",
    "\n",
    "    model = tf.keras.Model(inputs=z0, outputs=[y,derivs])"
   ]
  },
  {
   "cell_type": "code",
   "execution_count": 324,
   "metadata": {},
   "outputs": [
    {
     "name": "stdout",
     "output_type": "stream",
     "text": [
      "Epoch 1/100\n",
      "16/16 [==============================] - 1s 36ms/step - loss: 1.7439 - output_loss: 0.8553 - derivs_loss: 0.8885\n",
      "Epoch 2/100\n",
      "16/16 [==============================] - 1s 36ms/step - loss: 1.4738 - output_loss: 0.6855 - derivs_loss: 0.7883\n",
      "Epoch 3/100\n",
      "16/16 [==============================] - 1s 32ms/step - loss: 1.3935 - output_loss: 0.6493 - derivs_loss: 0.7442\n",
      "Epoch 4/100\n",
      "16/16 [==============================] - 1s 33ms/step - loss: 1.3724 - output_loss: 0.6423 - derivs_loss: 0.7302\n",
      "Epoch 5/100\n",
      "16/16 [==============================] - 1s 32ms/step - loss: 1.3660 - output_loss: 0.6435 - derivs_loss: 0.7225\n",
      "Epoch 6/100\n",
      "16/16 [==============================] - 1s 37ms/step - loss: 1.3660 - output_loss: 0.6479 - derivs_loss: 0.7182\n",
      "Epoch 7/100\n",
      "16/16 [==============================] - 1s 34ms/step - loss: 1.3559 - output_loss: 0.6399 - derivs_loss: 0.7160\n",
      "Epoch 8/100\n",
      "16/16 [==============================] - 1s 36ms/step - loss: 1.3521 - output_loss: 0.6371 - derivs_loss: 0.7150\n",
      "Epoch 9/100\n",
      "16/16 [==============================] - 1s 32ms/step - loss: 1.3515 - output_loss: 0.6368 - derivs_loss: 0.7147\n",
      "Epoch 10/100\n",
      "16/16 [==============================] - 0s 31ms/step - loss: 1.3549 - output_loss: 0.6404 - derivs_loss: 0.7145\n",
      "Epoch 11/100\n",
      "16/16 [==============================] - 1s 31ms/step - loss: 1.3579 - output_loss: 0.6436 - derivs_loss: 0.7143\n",
      "Epoch 12/100\n",
      "16/16 [==============================] - 1s 31ms/step - loss: 1.3547 - output_loss: 0.6412 - derivs_loss: 0.7135\n",
      "Epoch 13/100\n",
      "16/16 [==============================] - 1s 32ms/step - loss: 1.3543 - output_loss: 0.6412 - derivs_loss: 0.7131\n",
      "Epoch 14/100\n",
      "16/16 [==============================] - 1s 40ms/step - loss: 1.3565 - output_loss: 0.6425 - derivs_loss: 0.7140\n",
      "Epoch 15/100\n",
      "16/16 [==============================] - 1s 33ms/step - loss: 1.3501 - output_loss: 0.6378 - derivs_loss: 0.7123\n",
      "Epoch 16/100\n",
      "16/16 [==============================] - 1s 33ms/step - loss: 1.3551 - output_loss: 0.6417 - derivs_loss: 0.7134\n",
      "Epoch 17/100\n",
      "16/16 [==============================] - 1s 35ms/step - loss: 1.3527 - output_loss: 0.6402 - derivs_loss: 0.7125\n",
      "Epoch 18/100\n",
      "16/16 [==============================] - 1s 33ms/step - loss: 1.3527 - output_loss: 0.6401 - derivs_loss: 0.7125\n",
      "Epoch 19/100\n",
      "16/16 [==============================] - 1s 32ms/step - loss: 1.3492 - output_loss: 0.6375 - derivs_loss: 0.7116\n",
      "Epoch 20/100\n",
      "16/16 [==============================] - 1s 31ms/step - loss: 1.3632 - output_loss: 0.6481 - derivs_loss: 0.7151\n",
      "Epoch 21/100\n",
      "16/16 [==============================] - 1s 31ms/step - loss: 1.3604 - output_loss: 0.6460 - derivs_loss: 0.7144\n",
      "Epoch 22/100\n",
      "16/16 [==============================] - 1s 37ms/step - loss: 1.3524 - output_loss: 0.6395 - derivs_loss: 0.7129\n",
      "Epoch 23/100\n",
      "16/16 [==============================] - 1s 34ms/step - loss: 1.3517 - output_loss: 0.6398 - derivs_loss: 0.7119\n",
      "Epoch 24/100\n",
      "16/16 [==============================] - 1s 33ms/step - loss: 1.3543 - output_loss: 0.6414 - derivs_loss: 0.7129\n",
      "Epoch 25/100\n",
      "16/16 [==============================] - 1s 34ms/step - loss: 1.3556 - output_loss: 0.6425 - derivs_loss: 0.7131\n",
      "Epoch 26/100\n",
      "16/16 [==============================] - 1s 33ms/step - loss: 1.3509 - output_loss: 0.6394 - derivs_loss: 0.7115\n",
      "Epoch 27/100\n",
      "16/16 [==============================] - 1s 33ms/step - loss: 1.3516 - output_loss: 0.6400 - derivs_loss: 0.7116\n",
      "Epoch 28/100\n",
      "16/16 [==============================] - 1s 33ms/step - loss: 1.3491 - output_loss: 0.6377 - derivs_loss: 0.7114\n",
      "Epoch 29/100\n",
      "16/16 [==============================] - 1s 34ms/step - loss: 1.3476 - output_loss: 0.6369 - derivs_loss: 0.7107\n",
      "Epoch 30/100\n",
      "16/16 [==============================] - 1s 33ms/step - loss: 1.3466 - output_loss: 0.6361 - derivs_loss: 0.7105\n",
      "Epoch 31/100\n",
      "16/16 [==============================] - 1s 33ms/step - loss: 1.3476 - output_loss: 0.6365 - derivs_loss: 0.7110\n",
      "Epoch 32/100\n",
      "16/16 [==============================] - 1s 33ms/step - loss: 1.3486 - output_loss: 0.6372 - derivs_loss: 0.7114\n",
      "Epoch 33/100\n",
      "16/16 [==============================] - 1s 33ms/step - loss: 1.3490 - output_loss: 0.6380 - derivs_loss: 0.7110\n",
      "Epoch 34/100\n",
      "16/16 [==============================] - 1s 33ms/step - loss: 1.3500 - output_loss: 0.6384 - derivs_loss: 0.7116\n",
      "Epoch 35/100\n",
      "16/16 [==============================] - 1s 40ms/step - loss: 1.3508 - output_loss: 0.6388 - derivs_loss: 0.7120\n",
      "Epoch 36/100\n",
      "16/16 [==============================] - 1s 39ms/step - loss: 1.3495 - output_loss: 0.6377 - derivs_loss: 0.7118\n",
      "Epoch 37/100\n",
      "16/16 [==============================] - 1s 31ms/step - loss: 1.3499 - output_loss: 0.6376 - derivs_loss: 0.7123\n",
      "Epoch 38/100\n",
      "16/16 [==============================] - 1s 32ms/step - loss: 1.3483 - output_loss: 0.6371 - derivs_loss: 0.7113\n",
      "Epoch 39/100\n",
      "16/16 [==============================] - 0s 31ms/step - loss: 1.3477 - output_loss: 0.6366 - derivs_loss: 0.7111\n",
      "Epoch 40/100\n",
      "16/16 [==============================] - 0s 31ms/step - loss: 1.3478 - output_loss: 0.6368 - derivs_loss: 0.7110\n",
      "Epoch 41/100\n",
      "16/16 [==============================] - 0s 30ms/step - loss: 1.3467 - output_loss: 0.6361 - derivs_loss: 0.7106\n",
      "Epoch 42/100\n",
      "16/16 [==============================] - 0s 30ms/step - loss: 1.3476 - output_loss: 0.6369 - derivs_loss: 0.7107\n",
      "Epoch 43/100\n",
      "16/16 [==============================] - 1s 31ms/step - loss: 1.3467 - output_loss: 0.6361 - derivs_loss: 0.7106\n",
      "Epoch 44/100\n",
      "16/16 [==============================] - 1s 32ms/step - loss: 1.3474 - output_loss: 0.6368 - derivs_loss: 0.7106\n",
      "Epoch 45/100\n",
      "16/16 [==============================] - 1s 31ms/step - loss: 1.3473 - output_loss: 0.6364 - derivs_loss: 0.7109\n",
      "Epoch 46/100\n",
      "16/16 [==============================] - 1s 38ms/step - loss: 1.3471 - output_loss: 0.6364 - derivs_loss: 0.7107\n",
      "Epoch 47/100\n",
      "16/16 [==============================] - 1s 36ms/step - loss: 1.3464 - output_loss: 0.6360 - derivs_loss: 0.7104\n",
      "Epoch 48/100\n",
      "16/16 [==============================] - 1s 38ms/step - loss: 1.3481 - output_loss: 0.6373 - derivs_loss: 0.7108\n",
      "Epoch 49/100\n",
      "16/16 [==============================] - 1s 32ms/step - loss: 1.3468 - output_loss: 0.6364 - derivs_loss: 0.7104\n",
      "Epoch 50/100\n",
      "16/16 [==============================] - 1s 32ms/step - loss: 1.3461 - output_loss: 0.6359 - derivs_loss: 0.7102\n",
      "Epoch 51/100\n",
      "16/16 [==============================] - 1s 32ms/step - loss: 1.3464 - output_loss: 0.6362 - derivs_loss: 0.7102\n",
      "Epoch 52/100\n",
      "16/16 [==============================] - 1s 32ms/step - loss: 1.3463 - output_loss: 0.6361 - derivs_loss: 0.7102\n",
      "Epoch 53/100\n",
      "16/16 [==============================] - 1s 32ms/step - loss: 1.3461 - output_loss: 0.6359 - derivs_loss: 0.7102\n",
      "Epoch 54/100\n",
      "16/16 [==============================] - 1s 32ms/step - loss: 1.3465 - output_loss: 0.6361 - derivs_loss: 0.7103\n",
      "Epoch 55/100\n",
      "16/16 [==============================] - 1s 33ms/step - loss: 1.3470 - output_loss: 0.6365 - derivs_loss: 0.7106\n",
      "Epoch 56/100\n",
      "16/16 [==============================] - 1s 34ms/step - loss: 1.3465 - output_loss: 0.6362 - derivs_loss: 0.7103\n",
      "Epoch 57/100\n",
      "16/16 [==============================] - 1s 38ms/step - loss: 1.3462 - output_loss: 0.6360 - derivs_loss: 0.7102\n",
      "Epoch 58/100\n",
      "16/16 [==============================] - 1s 34ms/step - loss: 1.3462 - output_loss: 0.6360 - derivs_loss: 0.7102\n",
      "Epoch 59/100\n",
      "16/16 [==============================] - 1s 32ms/step - loss: 1.3461 - output_loss: 0.6360 - derivs_loss: 0.7101\n",
      "Epoch 60/100\n",
      "16/16 [==============================] - 1s 33ms/step - loss: 1.3460 - output_loss: 0.6359 - derivs_loss: 0.7100\n",
      "Epoch 61/100\n",
      "16/16 [==============================] - 1s 42ms/step - loss: 1.3460 - output_loss: 0.6359 - derivs_loss: 0.7101\n",
      "Epoch 62/100\n",
      "16/16 [==============================] - 1s 32ms/step - loss: 1.3460 - output_loss: 0.6358 - derivs_loss: 0.7101\n",
      "Epoch 63/100\n",
      "16/16 [==============================] - 1s 34ms/step - loss: 1.3460 - output_loss: 0.6359 - derivs_loss: 0.7101\n",
      "Epoch 64/100\n",
      "16/16 [==============================] - 1s 33ms/step - loss: 1.3461 - output_loss: 0.6360 - derivs_loss: 0.7101\n",
      "Epoch 65/100\n",
      "16/16 [==============================] - 1s 33ms/step - loss: 1.3460 - output_loss: 0.6360 - derivs_loss: 0.7101\n",
      "Epoch 66/100\n",
      "16/16 [==============================] - 1s 32ms/step - loss: 1.3460 - output_loss: 0.6359 - derivs_loss: 0.7101\n",
      "Epoch 67/100\n",
      "16/16 [==============================] - 1s 33ms/step - loss: 1.3461 - output_loss: 0.6360 - derivs_loss: 0.7101\n",
      "Epoch 68/100\n",
      "16/16 [==============================] - 1s 32ms/step - loss: 1.3461 - output_loss: 0.6360 - derivs_loss: 0.7101\n",
      "Epoch 69/100\n",
      "16/16 [==============================] - 1s 33ms/step - loss: 1.3460 - output_loss: 0.6359 - derivs_loss: 0.7101\n",
      "Epoch 70/100\n",
      "16/16 [==============================] - 1s 59ms/step - loss: 1.3459 - output_loss: 0.6358 - derivs_loss: 0.7101\n",
      "Epoch 71/100\n",
      "16/16 [==============================] - 1s 50ms/step - loss: 1.3460 - output_loss: 0.6360 - derivs_loss: 0.7101\n",
      "Epoch 72/100\n",
      "16/16 [==============================] - 1s 34ms/step - loss: 1.3458 - output_loss: 0.6358 - derivs_loss: 0.7100\n",
      "Epoch 73/100\n",
      "16/16 [==============================] - 1s 36ms/step - loss: 1.3459 - output_loss: 0.6359 - derivs_loss: 0.7100\n",
      "Epoch 74/100\n",
      "16/16 [==============================] - 1s 39ms/step - loss: 1.3460 - output_loss: 0.6359 - derivs_loss: 0.7101\n",
      "Epoch 75/100\n",
      "16/16 [==============================] - 1s 34ms/step - loss: 1.3459 - output_loss: 0.6358 - derivs_loss: 0.7100\n",
      "Epoch 76/100\n",
      "16/16 [==============================] - 1s 32ms/step - loss: 1.3459 - output_loss: 0.6359 - derivs_loss: 0.7100\n",
      "Epoch 77/100\n",
      "16/16 [==============================] - 1s 33ms/step - loss: 1.3458 - output_loss: 0.6358 - derivs_loss: 0.7100\n",
      "Epoch 78/100\n",
      "16/16 [==============================] - 1s 32ms/step - loss: 1.3458 - output_loss: 0.6359 - derivs_loss: 0.7100\n",
      "Epoch 79/100\n",
      "16/16 [==============================] - 1s 32ms/step - loss: 1.3459 - output_loss: 0.6358 - derivs_loss: 0.7101\n",
      "Epoch 80/100\n",
      "16/16 [==============================] - 1s 32ms/step - loss: 1.3459 - output_loss: 0.6359 - derivs_loss: 0.7100\n",
      "Epoch 81/100\n",
      "16/16 [==============================] - 1s 33ms/step - loss: 1.3457 - output_loss: 0.6358 - derivs_loss: 0.7100\n",
      "Epoch 82/100\n",
      "16/16 [==============================] - 1s 32ms/step - loss: 1.3458 - output_loss: 0.6358 - derivs_loss: 0.7100\n",
      "Epoch 83/100\n",
      "16/16 [==============================] - 1s 33ms/step - loss: 1.3458 - output_loss: 0.6358 - derivs_loss: 0.7100\n",
      "Epoch 84/100\n",
      "16/16 [==============================] - 1s 32ms/step - loss: 1.3458 - output_loss: 0.6358 - derivs_loss: 0.7099\n",
      "Epoch 85/100\n",
      "16/16 [==============================] - 1s 32ms/step - loss: 1.3458 - output_loss: 0.6358 - derivs_loss: 0.7100\n",
      "Epoch 86/100\n",
      "16/16 [==============================] - 1s 32ms/step - loss: 1.3458 - output_loss: 0.6358 - derivs_loss: 0.7100\n",
      "Epoch 87/100\n",
      "16/16 [==============================] - 1s 32ms/step - loss: 1.3458 - output_loss: 0.6358 - derivs_loss: 0.7099\n",
      "Epoch 88/100\n",
      "16/16 [==============================] - 1s 32ms/step - loss: 1.3457 - output_loss: 0.6358 - derivs_loss: 0.7099\n",
      "Epoch 89/100\n",
      "16/16 [==============================] - 1s 32ms/step - loss: 1.3457 - output_loss: 0.6358 - derivs_loss: 0.7099\n",
      "Epoch 90/100\n",
      "16/16 [==============================] - 1s 32ms/step - loss: 1.3457 - output_loss: 0.6358 - derivs_loss: 0.7099\n",
      "Epoch 91/100\n",
      "16/16 [==============================] - 1s 32ms/step - loss: 1.3457 - output_loss: 0.6358 - derivs_loss: 0.7099\n",
      "Epoch 92/100\n",
      "16/16 [==============================] - 1s 32ms/step - loss: 1.3457 - output_loss: 0.6358 - derivs_loss: 0.7099\n",
      "Epoch 93/100\n",
      "16/16 [==============================] - 1s 33ms/step - loss: 1.3457 - output_loss: 0.6358 - derivs_loss: 0.7099\n",
      "Epoch 94/100\n",
      "16/16 [==============================] - 1s 33ms/step - loss: 1.3457 - output_loss: 0.6358 - derivs_loss: 0.7099\n",
      "Epoch 95/100\n",
      "16/16 [==============================] - 1s 34ms/step - loss: 1.3457 - output_loss: 0.6358 - derivs_loss: 0.7099\n",
      "Epoch 96/100\n",
      "16/16 [==============================] - 1s 32ms/step - loss: 1.3457 - output_loss: 0.6358 - derivs_loss: 0.7099\n",
      "Epoch 97/100\n",
      "16/16 [==============================] - 1s 32ms/step - loss: 1.3457 - output_loss: 0.6358 - derivs_loss: 0.7099\n",
      "Epoch 98/100\n",
      "16/16 [==============================] - 1s 33ms/step - loss: 1.3457 - output_loss: 0.6358 - derivs_loss: 0.7099\n",
      "Epoch 99/100\n",
      "16/16 [==============================] - 1s 33ms/step - loss: 1.3457 - output_loss: 0.6358 - derivs_loss: 0.7099\n",
      "Epoch 100/100\n",
      "16/16 [==============================] - 1s 32ms/step - loss: 1.3457 - output_loss: 0.6358 - derivs_loss: 0.7099\n"
     ]
    }
   ],
   "source": [
    "n_epochs = 100; size = 2 ** 17; batch_size = int(max(256, size // 16)); scheduler = True\n",
    "\n",
    "bs = BlackScholes()\n",
    "xTrain, yTrain, dydxTrain = bs.trainingSet(size)\n",
    "#xTrain = xTrain[:,1].reshape(-1,1); dydxTrain = dydxTrain[:,1].reshape(-1,1)\n",
    "xTest, yTest, dydxTest = bs.testSet(num=100)\n",
    "\n",
    "x_mean, x_std, x, y_mean, y_std, y, dydx, lambda_j = normalize_data(xTrain, yTrain, dydxTrain)\n",
    "\n",
    "if scheduler:\n",
    "    optimizer = tf.keras.optimizers.Adam(learning_rate=LRSchedule(n_epochs, size, batch_size))\n",
    "    eager = True\n",
    "else:    \n",
    "    optimizer = tf.keras.optimizers.Adam(learning_rate=0.1)\n",
    "    #optimizer = tf.keras.optimizers.RMSprop(learning_rate=0.1)\n",
    "    eager = False\n",
    "\n",
    "model.compile(loss=['mse', create_derivsLoss(lambda_j)], optimizer=optimizer, run_eagerly=eager)\n",
    "\n",
    "history = model.fit(\n",
    "    x, [y, dydx], epochs=n_epochs, batch_size = batch_size, verbose = 1\n",
    ")"
   ]
  },
  {
   "cell_type": "code",
   "execution_count": 335,
   "metadata": {},
   "outputs": [],
   "source": [
    "sig = np.linspace(0.05,0.5,100)\n",
    "spt = np.repeat(1,100) #np.linspace(0.35,1.65,100)\n",
    "xTest = np.c_[spt,sig]\n",
    "\n",
    "x_scaled = (xTest - x_mean) / x_std\n",
    "y_scaled, dydx_scaled = model.predict(x_scaled)\n",
    "\n",
    "yPred = y_mean + y_std * y_scaled\n",
    "dydxPred = y_std / x_std * dydx_scaled\n"
   ]
  },
  {
   "cell_type": "code",
   "execution_count": 336,
   "metadata": {},
   "outputs": [
    {
     "data": {
      "text/plain": [
       "[<matplotlib.lines.Line2D at 0x16c9f3c70>]"
      ]
     },
     "execution_count": 336,
     "metadata": {},
     "output_type": "execute_result"
    },
    {
     "data": {
      "image/png": "[encoded data removed]",
      "text/plain": [
       "<Figure size 432x288 with 1 Axes>"
      ]
     },
     "metadata": {
      "needs_background": "light"
     },
     "output_type": "display_data"
    }
   ],
   "source": [
    "vega = []\n",
    "for s in xTest[:,1]:\n",
    "    vega.append(bsVega(1,1.1,s,1))\n",
    "\n",
    "plt.plot(xTest[:,1], dydxPred[:,1])\n",
    "plt.plot(xTest[:,1], vega)"
   ]
  },
  {
   "cell_type": "code",
   "execution_count": 327,
   "metadata": {},
   "outputs": [
    {
     "data": {
      "text/plain": [
       "[<matplotlib.lines.Line2D at 0x16c8ae5c0>]"
      ]
     },
     "execution_count": 327,
     "metadata": {},
     "output_type": "execute_result"
    },
    {
     "data": {
      "image/png": "[encoded data removed]",
      "text/plain": [
       "<Figure size 432x288 with 1 Axes>"
      ]
     },
     "metadata": {
      "needs_background": "light"
     },
     "output_type": "display_data"
    }
   ],
   "source": [
    "price = []\n",
    "for s in xTest[:,1]:\n",
    "    price.append(bsPrice(1,1.1,s,1))\n",
    "\n",
    "plt.plot(xTest[:,1], yPred)\n",
    "plt.plot(xTest[:,1], price)"
   ]
  },
  {
   "cell_type": "code",
   "execution_count": 347,
   "metadata": {},
   "outputs": [],
   "source": [
    "sig = np.repeat(0.2,100) #np.linspace(0.01,0.5,100)\n",
    "spt = np.linspace(0.35,1.65,100)\n",
    "xTest = np.c_[spt,sig]\n",
    "\n",
    "x_scaled = (xTest - x_mean) / x_std\n",
    "y_scaled, dydx_scaled = model.predict(x_scaled)\n",
    "\n",
    "yPred = y_mean + y_std * y_scaled\n",
    "dydxPred = y_std / x_std * dydx_scaled"
   ]
  },
  {
   "cell_type": "code",
   "execution_count": 348,
   "metadata": {},
   "outputs": [
    {
     "data": {
      "text/plain": [
       "[<matplotlib.lines.Line2D at 0x16cc91450>]"
      ]
     },
     "execution_count": 348,
     "metadata": {},
     "output_type": "execute_result"
    },
    {
     "data": {
      "image/png": "[encoded data removed]",
      "text/plain": [
       "<Figure size 432x288 with 1 Axes>"
      ]
     },
     "metadata": {
      "needs_background": "light"
     },
     "output_type": "display_data"
    }
   ],
   "source": [
    "delta = []\n",
    "for s in xTest[:,0]:\n",
    "    delta.append(bsDelta(s,1.1,0.2,1))\n",
    "\n",
    "plt.plot(xTest[:,0], dydxPred[:,0])\n",
    "plt.plot(xTest[:,0], delta)"
   ]
  },
  {
   "cell_type": "code",
   "execution_count": 349,
   "metadata": {},
   "outputs": [
    {
     "data": {
      "text/plain": [
       "[<matplotlib.lines.Line2D at 0x16cce4670>]"
      ]
     },
     "execution_count": 349,
     "metadata": {},
     "output_type": "execute_result"
    },
    {
     "data": {
      "image/png": "[encoded data removed]",
      "text/plain": [
       "<Figure size 432x288 with 1 Axes>"
      ]
     },
     "metadata": {
      "needs_background": "light"
     },
     "output_type": "display_data"
    }
   ],
   "source": [
    "price = []\n",
    "for s in xTest[:,0]:\n",
    "    price.append(bsPrice(s,1.1,0.2,1))\n",
    "\n",
    "plt.plot(xTest[:,0], yPred)\n",
    "plt.plot(xTest[:,0], price)"
   ]
  },
  {
   "cell_type": "code",
   "execution_count": 350,
   "metadata": {},
   "outputs": [
    {
     "data": {
      "text/plain": [
       "[<matplotlib.lines.Line2D at 0x16cd2f340>]"
      ]
     },
     "execution_count": 350,
     "metadata": {},
     "output_type": "execute_result"
    },
    {
     "data": {
      "image/png": "[encoded data removed]",
      "text/plain": [
       "<Figure size 432x288 with 1 Axes>"
      ]
     },
     "metadata": {
      "needs_background": "light"
     },
     "output_type": "display_data"
    }
   ],
   "source": [
    "vgspt = []\n",
    "for s in xTest[:,0]:\n",
    "    vgspt.append(bsVega(s,1.1,0.2,1))\n",
    "\n",
    "plt.plot(xTest[:,0], dydxPred[:,1])\n",
    "plt.plot(xTest[:,0], vgspt)"
   ]
  },
  {
   "cell_type": "code",
   "execution_count": 345,
   "metadata": {},
   "outputs": [
    {
     "data": {
      "text/plain": [
       "0.3716384436594333"
      ]
     },
     "execution_count": 345,
     "metadata": {},
     "output_type": "execute_result"
    }
   ],
   "source": [
    "bsVega(1,1.1,0.2,1)"
   ]
  },
  {
   "cell_type": "code",
   "execution_count": null,
   "metadata": {},
   "outputs": [],
   "source": []
  }
 ],
 "metadata": {
  "interpreter": {
   "hash": "6314f1dd6a1867270512df5dbaf0da944fed172eba7544c32ea9917be2637492"
  },
  "kernelspec": {
   "display_name": "Python 3.10.2 ('thematrix')",
   "language": "python",
   "name": "python3"
  },
  "language_info": {
   "codemirror_mode": {
    "name": "ipython",
    "version": 3
   },
   "file_extension": ".py",
   "mimetype": "text/x-python",
   "name": "python",
   "nbconvert_exporter": "python",
   "pygments_lexer": "ipython3",
   "version": "3.10.2"
  },
  "orig_nbformat": 4
 },
 "nbformat": 4,
 "nbformat_minor": 2
}
