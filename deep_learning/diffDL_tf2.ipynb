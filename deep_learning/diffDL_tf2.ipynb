{
 "cells": [
  {
   "cell_type": "code",
   "execution_count": 1178,
   "metadata": {},
   "outputs": [],
   "source": [
    "import tensorflow as tf\n",
    "from tensorflow import keras\n",
    "import numpy as np\n",
    "real_type = tf.float32"
   ]
  },
  {
   "cell_type": "code",
   "execution_count": 1179,
   "metadata": {},
   "outputs": [],
   "source": [
    "# From Savine notebook\n",
    "\n",
    "from scipy.stats import norm\n",
    "\n",
    "def bsPrice(spot, strike, vol, T):\n",
    "    d1 = (np.log(spot/strike) + 0.5 * vol * vol * T) / vol / np.sqrt(T)\n",
    "    d2 = d1 - vol * np.sqrt(T)\n",
    "    return spot * norm.cdf(d1) - strike * norm.cdf(d2)\n",
    "\n",
    "def bsDelta(spot, strike, vol, T):\n",
    "    d1 = (np.log(spot/strike) + 0.5 * vol * vol * T) / vol / np.sqrt(T)\n",
    "    return norm.cdf(d1)\n",
    "\n",
    "def bsVega(spot, strike, vol, T):\n",
    "    d1 = (np.log(spot/strike) + 0.5 * vol * vol * T) / vol / np.sqrt(T)\n",
    "    return spot * np.sqrt(T) * norm.pdf(d1)\n",
    "    \n",
    "class BlackScholes:\n",
    "    \n",
    "    def __init__(self, \n",
    "                 vol=0.2,\n",
    "                 T1=1, \n",
    "                 T2=2, \n",
    "                 K=1.10,\n",
    "                 volMult=1.5):\n",
    "        \n",
    "        self.spot = 1\n",
    "        self.vol = vol\n",
    "        self.T1 = T1\n",
    "        self.T2 = T2\n",
    "        self.K = K\n",
    "        self.volMult = volMult\n",
    "                        \n",
    "    def trainingSet(self, m, anti=True):\n",
    "            \n",
    "        returns = np.random.normal(size=[m, 2])\n",
    "\n",
    "        vol0 = self.vol * self.volMult\n",
    "        R1 = np.exp(-0.5*vol0*vol0*self.T1 + vol0*np.sqrt(self.T1)*returns[:,0])\n",
    "        R2 = np.exp(-0.5*self.vol*self.vol*(self.T2-self.T1) \\\n",
    "                    + self.vol*np.sqrt(self.T2-self.T1)*returns[:,1])\n",
    "        S1 = self.spot * R1\n",
    "        S2 = S1 * R2 \n",
    "\n",
    "        pay = np.maximum(0, S2 - self.K)\n",
    "        \n",
    "        if anti:\n",
    "            \n",
    "            R2a = np.exp(-0.5*self.vol*self.vol*(self.T2-self.T1) \\\n",
    "                    - self.vol*np.sqrt(self.T2-self.T1)*returns[:,1])\n",
    "            S2a = S1 * R2a             \n",
    "            paya = np.maximum(0, S2a - self.K)\n",
    "            \n",
    "            X = S1\n",
    "            Y = 0.5 * (pay + paya)\n",
    "    \n",
    "            Z1 =  np.where(S2 > self.K, R2, 0.0).reshape((-1,1)) \n",
    "            Z2 =  np.where(S2a > self.K, R2a, 0.0).reshape((-1,1)) \n",
    "            Z = 0.5 * (Z1 + Z2)\n",
    "                    \n",
    "        else:\n",
    "        \n",
    "            X = S1\n",
    "            Y = pay\n",
    "            \n",
    "            Z =  np.where(S2 > self.K, R2, 0.0).reshape((-1,1)) \n",
    "        \n",
    "        return X.reshape([-1,1]), Y.reshape([-1,1]), Z.reshape([-1,1])\n",
    "    \n",
    "    def testSet(self, lower=0.35, upper=1.65, num=100):\n",
    "        \n",
    "        spots = np.linspace(lower, upper, num).reshape((-1, 1))\n",
    "        prices = bsPrice(spots, self.K, self.vol, self.T2 - self.T1).reshape((-1, 1))\n",
    "        deltas = bsDelta(spots, self.K, self.vol, self.T2 - self.T1).reshape((-1, 1))\n",
    "        return spots, prices, deltas   "
   ]
  },
  {
   "cell_type": "code",
   "execution_count": 1180,
   "metadata": {},
   "outputs": [],
   "source": [
    "class ForwardLayer(keras.layers.Layer):\n",
    "    def __init__(self, units, **kwargs):\n",
    "        super().__init__(**kwargs)\n",
    "        self.units = units\n",
    "        \n",
    "    def build(self, input_shape):\n",
    "        self.w = self.add_weight(\n",
    "            name = 'weights',\n",
    "            shape=(input_shape[-1], self.units),\n",
    "            initializer=\"glorot_normal\",\n",
    "            trainable=True\n",
    "        )\n",
    "        self.b = self.add_weight(\n",
    "            name = 'bias',\n",
    "            shape=(self.units,), \n",
    "            initializer=\"zeros\", \n",
    "            trainable=True\n",
    "        )\n",
    "        super().build(input_shape)\n",
    "\n",
    "    def call(self, inputs, first=False):\n",
    "        if not first:\n",
    "            return keras.activations.softplus(inputs) @ self.w + self.b\n",
    "        if first:\n",
    "            return inputs @ self.w + self.b\n",
    "\n",
    "class BackpropLayer(keras.layers.Layer):\n",
    "    def __init__(self, twin: ForwardLayer, **kwargs):\n",
    "        super().__init__(**kwargs)\n",
    "        self.twin = twin\n",
    "        self.units = self.twin.units\n",
    "\n",
    "    def build(self, input_shape):\n",
    "        self.w = self.twin.w\n",
    "        super().build(input_shape)\n",
    "\n",
    "    def call(self, inputs, output=False):\n",
    "        z, zbar = inputs\n",
    "        if not output:\n",
    "            return zbar @ tf.transpose(self.w) * keras.activations.sigmoid(z)\n",
    "        if output:\n",
    "            return zbar @ tf.transpose(self.w)"
   ]
  },
  {
   "cell_type": "code",
   "execution_count": 1181,
   "metadata": {},
   "outputs": [],
   "source": [
    "forward_1 = ForwardLayer(units=20, name='forward_1')\n",
    "forward_2 = ForwardLayer(units=20, name='forward_2')\n",
    "forward_3 = ForwardLayer(units=20, name='forward_3')\n",
    "\n",
    "output = ForwardLayer(units=1, name='output')\n",
    "\n",
    "backprop_1 = BackpropLayer(twin=output, name='backprop_1')\n",
    "backprop_2 = BackpropLayer(twin=forward_3, name='backprop_3')\n",
    "backprop_3 = BackpropLayer(twin=forward_2, name='backprop_4')\n",
    "\n",
    "derivs = BackpropLayer(twin=forward_1, name='derivs')\n",
    "\n",
    "z0 = keras.layers.Input(shape=(1,), name='input')\n",
    "z1 = forward_1(z0, first=True)\n",
    "z2 = forward_2(z1)\n",
    "z3 = forward_3(z2)\n",
    "y = output(z3)\n",
    "zbar3 = backprop_1(inputs=[z3,tf.ones_like(y)])\n",
    "zbar2 = backprop_2(inputs=[z2,zbar3])\n",
    "zbar1 = backprop_3(inputs=[z1,zbar2])\n",
    "derivs = derivs(inputs=[1,zbar1], output=True)"
   ]
  },
  {
   "cell_type": "code",
   "execution_count": 1182,
   "metadata": {},
   "outputs": [],
   "source": [
    "model = keras.Model(inputs=z0, outputs=[y,derivs])\n",
    "model.compile(loss=['mse','mse'], loss_weights=[0.4,0.6], optimizer=keras.optimizers.Adam(learning_rate=0.1))"
   ]
  },
  {
   "cell_type": "code",
   "execution_count": 1183,
   "metadata": {},
   "outputs": [],
   "source": [
    "size = 8192\n",
    "bs = BlackScholes()\n",
    "xTrain, yTrain, dydxTrain = bs.trainingSet(size)\n",
    "xTest, yTest, dydxTest = bs.testSet(num=100)"
   ]
  },
  {
   "cell_type": "code",
   "execution_count": 1184,
   "metadata": {},
   "outputs": [
    {
     "name": "stdout",
     "output_type": "stream",
     "text": [
      "Epoch 1/20\n",
      "256/256 [==============================] - 1s 1ms/step - loss: 0.1763 - output_loss: 0.3176 - derivs_loss: 0.0822\n",
      "Epoch 2/20\n",
      "256/256 [==============================] - 0s 1ms/step - loss: 0.0301 - output_loss: 0.0041 - derivs_loss: 0.0475\n",
      "Epoch 3/20\n",
      "256/256 [==============================] - 0s 1ms/step - loss: 0.0301 - output_loss: 0.0041 - derivs_loss: 0.0475\n",
      "Epoch 4/20\n",
      "256/256 [==============================] - 0s 1ms/step - loss: 0.0301 - output_loss: 0.0041 - derivs_loss: 0.0474\n",
      "Epoch 5/20\n",
      "256/256 [==============================] - 0s 1ms/step - loss: 0.0286 - output_loss: 0.0037 - derivs_loss: 0.0452\n",
      "Epoch 6/20\n",
      "256/256 [==============================] - 0s 1ms/step - loss: 0.0286 - output_loss: 0.0038 - derivs_loss: 0.0452\n",
      "Epoch 7/20\n",
      "256/256 [==============================] - 0s 1ms/step - loss: 0.0285 - output_loss: 0.0039 - derivs_loss: 0.0449\n",
      "Epoch 8/20\n",
      "256/256 [==============================] - 0s 1ms/step - loss: 0.0284 - output_loss: 0.0039 - derivs_loss: 0.0447\n",
      "Epoch 9/20\n",
      "256/256 [==============================] - 0s 1ms/step - loss: 0.0286 - output_loss: 0.0039 - derivs_loss: 0.0451\n",
      "Epoch 10/20\n",
      "256/256 [==============================] - 0s 1ms/step - loss: 0.0283 - output_loss: 0.0039 - derivs_loss: 0.0446\n",
      "Epoch 11/20\n",
      "256/256 [==============================] - 0s 1ms/step - loss: 0.0285 - output_loss: 0.0040 - derivs_loss: 0.0448\n",
      "Epoch 12/20\n",
      "256/256 [==============================] - 0s 1ms/step - loss: 0.0286 - output_loss: 0.0041 - derivs_loss: 0.0449\n",
      "Epoch 13/20\n",
      "256/256 [==============================] - 0s 1ms/step - loss: 0.0287 - output_loss: 0.0039 - derivs_loss: 0.0451\n",
      "Epoch 14/20\n",
      "256/256 [==============================] - 0s 1ms/step - loss: 0.0286 - output_loss: 0.0041 - derivs_loss: 0.0450\n",
      "Epoch 15/20\n",
      "256/256 [==============================] - 0s 1ms/step - loss: 0.0283 - output_loss: 0.0039 - derivs_loss: 0.0446\n",
      "Epoch 16/20\n",
      "256/256 [==============================] - 0s 1ms/step - loss: 0.0285 - output_loss: 0.0043 - derivs_loss: 0.0446\n",
      "Epoch 17/20\n",
      "256/256 [==============================] - 0s 2ms/step - loss: 0.0280 - output_loss: 0.0039 - derivs_loss: 0.0441\n",
      "Epoch 18/20\n",
      "256/256 [==============================] - 0s 2ms/step - loss: 0.0296 - output_loss: 0.0048 - derivs_loss: 0.0461\n",
      "Epoch 19/20\n",
      "256/256 [==============================] - 0s 1ms/step - loss: 0.0287 - output_loss: 0.0046 - derivs_loss: 0.0448\n",
      "Epoch 20/20\n",
      "256/256 [==============================] - 1s 2ms/step - loss: 0.0292 - output_loss: 0.0048 - derivs_loss: 0.0455\n"
     ]
    }
   ],
   "source": [
    "history = model.fit(\n",
    "    xTrain, [yTrain, dydxTrain], epochs=20\n",
    ")"
   ]
  },
  {
   "cell_type": "code",
   "execution_count": 1185,
   "metadata": {},
   "outputs": [],
   "source": [
    "yPred, dydxPred = model.predict(xTest)"
   ]
  },
  {
   "cell_type": "code",
   "execution_count": 1186,
   "metadata": {},
   "outputs": [
    {
     "data": {
      "text/plain": [
       "[<matplotlib.lines.Line2D at 0x1794233a0>]"
      ]
     },
     "execution_count": 1186,
     "metadata": {},
     "output_type": "execute_result"
    },
    {
     "data": {
      "image/png": "[encoded data removed]",
      "text/plain": [
       "<Figure size 432x288 with 1 Axes>"
      ]
     },
     "metadata": {
      "needs_background": "light"
     },
     "output_type": "display_data"
    }
   ],
   "source": [
    "import matplotlib.pyplot as plt\n",
    "plt.plot(dydxPred)\n",
    "plt.plot(dydxTest)"
   ]
  },
  {
   "cell_type": "code",
   "execution_count": 1187,
   "metadata": {},
   "outputs": [
    {
     "data": {
      "text/plain": [
       "[<matplotlib.lines.Line2D at 0x179489ba0>]"
      ]
     },
     "execution_count": 1187,
     "metadata": {},
     "output_type": "execute_result"
    },
    {
     "data": {
      "image/png": "[encoded data removed]",
      "text/plain": [
       "<Figure size 432x288 with 1 Axes>"
      ]
     },
     "metadata": {
      "needs_background": "light"
     },
     "output_type": "display_data"
    }
   ],
   "source": [
    "plt.plot(yPred)\n",
    "plt.plot(yTest)"
   ]
  }
 ],
 "metadata": {
  "interpreter": {
   "hash": "6314f1dd6a1867270512df5dbaf0da944fed172eba7544c32ea9917be2637492"
  },
  "kernelspec": {
   "display_name": "Python 3.10.2 ('thematrix')",
   "language": "python",
   "name": "python3"
  },
  "language_info": {
   "codemirror_mode": {
    "name": "ipython",
    "version": 3
   },
   "file_extension": ".py",
   "mimetype": "text/x-python",
   "name": "python",
   "nbconvert_exporter": "python",
   "pygments_lexer": "ipython3",
   "version": "3.10.2"
  },
  "orig_nbformat": 4
 },
 "nbformat": 4,
 "nbformat_minor": 2
}
