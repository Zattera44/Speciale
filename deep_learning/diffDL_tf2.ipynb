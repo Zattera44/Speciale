{
 "cells": [
  {
   "cell_type": "code",
   "execution_count": 66,
   "metadata": {},
   "outputs": [],
   "source": [
    "import tensorflow as tf\n",
    "from tensorflow import keras\n",
    "import numpy as np\n",
    "real_type = tf.float32"
   ]
  },
  {
   "cell_type": "code",
   "execution_count": 67,
   "metadata": {},
   "outputs": [],
   "source": [
    "class ForwardLayer(keras.layers.Layer):\n",
    "    def __init__(self, units, activation='softplus', **kwargs):\n",
    "        super().__init__(**kwargs)\n",
    "        self.units = units\n",
    "        self.activation = keras.activations.get(activation)\n",
    "\n",
    "    def build(self, batch_input_shape):\n",
    "        self.w = self.add_weight(\n",
    "            name = 'weights',\n",
    "            shape=(batch_input_shape[-1], self.units),\n",
    "            initializer=\"glorot_normal\",\n",
    "            trainable=True\n",
    "        )\n",
    "        self.b = self.add_weight(\n",
    "            name = 'bias',\n",
    "            shape=(self.units,), \n",
    "            initializer=\"zeros\", \n",
    "            trainable=True\n",
    "        )\n",
    "        super().build(batch_input_shape)\n",
    "\n",
    "    def call(self, inputs):\n",
    "        return self.activation(tf.matmul(inputs, self.w) + self.b)\n",
    "\n",
    "class BackpropLayer(keras.layers.Layer):\n",
    "    def __init__(self, units, twin: ForwardLayer, activation='sigmoid', **kwargs):\n",
    "        super().__init__(**kwargs)\n",
    "        self.twin = twin\n",
    "        self.units = self.twin.units\n",
    "        self.activation = keras.activations.get(activation)\n",
    "        self.built = twin.built\n",
    "\n",
    "    def build(self, batch_input_shape):\n",
    "        if not self.built:\n",
    "            self.twin.build(batch_input_shape)\n",
    "        self.built = True\n",
    "        super().build(batch_input_shape)\n",
    "\n",
    "    def call(self, inputs, zbar, last=False):\n",
    "        if last:\n",
    "            return tf.matmul(zbar, tf.transpose(self.twin.w))\n",
    "        else:\n",
    "            return tf.matmul(zbar, tf.transpose(self.twin.w)) * self.activation(inputs)\n",
    "\n",
    "class DeepNeuralNet(keras.Model):\n",
    "    def __init__(self, **kwargs):\n",
    "        super().__init__(**kwargs)\n",
    "        self.forward1 = ForwardLayer(units=5)\n",
    "        self.forward2 = ForwardLayer(units=3)\n",
    "        self.forward3 = ForwardLayer(units=1)\n",
    "        self.backprop1 = BackpropLayer(twin=self.forward3)\n",
    "        self.backprop2 = BackpropLayer(twin=self.forward2)\n",
    "        self.backprop3 = BackpropLayer(twin=self.forward1)\n",
    "\n",
    "    def call(self, inputs):\n",
    "        Z1 = self.forward1(inputs)\n",
    "        Z2 = self.forward2(Z1)\n",
    "        Y = self.forward3(Z2)\n",
    "        Z3_bar = tf.ones_like(Y, dtype=real_type)\n",
    "        Z2_bar = self.backprop1(inputs=Z2, zbar=Z3_bar)\n",
    "        Z1_bar = self.backprop2(inputs=Z1, zbar=Z2_bar)\n",
    "        Y_bar = self.backprop3(inputs=Z1, zbar=Z1_bar, last=True)\n",
    "        return Y, Y_bar"
   ]
  },
  {
   "cell_type": "code",
   "execution_count": 81,
   "metadata": {},
   "outputs": [
    {
     "name": "stdout",
     "output_type": "stream",
     "text": [
      "Model: \"deep_neural_net_18\"\n",
      "_________________________________________________________________\n",
      " Layer (type)                Output Shape              Param #   \n",
      "=================================================================\n",
      " forward_layer_58 (ForwardLa  multiple                 30        \n",
      " yer)                                                            \n",
      "                                                                 \n",
      " forward_layer_59 (ForwardLa  multiple                 18        \n",
      " yer)                                                            \n",
      "                                                                 \n",
      " forward_layer_60 (ForwardLa  multiple                 4         \n",
      " yer)                                                            \n",
      "                                                                 \n",
      " backprop_layer_58 (Backprop  multiple                 4         \n",
      " Layer)                                                          \n",
      "                                                                 \n",
      " backprop_layer_59 (Backprop  multiple                 18        \n",
      " Layer)                                                          \n",
      "                                                                 \n",
      " backprop_layer_60 (Backprop  multiple                 30        \n",
      " Layer)                                                          \n",
      "                                                                 \n",
      "=================================================================\n",
      "Total params: 52\n",
      "Trainable params: 52\n",
      "Non-trainable params: 0\n",
      "_________________________________________________________________\n"
     ]
    }
   ],
   "source": [
    "model = DeepNeuralNet()\n",
    "model.build(input_shape=(3,3))\n",
    "model.summary()"
   ]
  },
  {
   "cell_type": "code",
   "execution_count": 69,
   "metadata": {},
   "outputs": [],
   "source": [
    "testf = ForwardLayer(units=3)\n",
    "testb = BackpropLayer(twin=testf)"
   ]
  },
  {
   "cell_type": "code",
   "execution_count": 70,
   "metadata": {},
   "outputs": [
    {
     "data": {
      "text/plain": [
       "<tf.Tensor: shape=(2, 3), dtype=float32, numpy=\n",
       "array([[0.15079384, 0.6294772 , 1.6144779 ],\n",
       "       [0.15079384, 0.6294772 , 1.6144779 ]], dtype=float32)>"
      ]
     },
     "execution_count": 70,
     "metadata": {},
     "output_type": "execute_result"
    }
   ],
   "source": [
    "x = tf.ones((2,5))\n",
    "testf(x)"
   ]
  },
  {
   "cell_type": "code",
   "execution_count": 71,
   "metadata": {},
   "outputs": [
    {
     "data": {
      "text/plain": [
       "[<tf.Variable 'forward_layer_33/weights:0' shape=(5, 3) dtype=float32, numpy=\n",
       " array([[-0.3795917 ,  0.47555545,  0.4316404 ],\n",
       "        [-0.35289612,  0.18576394, -0.05235577],\n",
       "        [-0.9895086 , -0.12197417, -0.7805339 ],\n",
       "        [-0.07881267, -0.15414277,  1.1322336 ],\n",
       "        [-0.01468835, -0.5168736 ,  0.6616059 ]], dtype=float32)>,\n",
       " <tf.Variable 'forward_layer_33/bias:0' shape=(3,) dtype=float32, numpy=array([0., 0., 0.], dtype=float32)>]"
      ]
     },
     "execution_count": 71,
     "metadata": {},
     "output_type": "execute_result"
    }
   ],
   "source": [
    "testf.weights"
   ]
  },
  {
   "cell_type": "code",
   "execution_count": 72,
   "metadata": {},
   "outputs": [
    {
     "data": {
      "text/plain": [
       "[<tf.Variable 'forward_layer_33/weights:0' shape=(5, 3) dtype=float32, numpy=\n",
       " array([[-0.3795917 ,  0.47555545,  0.4316404 ],\n",
       "        [-0.35289612,  0.18576394, -0.05235577],\n",
       "        [-0.9895086 , -0.12197417, -0.7805339 ],\n",
       "        [-0.07881267, -0.15414277,  1.1322336 ],\n",
       "        [-0.01468835, -0.5168736 ,  0.6616059 ]], dtype=float32)>,\n",
       " <tf.Variable 'forward_layer_33/bias:0' shape=(3,) dtype=float32, numpy=array([0., 0., 0.], dtype=float32)>]"
      ]
     },
     "execution_count": 72,
     "metadata": {},
     "output_type": "execute_result"
    }
   ],
   "source": [
    "testb.weights"
   ]
  }
 ],
 "metadata": {
  "interpreter": {
   "hash": "6314f1dd6a1867270512df5dbaf0da944fed172eba7544c32ea9917be2637492"
  },
  "kernelspec": {
   "display_name": "Python 3.10.2 ('thematrix')",
   "language": "python",
   "name": "python3"
  },
  "language_info": {
   "codemirror_mode": {
    "name": "ipython",
    "version": 3
   },
   "file_extension": ".py",
   "mimetype": "text/x-python",
   "name": "python",
   "nbconvert_exporter": "python",
   "pygments_lexer": "ipython3",
   "version": "3.10.2"
  },
  "orig_nbformat": 4
 },
 "nbformat": 4,
 "nbformat_minor": 2
}
