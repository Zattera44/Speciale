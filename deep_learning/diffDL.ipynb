{
 "cells": [
  {
   "cell_type": "code",
   "execution_count": 2,
   "metadata": {},
   "outputs": [
    {
     "name": "stdout",
     "output_type": "stream",
     "text": [
      "The autoreload extension is already loaded. To reload it, use:\n",
      "  %reload_ext autoreload\n"
     ]
    }
   ],
   "source": [
    "%load_ext autoreload\n",
    "%autoreload 2\n",
    "\n",
    "import tensorflow as tf\n",
    "import numpy as np\n",
    "import matplotlib.pyplot as plt\n",
    "\n",
    "from diffNN import *\n",
    "\n",
    "import sys\n",
    "sys.path.insert(0, '/Users/tk/Documents/GitHub/Speciale/rBergomi')\n",
    "from rBergomi import roughBergomi"
   ]
  },
  {
   "cell_type": "code",
   "execution_count": 4,
   "metadata": {},
   "outputs": [
    {
     "data": {
      "application/vnd.jupyter.widget-view+json": {
       "model_id": "7995c1ec32d54c62bb04d3acb6ee92ed",
       "version_major": 2,
       "version_minor": 0
      },
      "text/plain": [
       "  0%|          | 0/100000 [00:00<?, ?it/s]"
      ]
     },
     "metadata": {},
     "output_type": "display_data"
    },
    {
     "name": "stderr",
     "output_type": "stream",
     "text": [
      "WARNING:absl:No GPU/TPU found, falling back to CPU. (Set TF_CPP_MIN_LOG_LEVEL=0 and rerun for more info.)\n"
     ]
    }
   ],
   "source": [
    "rB = roughBergomi()\n",
    "volterra, W, dW = rB.simulate_paths()\n",
    "V = rB.simulate_V(volterra)\n",
    "xTrain, yTrain, dydxTrain = rB.payoff_delta(V, dW)"
   ]
  },
  {
   "cell_type": "code",
   "execution_count": 5,
   "metadata": {},
   "outputs": [
    {
     "name": "stdout",
     "output_type": "stream",
     "text": [
      "Epoch 1/100\n",
      "16/16 [==============================] - 1s 8ms/step - loss: 1.6458 - output_loss: 0.8961 - derivs_loss: 0.7496\n",
      "Epoch 2/100\n",
      "16/16 [==============================] - 0s 8ms/step - loss: 1.3728 - output_loss: 0.8098 - derivs_loss: 0.5630\n",
      "Epoch 3/100\n",
      "16/16 [==============================] - 0s 8ms/step - loss: 1.2919 - output_loss: 0.7971 - derivs_loss: 0.4948\n",
      "Epoch 4/100\n",
      "16/16 [==============================] - 0s 9ms/step - loss: 1.2859 - output_loss: 0.7957 - derivs_loss: 0.4903\n",
      "Epoch 5/100\n",
      "16/16 [==============================] - 0s 8ms/step - loss: 1.2828 - output_loss: 0.7950 - derivs_loss: 0.4878\n",
      "Epoch 6/100\n",
      "16/16 [==============================] - 0s 8ms/step - loss: 1.2813 - output_loss: 0.7953 - derivs_loss: 0.4860\n",
      "Epoch 7/100\n",
      "16/16 [==============================] - 0s 8ms/step - loss: 1.2794 - output_loss: 0.7944 - derivs_loss: 0.4850\n",
      "Epoch 8/100\n",
      "16/16 [==============================] - 0s 8ms/step - loss: 1.2790 - output_loss: 0.7945 - derivs_loss: 0.4845\n",
      "Epoch 9/100\n",
      "16/16 [==============================] - 0s 9ms/step - loss: 1.2788 - output_loss: 0.7946 - derivs_loss: 0.4842\n",
      "Epoch 10/100\n",
      "16/16 [==============================] - 0s 8ms/step - loss: 1.2790 - output_loss: 0.7949 - derivs_loss: 0.4841\n",
      "Epoch 11/100\n",
      "16/16 [==============================] - 0s 8ms/step - loss: 1.2795 - output_loss: 0.7952 - derivs_loss: 0.4842\n",
      "Epoch 12/100\n",
      "16/16 [==============================] - 0s 8ms/step - loss: 1.2787 - output_loss: 0.7947 - derivs_loss: 0.4840\n",
      "Epoch 13/100\n",
      "16/16 [==============================] - 0s 8ms/step - loss: 1.2789 - output_loss: 0.7948 - derivs_loss: 0.4841\n",
      "Epoch 14/100\n",
      "16/16 [==============================] - 0s 9ms/step - loss: 1.2785 - output_loss: 0.7944 - derivs_loss: 0.4840\n",
      "Epoch 15/100\n",
      "16/16 [==============================] - 0s 8ms/step - loss: 1.2789 - output_loss: 0.7949 - derivs_loss: 0.4840\n",
      "Epoch 16/100\n",
      "16/16 [==============================] - 0s 8ms/step - loss: 1.2799 - output_loss: 0.7958 - derivs_loss: 0.4841\n",
      "Epoch 17/100\n",
      "16/16 [==============================] - 0s 8ms/step - loss: 1.2791 - output_loss: 0.7951 - derivs_loss: 0.4840\n",
      "Epoch 18/100\n",
      "16/16 [==============================] - 0s 8ms/step - loss: 1.2786 - output_loss: 0.7947 - derivs_loss: 0.4839\n",
      "Epoch 19/100\n",
      "16/16 [==============================] - 0s 8ms/step - loss: 1.2783 - output_loss: 0.7943 - derivs_loss: 0.4840\n",
      "Epoch 20/100\n",
      "16/16 [==============================] - 0s 9ms/step - loss: 1.2796 - output_loss: 0.7954 - derivs_loss: 0.4842\n",
      "Epoch 21/100\n",
      "16/16 [==============================] - 0s 8ms/step - loss: 1.2798 - output_loss: 0.7959 - derivs_loss: 0.4839\n",
      "Epoch 22/100\n",
      "16/16 [==============================] - 0s 8ms/step - loss: 1.2800 - output_loss: 0.7959 - derivs_loss: 0.4841\n",
      "Epoch 23/100\n",
      "16/16 [==============================] - 0s 8ms/step - loss: 1.2797 - output_loss: 0.7957 - derivs_loss: 0.4840\n",
      "Epoch 24/100\n",
      "16/16 [==============================] - 0s 8ms/step - loss: 1.2784 - output_loss: 0.7945 - derivs_loss: 0.4839\n",
      "Epoch 25/100\n",
      "16/16 [==============================] - 0s 8ms/step - loss: 1.2805 - output_loss: 0.7964 - derivs_loss: 0.4841\n",
      "Epoch 26/100\n",
      "16/16 [==============================] - 0s 8ms/step - loss: 1.2789 - output_loss: 0.7949 - derivs_loss: 0.4840\n",
      "Epoch 27/100\n",
      "16/16 [==============================] - 0s 8ms/step - loss: 1.2787 - output_loss: 0.7947 - derivs_loss: 0.4840\n",
      "Epoch 28/100\n",
      "16/16 [==============================] - 0s 8ms/step - loss: 1.2811 - output_loss: 0.7970 - derivs_loss: 0.4841\n",
      "Epoch 29/100\n",
      "16/16 [==============================] - 0s 8ms/step - loss: 1.2795 - output_loss: 0.7954 - derivs_loss: 0.4841\n",
      "Epoch 30/100\n",
      "16/16 [==============================] - 0s 9ms/step - loss: 1.2789 - output_loss: 0.7950 - derivs_loss: 0.4839\n",
      "Epoch 31/100\n",
      "16/16 [==============================] - 0s 8ms/step - loss: 1.2783 - output_loss: 0.7943 - derivs_loss: 0.4840\n",
      "Epoch 32/100\n",
      "16/16 [==============================] - 0s 9ms/step - loss: 1.2798 - output_loss: 0.7958 - derivs_loss: 0.4841\n",
      "Epoch 33/100\n",
      "16/16 [==============================] - 0s 8ms/step - loss: 1.2786 - output_loss: 0.7946 - derivs_loss: 0.4840\n",
      "Epoch 34/100\n",
      "16/16 [==============================] - 0s 8ms/step - loss: 1.2784 - output_loss: 0.7945 - derivs_loss: 0.4840\n",
      "Epoch 35/100\n",
      "16/16 [==============================] - 0s 8ms/step - loss: 1.2791 - output_loss: 0.7951 - derivs_loss: 0.4840\n",
      "Epoch 36/100\n",
      "16/16 [==============================] - 0s 8ms/step - loss: 1.2795 - output_loss: 0.7955 - derivs_loss: 0.4840\n",
      "Epoch 37/100\n",
      "16/16 [==============================] - 0s 8ms/step - loss: 1.2785 - output_loss: 0.7945 - derivs_loss: 0.4839\n",
      "Epoch 38/100\n",
      "16/16 [==============================] - 0s 8ms/step - loss: 1.2783 - output_loss: 0.7942 - derivs_loss: 0.4840\n",
      "Epoch 39/100\n",
      "16/16 [==============================] - 0s 8ms/step - loss: 1.2782 - output_loss: 0.7943 - derivs_loss: 0.4839\n",
      "Epoch 40/100\n",
      "16/16 [==============================] - 0s 8ms/step - loss: 1.2784 - output_loss: 0.7944 - derivs_loss: 0.4840\n",
      "Epoch 41/100\n",
      "16/16 [==============================] - 0s 8ms/step - loss: 1.2796 - output_loss: 0.7956 - derivs_loss: 0.4840\n",
      "Epoch 42/100\n",
      "16/16 [==============================] - 0s 8ms/step - loss: 1.2786 - output_loss: 0.7947 - derivs_loss: 0.4839\n",
      "Epoch 43/100\n",
      "16/16 [==============================] - 0s 8ms/step - loss: 1.2791 - output_loss: 0.7950 - derivs_loss: 0.4841\n",
      "Epoch 44/100\n",
      "16/16 [==============================] - 0s 9ms/step - loss: 1.2798 - output_loss: 0.7955 - derivs_loss: 0.4843\n",
      "Epoch 45/100\n",
      "16/16 [==============================] - 0s 8ms/step - loss: 1.2783 - output_loss: 0.7945 - derivs_loss: 0.4838\n",
      "Epoch 46/100\n",
      "16/16 [==============================] - 0s 8ms/step - loss: 1.2785 - output_loss: 0.7946 - derivs_loss: 0.4839\n",
      "Epoch 47/100\n",
      "16/16 [==============================] - 0s 8ms/step - loss: 1.2787 - output_loss: 0.7947 - derivs_loss: 0.4840\n",
      "Epoch 48/100\n",
      "16/16 [==============================] - 0s 9ms/step - loss: 1.2791 - output_loss: 0.7951 - derivs_loss: 0.4839\n",
      "Epoch 49/100\n",
      "16/16 [==============================] - 0s 8ms/step - loss: 1.2800 - output_loss: 0.7958 - derivs_loss: 0.4842\n",
      "Epoch 50/100\n",
      "16/16 [==============================] - 0s 7ms/step - loss: 1.2789 - output_loss: 0.7949 - derivs_loss: 0.4839\n",
      "Epoch 51/100\n",
      "16/16 [==============================] - 0s 8ms/step - loss: 1.2788 - output_loss: 0.7947 - derivs_loss: 0.4842\n",
      "Epoch 52/100\n",
      "16/16 [==============================] - 0s 8ms/step - loss: 1.2788 - output_loss: 0.7949 - derivs_loss: 0.4839\n",
      "Epoch 53/100\n",
      "16/16 [==============================] - 0s 8ms/step - loss: 1.2793 - output_loss: 0.7953 - derivs_loss: 0.4841\n",
      "Epoch 54/100\n",
      "16/16 [==============================] - 0s 8ms/step - loss: 1.2784 - output_loss: 0.7945 - derivs_loss: 0.4839\n",
      "Epoch 55/100\n",
      "16/16 [==============================] - 0s 8ms/step - loss: 1.2787 - output_loss: 0.7948 - derivs_loss: 0.4838\n",
      "Epoch 56/100\n",
      "16/16 [==============================] - 0s 8ms/step - loss: 1.2782 - output_loss: 0.7944 - derivs_loss: 0.4839\n",
      "Epoch 57/100\n",
      "16/16 [==============================] - 0s 8ms/step - loss: 1.2782 - output_loss: 0.7944 - derivs_loss: 0.4838\n",
      "Epoch 58/100\n",
      "16/16 [==============================] - 0s 8ms/step - loss: 1.2785 - output_loss: 0.7946 - derivs_loss: 0.4839\n",
      "Epoch 59/100\n",
      "16/16 [==============================] - 0s 8ms/step - loss: 1.2798 - output_loss: 0.7958 - derivs_loss: 0.4840\n",
      "Epoch 60/100\n",
      "16/16 [==============================] - 0s 8ms/step - loss: 1.2786 - output_loss: 0.7946 - derivs_loss: 0.4839\n",
      "Epoch 61/100\n",
      "16/16 [==============================] - 0s 8ms/step - loss: 1.2791 - output_loss: 0.7949 - derivs_loss: 0.4842\n",
      "Epoch 62/100\n",
      "16/16 [==============================] - 0s 8ms/step - loss: 1.2788 - output_loss: 0.7948 - derivs_loss: 0.4839\n",
      "Epoch 63/100\n",
      "16/16 [==============================] - 0s 9ms/step - loss: 1.2782 - output_loss: 0.7943 - derivs_loss: 0.4839\n",
      "Epoch 64/100\n",
      "16/16 [==============================] - 0s 9ms/step - loss: 1.2792 - output_loss: 0.7952 - derivs_loss: 0.4840\n",
      "Epoch 65/100\n",
      "16/16 [==============================] - 0s 9ms/step - loss: 1.2795 - output_loss: 0.7956 - derivs_loss: 0.4840\n",
      "Epoch 66/100\n",
      "16/16 [==============================] - 0s 8ms/step - loss: 1.2793 - output_loss: 0.7951 - derivs_loss: 0.4842\n",
      "Epoch 67/100\n",
      "16/16 [==============================] - 0s 9ms/step - loss: 1.2797 - output_loss: 0.7956 - derivs_loss: 0.4842\n",
      "Epoch 68/100\n",
      "16/16 [==============================] - 0s 10ms/step - loss: 1.2790 - output_loss: 0.7951 - derivs_loss: 0.4839\n",
      "Epoch 69/100\n",
      "16/16 [==============================] - 0s 8ms/step - loss: 1.2792 - output_loss: 0.7952 - derivs_loss: 0.4839\n",
      "Epoch 70/100\n",
      "16/16 [==============================] - 0s 9ms/step - loss: 1.2788 - output_loss: 0.7949 - derivs_loss: 0.4839\n",
      "Epoch 71/100\n",
      "16/16 [==============================] - 0s 8ms/step - loss: 1.2783 - output_loss: 0.7945 - derivs_loss: 0.4839\n",
      "Epoch 72/100\n",
      "16/16 [==============================] - 0s 8ms/step - loss: 1.2780 - output_loss: 0.7942 - derivs_loss: 0.4838\n",
      "Epoch 73/100\n",
      "16/16 [==============================] - 0s 8ms/step - loss: 1.2804 - output_loss: 0.7963 - derivs_loss: 0.4841\n",
      "Epoch 74/100\n",
      "16/16 [==============================] - 0s 9ms/step - loss: 1.2784 - output_loss: 0.7946 - derivs_loss: 0.4838\n",
      "Epoch 75/100\n",
      "16/16 [==============================] - 0s 8ms/step - loss: 1.2790 - output_loss: 0.7950 - derivs_loss: 0.4840\n",
      "Epoch 76/100\n",
      "16/16 [==============================] - 0s 9ms/step - loss: 1.2791 - output_loss: 0.7950 - derivs_loss: 0.4841\n",
      "Epoch 77/100\n",
      "16/16 [==============================] - 0s 8ms/step - loss: 1.2788 - output_loss: 0.7949 - derivs_loss: 0.4839\n",
      "Epoch 78/100\n",
      "16/16 [==============================] - 0s 9ms/step - loss: 1.2783 - output_loss: 0.7944 - derivs_loss: 0.4839\n",
      "Epoch 79/100\n",
      "16/16 [==============================] - 0s 9ms/step - loss: 1.2782 - output_loss: 0.7943 - derivs_loss: 0.4839\n",
      "Epoch 80/100\n",
      "16/16 [==============================] - 0s 9ms/step - loss: 1.2790 - output_loss: 0.7951 - derivs_loss: 0.4839\n",
      "Epoch 81/100\n",
      "16/16 [==============================] - 0s 9ms/step - loss: 1.2806 - output_loss: 0.7964 - derivs_loss: 0.4841\n",
      "Epoch 82/100\n",
      "16/16 [==============================] - 0s 9ms/step - loss: 1.2790 - output_loss: 0.7952 - derivs_loss: 0.4838\n",
      "Epoch 83/100\n",
      "16/16 [==============================] - 0s 8ms/step - loss: 1.2792 - output_loss: 0.7953 - derivs_loss: 0.4839\n",
      "Epoch 84/100\n",
      "16/16 [==============================] - 0s 8ms/step - loss: 1.2794 - output_loss: 0.7954 - derivs_loss: 0.4840\n",
      "Epoch 85/100\n",
      "16/16 [==============================] - 0s 9ms/step - loss: 1.2783 - output_loss: 0.7945 - derivs_loss: 0.4838\n",
      "Epoch 86/100\n",
      "16/16 [==============================] - 0s 8ms/step - loss: 1.2783 - output_loss: 0.7945 - derivs_loss: 0.4838\n",
      "Epoch 87/100\n",
      "16/16 [==============================] - 0s 9ms/step - loss: 1.2782 - output_loss: 0.7943 - derivs_loss: 0.4839\n",
      "Epoch 88/100\n",
      "16/16 [==============================] - 0s 9ms/step - loss: 1.2784 - output_loss: 0.7945 - derivs_loss: 0.4839\n",
      "Epoch 89/100\n",
      "16/16 [==============================] - 0s 8ms/step - loss: 1.2787 - output_loss: 0.7948 - derivs_loss: 0.4839\n",
      "Epoch 90/100\n",
      "16/16 [==============================] - 0s 8ms/step - loss: 1.2785 - output_loss: 0.7946 - derivs_loss: 0.4839\n",
      "Epoch 91/100\n",
      "16/16 [==============================] - 0s 9ms/step - loss: 1.2786 - output_loss: 0.7946 - derivs_loss: 0.4840\n",
      "Epoch 92/100\n",
      "16/16 [==============================] - 0s 8ms/step - loss: 1.2784 - output_loss: 0.7945 - derivs_loss: 0.4839\n",
      "Epoch 93/100\n",
      "16/16 [==============================] - 0s 9ms/step - loss: 1.2787 - output_loss: 0.7946 - derivs_loss: 0.4841\n",
      "Epoch 94/100\n",
      "16/16 [==============================] - 0s 8ms/step - loss: 1.2801 - output_loss: 0.7957 - derivs_loss: 0.4843\n",
      "Epoch 95/100\n",
      "16/16 [==============================] - 0s 9ms/step - loss: 1.2808 - output_loss: 0.7966 - derivs_loss: 0.4842\n",
      "Epoch 96/100\n",
      "16/16 [==============================] - 0s 8ms/step - loss: 1.2794 - output_loss: 0.7953 - derivs_loss: 0.4841\n",
      "Epoch 97/100\n",
      "16/16 [==============================] - 0s 9ms/step - loss: 1.2783 - output_loss: 0.7944 - derivs_loss: 0.4839\n",
      "Epoch 98/100\n",
      "16/16 [==============================] - 0s 9ms/step - loss: 1.2787 - output_loss: 0.7948 - derivs_loss: 0.4839\n",
      "Epoch 99/100\n",
      "16/16 [==============================] - 0s 9ms/step - loss: 1.2789 - output_loss: 0.7950 - derivs_loss: 0.4839\n",
      "Epoch 100/100\n",
      "16/16 [==============================] - 0s 9ms/step - loss: 1.2782 - output_loss: 0.7943 - derivs_loss: 0.4839\n"
     ]
    }
   ],
   "source": [
    "model = create_graph()\n",
    "\n",
    "n_epochs = 100 \n",
    "size = rB.n_paths #2 ** 16\n",
    "batch_size = int(max(256, size // 16))\n",
    "\n",
    "#rB = roughBergomi(n_paths = size)\n",
    "#volterra, W, dW = rB.simulate_paths()\n",
    "#V = rB.simulate_V(volterra)\n",
    "#xTrain, yTrain, dydxTrain = rB.payoff_delta(V, dW)\n",
    "\n",
    "x_mean, x_std, x, y_mean, y_std, y, dydx, lambda_j = normalize_data(xTrain, yTrain, dydxTrain)\n",
    "\n",
    "optimizer = tf.keras.optimizers.Adam(learning_rate=LRSchedule(n_epochs, size, batch_size))\n",
    "model.compile(loss=['mse', create_derivsLoss(lambda_j)], optimizer=optimizer)\n",
    "\n",
    "history = model.fit(\n",
    "    x, [y, dydx], epochs=n_epochs, batch_size = batch_size, verbose = 0\n",
    ")"
   ]
  },
  {
   "cell_type": "code",
   "execution_count": 17,
   "metadata": {},
   "outputs": [],
   "source": [
    "xTest = np.linspace(0.35, 1.65, 100).reshape((-1, 1))\n",
    "\n",
    "\n",
    "x_scaled = (xTest - x_mean) / x_std\n",
    "y_scaled, dydx_scaled = model.predict(x_scaled)\n",
    "yPred = y_mean + y_std * y_scaled\n",
    "dydxPred = y_std / x_std * dydx_scaled"
   ]
  },
  {
   "cell_type": "code",
   "execution_count": 22,
   "metadata": {},
   "outputs": [
    {
     "data": {
      "text/plain": [
       "[<matplotlib.lines.Line2D at 0x161f8a110>]"
      ]
     },
     "execution_count": 22,
     "metadata": {},
     "output_type": "execute_result"
    },
    {
     "data": {
      "image/png": "[encoded data removed]",
      "text/plain": [
       "<Figure size 432x288 with 1 Axes>"
      ]
     },
     "metadata": {
      "needs_background": "light"
     },
     "output_type": "display_data"
    }
   ],
   "source": [
    "plt.plot(xTest, yPred)"
   ]
  },
  {
   "cell_type": "code",
   "execution_count": 21,
   "metadata": {},
   "outputs": [
    {
     "data": {
      "text/plain": [
       "[<matplotlib.lines.Line2D at 0x161ffb880>]"
      ]
     },
     "execution_count": 21,
     "metadata": {},
     "output_type": "execute_result"
    },
    {
     "data": {
      "image/png": "[encoded data removed]",
      "text/plain": [
       "<Figure size 432x288 with 1 Axes>"
      ]
     },
     "metadata": {
      "needs_background": "light"
     },
     "output_type": "display_data"
    }
   ],
   "source": [
    "plt.plot(xTest,dydxPred)"
   ]
  },
  {
   "cell_type": "code",
   "execution_count": 25,
   "metadata": {},
   "outputs": [
    {
     "name": "stderr",
     "output_type": "stream",
     "text": [
      "/var/folders/8r/_6h7xydd2wg1psfgy9ff5sfr0000gn/T/ipykernel_27717/1448377362.py:8: UserWarning: color is redundantly defined by the 'color' keyword argument and the fmt string \"co\" (-> color='c'). The keyword argument will take precedence.\n",
      "  ax[0,0].plot(spots,dydxPred, 'co', markersize=2, color='red', label='Predicted')\n",
      "/var/folders/8r/_6h7xydd2wg1psfgy9ff5sfr0000gn/T/ipykernel_27717/1448377362.py:11: UserWarning: color is redundantly defined by the 'color' keyword argument and the fmt string \"co\" (-> color='c'). The keyword argument will take precedence.\n",
      "  ax[0,1].plot(spots,yPred*100, 'co', markersize=2, color='red', label='Predicted')\n"
     ]
    },
    {
     "data": {
      "image/png": "[encoded data removed]",
      "text/plain": [
       "<Figure size 855x360 with 2 Axes>"
      ]
     },
     "metadata": {
      "needs_background": "light"
     },
     "output_type": "display_data"
    }
   ],
   "source": [
    "spots = np.linspace(35, 165, 100).reshape((-1, 1))\n",
    "\n",
    "fig, ax = plt.subplots(1, 2, squeeze=False, dpi=90)\n",
    "fig.set_size_inches(9.5, 4)\n",
    "\n",
    "ax[0,0].plot(spots,dydxPred, 'co', markersize=2, color='red', label='Predicted')\n",
    "ax[0,0].plot(spots,dydxTest, color='blue', label='Target')\n",
    "\n",
    "ax[0,1].plot(spots,yPred*100, 'co', markersize=2, color='red', label='Predicted')\n",
    "ax[0,1].plot(spots,yTest*100, color='blue', label='Target')\n",
    "\n",
    "ax[0,0].set_ylabel(\"Delta\")\n",
    "ax[0,1].set_ylabel(\"Price\")\n",
    "\n",
    "ax[0,0].set_xlabel(\"Spot\")\n",
    "ax[0,1].set_xlabel(\"Spot\")\n",
    "\n",
    "errors = 100 * (dydxPred - dydxTest)\n",
    "rmse = np.sqrt((errors ** 2).mean(axis=0))\n",
    "\n",
    "t = \"RMSE = %.2f\" % rmse\n",
    "\n",
    "ax[0,0].set_title(t)\n",
    "\n",
    "errors = 100 * (yPred - yTest)\n",
    "rmse = np.sqrt((errors ** 2).mean(axis=0)); rmse\n",
    "\n",
    "t = \"RMSE = %.2f\" % rmse\n",
    "\n",
    "ax[0,1].set_title(t)\n",
    "\n",
    "t = \"Size = %.0f\" % size\n",
    "\n",
    "plt.suptitle(t)\n",
    "\n",
    "ax[0,0].legend()\n",
    "\n",
    "plt.show()"
   ]
  }
 ],
 "metadata": {
  "interpreter": {
   "hash": "6314f1dd6a1867270512df5dbaf0da944fed172eba7544c32ea9917be2637492"
  },
  "kernelspec": {
   "display_name": "Python 3.10.2 ('thematrix')",
   "language": "python",
   "name": "python3"
  },
  "language_info": {
   "codemirror_mode": {
    "name": "ipython",
    "version": 3
   },
   "file_extension": ".py",
   "mimetype": "text/x-python",
   "name": "python",
   "nbconvert_exporter": "python",
   "pygments_lexer": "ipython3",
   "version": "3.10.2"
  },
  "orig_nbformat": 4
 },
 "nbformat": 4,
 "nbformat_minor": 2
}
