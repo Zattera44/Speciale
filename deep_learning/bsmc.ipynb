{
 "cells": [
  {
   "cell_type": "code",
   "execution_count": 121,
   "metadata": {},
   "outputs": [],
   "source": [
    "import numpy as np\n",
    "import matplotlib.pyplot as plt\n",
    "from scipy.stats import norm"
   ]
  },
  {
   "cell_type": "code",
   "execution_count": 122,
   "metadata": {},
   "outputs": [],
   "source": [
    "def bsmc(spot, m=2**16, vol = 0.2, T = 1, strike = 1.1):\n",
    "    returns = np.random.normal(size=[m, 1])\n",
    "    R = np.exp(-0.5*vol*vol*T \\\n",
    "                + vol*np.sqrt(T)*returns)\n",
    "    S = spot * R \n",
    "    pay = np.maximum(0, S - strike)\n",
    "    return np.mean(pay)\n",
    "\n",
    "def bsPrice(spot, strike = 1.1, vol = 0.2, T = 1):\n",
    "    d1 = (np.log(spot/strike) + 0.5 * vol * vol * T) / vol / np.sqrt(T)\n",
    "    d2 = d1 - vol * np.sqrt(T)\n",
    "    return spot * norm.cdf(d1) - strike * norm.cdf(d2)"
   ]
  },
  {
   "cell_type": "code",
   "execution_count": 123,
   "metadata": {},
   "outputs": [],
   "source": [
    "spots = np.linspace(0.35, 1.65, 100)\n",
    "\n",
    "mc, form = [], []\n",
    "for spot in spots:\n",
    "    mc.append(bsmc(spot))\n",
    "    form.append(bsPrice(spot))"
   ]
  },
  {
   "cell_type": "code",
   "execution_count": 124,
   "metadata": {},
   "outputs": [],
   "source": [
    "form = np.array(form); mc = np.array(mc)\n",
    "errors = (form-mc) * 100\n",
    "rmse = np.mean(errors**2)"
   ]
  },
  {
   "cell_type": "code",
   "execution_count": 125,
   "metadata": {},
   "outputs": [
    {
     "data": {
      "image/png": "[encoded data removed]",
      "text/plain": [
       "<Figure size 432x288 with 1 Axes>"
      ]
     },
     "metadata": {
      "needs_background": "light"
     },
     "output_type": "display_data"
    }
   ],
   "source": [
    "plt.plot(100*spots, 100*mc, 'r', label = 'Monte Carlo')\n",
    "plt.plot(100*spots, 100*form, 'b', label = 'Formula')\n",
    "plt.xlabel('Spot')\n",
    "plt.ylabel('Price')\n",
    "plt.title('RMSE = {}'.format(rmse))\n",
    "plt.legend()\n",
    "plt.grid(True)"
   ]
  },
  {
   "cell_type": "code",
   "execution_count": null,
   "metadata": {},
   "outputs": [],
   "source": [
    "Noget med mimic af Heston kurve blablabla"
   ]
  }
 ],
 "metadata": {
  "interpreter": {
   "hash": "6314f1dd6a1867270512df5dbaf0da944fed172eba7544c32ea9917be2637492"
  },
  "kernelspec": {
   "display_name": "Python 3.10.2 ('thematrix')",
   "language": "python",
   "name": "python3"
  },
  "language_info": {
   "codemirror_mode": {
    "name": "ipython",
    "version": 3
   },
   "file_extension": ".py",
   "mimetype": "text/x-python",
   "name": "python",
   "nbconvert_exporter": "python",
   "pygments_lexer": "ipython3",
   "version": "3.10.2"
  },
  "orig_nbformat": 4
 },
 "nbformat": 4,
 "nbformat_minor": 2
}
