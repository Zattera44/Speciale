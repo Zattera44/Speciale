{
 "cells": [
  {
   "cell_type": "code",
   "execution_count": 3,
   "metadata": {},
   "outputs": [],
   "source": [
    "import numpy as np\n",
    "import scipy.special\n",
    "from itertools import product\n",
    "\n",
    "T = 1; H = 0.07; steps = 100; npaths = 100000; xi = 0.235**2; eta = 1.9\n",
    "\n",
    "t = np.linspace(T/steps,T,steps)\n",
    "\n",
    "v, u = np.zeros(pow(steps,2)), np.zeros(pow(steps,2))\n",
    "\n",
    "k = 0\n",
    "for i in product(t, t):\n",
    "    v[k], u[k] = i\n",
    "    k = k + 1\n",
    "\n",
    "index_matrix = np.reshape(np.minimum(v,u),(steps,steps))\n",
    "\n",
    "def G(H, x):\n",
    "    F = scipy.special.hyp2f1(1.0,0.5-H,1.5+H,1.0/x)\n",
    "    return (2*H*(x**(H-0.5))*scipy.special.gamma(0.5+H)*F)/scipy.special.gamma(H+1.5)\n",
    "\n",
    "WW = np.zeros((steps,steps))\n",
    "WZ = np.zeros((steps,steps))\n",
    "\n",
    "ZZ = index_matrix\n",
    "\n",
    "D = np.sqrt(2.0*H)/(H+0.5)\n",
    "\n",
    "i = 0\n",
    "for v in t:\n",
    "    j = 0\n",
    "    for u in t:\n",
    "        if i == j:\n",
    "            WW[i,j] = u**(2.0*H)\n",
    "        if i > j:\n",
    "            x = v/u\n",
    "            WW[i,j] = u**(2.0*H)*G(H,x)\n",
    "        if i < j:\n",
    "            WW[i,j] = 0\n",
    "        WZ[i,j] = D * (v**(H+0.5)-(v-np.minimum(u,v))**(H+0.5))\n",
    "        j += 1\n",
    "    i += 1\n",
    "\n",
    "WW = WW + WW.T - np.diag(WW.diagonal())\n",
    "\n",
    "cov = np.block([[WW, WZ],[WZ.T, ZZ]])\n",
    "\n",
    "mean = np.zeros(steps*2)\n",
    "\n",
    "#A = scipy.linalg.cholesky(cov, lower=True)\n",
    "#normal = np.random.randn(steps*2,npaths)\n",
    "#paths = np.matmul(A, normal)\n",
    "\n",
    "paths = np.random.multivariate_normal(mean=mean,cov=cov, size=npaths)"
   ]
  },
  {
   "cell_type": "code",
   "execution_count": 4,
   "metadata": {},
   "outputs": [
    {
     "data": {
      "text/plain": [
       "(100000, 200)"
      ]
     },
     "execution_count": 4,
     "metadata": {},
     "output_type": "execute_result"
    }
   ],
   "source": [
    "paths.shape"
   ]
  },
  {
   "cell_type": "code",
   "execution_count": 5,
   "metadata": {},
   "outputs": [
    {
     "data": {
      "text/plain": [
       "(100, 100000)"
      ]
     },
     "execution_count": 5,
     "metadata": {},
     "output_type": "execute_result"
    }
   ],
   "source": [
    "paths[:,:steps].T.shape"
   ]
  },
  {
   "cell_type": "code",
   "execution_count": null,
   "metadata": {},
   "outputs": [],
   "source": []
  }
 ],
 "metadata": {
  "interpreter": {
   "hash": "6314f1dd6a1867270512df5dbaf0da944fed172eba7544c32ea9917be2637492"
  },
  "kernelspec": {
   "display_name": "Python 3.10.2 ('thematrix')",
   "language": "python",
   "name": "python3"
  },
  "language_info": {
   "codemirror_mode": {
    "name": "ipython",
    "version": 3
   },
   "file_extension": ".py",
   "mimetype": "text/x-python",
   "name": "python",
   "nbconvert_exporter": "python",
   "pygments_lexer": "ipython3",
   "version": "3.10.2"
  },
  "orig_nbformat": 4
 },
 "nbformat": 4,
 "nbformat_minor": 2
}
