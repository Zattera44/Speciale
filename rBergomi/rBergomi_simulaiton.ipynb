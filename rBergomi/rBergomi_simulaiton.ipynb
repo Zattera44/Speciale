{
 "cells": [
  {
   "cell_type": "code",
   "execution_count": 135,
   "metadata": {},
   "outputs": [
    {
     "name": "stdout",
     "output_type": "stream",
     "text": [
      "The autoreload extension is already loaded. To reload it, use:\n",
      "  %reload_ext autoreload\n"
     ]
    }
   ],
   "source": [
    "%load_ext autoreload\n",
    "%autoreload 2"
   ]
  },
  {
   "cell_type": "code",
   "execution_count": 136,
   "metadata": {},
   "outputs": [],
   "source": [
    "from rBergomi import rBergomi\n",
    "import numpy as np\n",
    "import matplotlib.pyplot as plt"
   ]
  },
  {
   "cell_type": "code",
   "execution_count": 137,
   "metadata": {},
   "outputs": [],
   "source": [
    "model1 = rBergomi(nsteps = 100, npaths = 10000, T = 1.0, H = 0.1, eta=1, rho=-0.9, alpha=-0.43, hybrid=False)"
   ]
  },
  {
   "cell_type": "code",
   "execution_count": 138,
   "metadata": {},
   "outputs": [],
   "source": [
    "idx = model1.t\n",
    "v, u = np.zeros(pow(model1.s,2)), np.zeros(pow(model1.s,2))\n",
    "\n",
    "k = 0\n",
    "for i in product(idx, idx):\n",
    "    v[k], u[k] = i\n",
    "    k = k + 1"
   ]
  },
  {
   "cell_type": "code",
   "execution_count": 139,
   "metadata": {},
   "outputs": [
    {
     "data": {
      "text/plain": [
       "array([0., 0., 0., ..., 1., 1., 1.])"
      ]
     },
     "execution_count": 139,
     "metadata": {},
     "output_type": "execute_result"
    }
   ],
   "source": [
    "v"
   ]
  },
  {
   "cell_type": "code",
   "execution_count": 130,
   "metadata": {},
   "outputs": [
    {
     "data": {
      "text/plain": [
       "(200, 200)"
      ]
     },
     "execution_count": 130,
     "metadata": {},
     "output_type": "execute_result"
    }
   ],
   "source": [
    "model1.joint_cov().shape"
   ]
  },
  {
   "cell_type": "code",
   "execution_count": 125,
   "metadata": {},
   "outputs": [
    {
     "data": {
      "text/plain": [
       "(100, 10000)"
      ]
     },
     "execution_count": 125,
     "metadata": {},
     "output_type": "execute_result"
    }
   ],
   "source": [
    "Y1.shape"
   ]
  },
  {
   "cell_type": "code",
   "execution_count": 128,
   "metadata": {},
   "outputs": [
    {
     "data": {
      "text/plain": [
       "(100, 1)"
      ]
     },
     "execution_count": 128,
     "metadata": {},
     "output_type": "execute_result"
    }
   ],
   "source": [
    "vY2.shape"
   ]
  },
  {
   "cell_type": "code",
   "execution_count": 126,
   "metadata": {},
   "outputs": [],
   "source": [
    "vY1 = model1.t_hybrid**(2*model1.alpha + 1) # Known variance\n",
    "vY2 = np.var(Y1, axis=1, keepdims=True) # Observed variance"
   ]
  },
  {
   "cell_type": "code",
   "execution_count": 119,
   "metadata": {},
   "outputs": [
    {
     "data": {
      "text/plain": [
       "array([[0.03312775],\n",
       "       [0.03807187],\n",
       "       [0.04140109],\n",
       "       [0.04419802],\n",
       "       [0.04551142],\n",
       "       [0.04770697],\n",
       "       [0.04909136],\n",
       "       [0.0505499 ],\n",
       "       [0.0517644 ],\n",
       "       [0.05258123],\n",
       "       [0.05397628],\n",
       "       [0.05418241],\n",
       "       [0.05489748],\n",
       "       [0.05635308],\n",
       "       [0.05690466],\n",
       "       [0.05769025],\n",
       "       [0.05634295],\n",
       "       [0.05979562],\n",
       "       [0.05952396],\n",
       "       [0.06079205],\n",
       "       [0.06041085],\n",
       "       [0.06115538],\n",
       "       [0.06232396],\n",
       "       [0.06266961],\n",
       "       [0.06342313],\n",
       "       [0.06355712],\n",
       "       [0.06496593],\n",
       "       [0.06400596],\n",
       "       [0.06516269],\n",
       "       [0.06486012],\n",
       "       [0.06589645],\n",
       "       [0.06638013],\n",
       "       [0.06691962],\n",
       "       [0.06743403],\n",
       "       [0.06729715],\n",
       "       [0.068589  ],\n",
       "       [0.06869638],\n",
       "       [0.0683667 ],\n",
       "       [0.06894556],\n",
       "       [0.06938708],\n",
       "       [0.07128905],\n",
       "       [0.07089402],\n",
       "       [0.071424  ],\n",
       "       [0.07197818],\n",
       "       [0.07192122],\n",
       "       [0.07270054],\n",
       "       [0.072004  ],\n",
       "       [0.07376386],\n",
       "       [0.07043934],\n",
       "       [0.07284438],\n",
       "       [0.07208623],\n",
       "       [0.07207981],\n",
       "       [0.07087233],\n",
       "       [0.07382297],\n",
       "       [0.07335717],\n",
       "       [0.07533581],\n",
       "       [0.0744517 ],\n",
       "       [0.07386396],\n",
       "       [0.07466422],\n",
       "       [0.07450668],\n",
       "       [0.0757765 ],\n",
       "       [0.07696693],\n",
       "       [0.07647501],\n",
       "       [0.07639736],\n",
       "       [0.07728049],\n",
       "       [0.07873964],\n",
       "       [0.07702702],\n",
       "       [0.07813886],\n",
       "       [0.07845828],\n",
       "       [0.07787812],\n",
       "       [0.07921061],\n",
       "       [0.0792818 ],\n",
       "       [0.07790048],\n",
       "       [0.07823725],\n",
       "       [0.07822645],\n",
       "       [0.07840162],\n",
       "       [0.07862345],\n",
       "       [0.07919073],\n",
       "       [0.07868691],\n",
       "       [0.07818459],\n",
       "       [0.079016  ],\n",
       "       [0.0800871 ],\n",
       "       [0.07915371],\n",
       "       [0.07939944],\n",
       "       [0.08094756],\n",
       "       [0.08107635],\n",
       "       [0.08052439],\n",
       "       [0.08094243],\n",
       "       [0.08243059],\n",
       "       [0.08256182],\n",
       "       [0.08103133],\n",
       "       [0.08030389],\n",
       "       [0.08092234],\n",
       "       [0.08167466],\n",
       "       [0.08220486],\n",
       "       [0.08252246],\n",
       "       [0.08359695],\n",
       "       [0.08258723],\n",
       "       [0.0824096 ],\n",
       "       [0.08317008]])"
      ]
     },
     "execution_count": 119,
     "metadata": {},
     "output_type": "execute_result"
    }
   ],
   "source": [
    "vY2"
   ]
  },
  {
   "cell_type": "code",
   "execution_count": 117,
   "metadata": {},
   "outputs": [
    {
     "ename": "IndexError",
     "evalue": "too many indices for array: array is 1-dimensional, but 2 were indexed",
     "output_type": "error",
     "traceback": [
      "\u001b[0;31m---------------------------------------------------------------------------\u001b[0m",
      "\u001b[0;31mIndexError\u001b[0m                                Traceback (most recent call last)",
      "\u001b[1;32m/Users/tk/Documents/GitHub/Speciale/rBergomi/rBergomi_simulaiton.ipynb Cell 8'\u001b[0m in \u001b[0;36m<module>\u001b[0;34m\u001b[0m\n\u001b[1;32m      <a href='vscode-notebook-cell:/Users/tk/Documents/GitHub/Speciale/rBergomi/rBergomi_simulaiton.ipynb#ch0000005?line=0'>1</a>\u001b[0m plot, axes \u001b[39m=\u001b[39m plt\u001b[39m.\u001b[39msubplots()\n\u001b[0;32m----> <a href='vscode-notebook-cell:/Users/tk/Documents/GitHub/Speciale/rBergomi/rBergomi_simulaiton.ipynb#ch0000005?line=1'>2</a>\u001b[0m axes\u001b[39m.\u001b[39mplot(model1\u001b[39m.\u001b[39;49mt[\u001b[39m0\u001b[39;49m,:], vY1[\u001b[39m0\u001b[39m,:], \u001b[39m'\u001b[39m\u001b[39mg\u001b[39m\u001b[39m'\u001b[39m)\n\u001b[1;32m      <a href='vscode-notebook-cell:/Users/tk/Documents/GitHub/Speciale/rBergomi/rBergomi_simulaiton.ipynb#ch0000005?line=2'>3</a>\u001b[0m axes\u001b[39m.\u001b[39mplot(model1\u001b[39m.\u001b[39mt[\u001b[39m0\u001b[39m,:], vY2[\u001b[39m0\u001b[39m,:], \u001b[39m'\u001b[39m\u001b[39mr\u001b[39m\u001b[39m'\u001b[39m)\n\u001b[1;32m      <a href='vscode-notebook-cell:/Users/tk/Documents/GitHub/Speciale/rBergomi/rBergomi_simulaiton.ipynb#ch0000005?line=3'>4</a>\u001b[0m axes\u001b[39m.\u001b[39mset_xlabel(\u001b[39mr\u001b[39m\u001b[39m'\u001b[39m\u001b[39m$t$\u001b[39m\u001b[39m'\u001b[39m, fontsize\u001b[39m=\u001b[39m\u001b[39m16\u001b[39m)\n",
      "\u001b[0;31mIndexError\u001b[0m: too many indices for array: array is 1-dimensional, but 2 were indexed"
     ]
    },
    {
     "data": {
      "image/png": "[encoded data removed]",
      "text/plain": [
       "<Figure size 432x288 with 1 Axes>"
      ]
     },
     "metadata": {
      "needs_background": "light"
     },
     "output_type": "display_data"
    }
   ],
   "source": [
    "plot, axes = plt.subplots()\n",
    "axes.plot(model1.t[0,:], vY1[0,:], 'g')\n",
    "axes.plot(model1.t[0,:], vY2[0,:], 'r')\n",
    "axes.set_xlabel(r'$t$', fontsize=16)\n",
    "axes.set_ylabel(r'$Y^\\alpha_t$', fontsize=16)\n",
    "plt.grid(True)"
   ]
  },
  {
   "cell_type": "code",
   "execution_count": 26,
   "metadata": {},
   "outputs": [
    {
     "data": {
      "image/png": "[encoded data removed]",
      "text/plain": [
       "<Figure size 432x288 with 1 Axes>"
      ]
     },
     "metadata": {
      "needs_background": "light"
     },
     "output_type": "display_data"
    }
   ],
   "source": [
    "plot, axes = plt.subplots()\n",
    "axes.plot(model1.t_hybrid[0,:], np.mean(V1, axis = 0), 'r')\n",
    "axes.plot(model1.t_hybrid[0,:], 0.235**2 * np.ones_like(model1.t_hybrid)[0,:], 'g')  \n",
    "axes.set_xlabel(r'$t$', fontsize=16)\n",
    "axes.set_ylabel(r'$V_t$', fontsize=16)\n",
    "plt.grid(True)"
   ]
  },
  {
   "cell_type": "code",
   "execution_count": 27,
   "metadata": {},
   "outputs": [],
   "source": [
    "from itertools import product\n",
    "import scipy.special\n",
    "\n",
    "def WZ(n, H, rho):\n",
    "    idx = np.linspace(1,n,n)\n",
    "    v, u = np.zeros(pow(n,2)), np.zeros(pow(n,2))\n",
    "\n",
    "    k = 0\n",
    "    for i in product(idx, idx):\n",
    "        v[k], u[k] = i\n",
    "        k = k + 1\n",
    "\n",
    "    D = np.sqrt(2.0*H)/(H+0.5)\n",
    "    res = rho * D * (v**(H+0.5)-(v-np.minimum(u,v))**(H+0.5))\n",
    "    return np.reshape(res, (n,n))\n",
    "\n",
    "def G(x, H):\n",
    "    gamma = 0.5 - H\n",
    "    F = scipy.special.hyp2f1(1.0,gamma,2.0-gamma,1.0/x)\n",
    "    return (1.0-2.0*gamma)/(1.0-gamma)*x**(-gamma)*F\n",
    "\n",
    "def WW(n, H):\n",
    "    cov = np.zeros((n,n))\n",
    "\n",
    "    for i in range(n):\n",
    "        v = i + 1\n",
    "        for j in range(n):\n",
    "            u = j + 1\n",
    "            if i == j:\n",
    "                cov[i,j] = u**(2.0*H)\n",
    "            if i > j:\n",
    "                x = v/u\n",
    "                cov[i,j] = u**(2.0*H)*G(x,H)\n",
    "            if i < j:\n",
    "                cov[i,j] = 0\n",
    "\n",
    "    return cov + cov.T - np.diag(cov.diagonal())\n",
    "\n",
    "def ZZ(n):\n",
    "    cov = np.zeros((n,n))\n",
    "\n",
    "    for i in range(n):\n",
    "        v = i + 1\n",
    "        for j in range(n):\n",
    "            u = j + 1\n",
    "            cov[i,j] = np.min([v,u])\n",
    "    return cov\n",
    "\n",
    "def check_symmetric(a):\n",
    "    return np.allclose(a, a.T)\n",
    "\n",
    "def joint_cov(n,H,rho):\n",
    "    res = np.block([[WW(n,H), WZ(n,H,rho)],[WZ(n,H,rho).T, ZZ(n)]])\n",
    "    if check_symmetric(res):\n",
    "        return res\n",
    "    else:\n",
    "        print('Covariance matrix is not symmetric...')\n",
    "    \n",
    "\n",
    "def rB_jcov(n, H, rho):\n",
    "    normal = np.random.normal(size=n*2)\n",
    "    cov = joint_cov(n,H,rho)\n",
    "    sigma = np.transpose(scipy.linalg.cholesky(cov))\n",
    "    control = np.all(np.matmul(sigma,np.transpose(sigma)) - cov < 1e-06)\n",
    "    if control:\n",
    "        print(\"Good news, everyone! I think I perfected a scheme that will simulate all paths!\")\n",
    "        return sigma.dot(normal)\n",
    "    else: \n",
    "        print(\"Bad news, everyone! I don't think the simulation is going to make it...\")"
   ]
  }
 ],
 "metadata": {
  "interpreter": {
   "hash": "6314f1dd6a1867270512df5dbaf0da944fed172eba7544c32ea9917be2637492"
  },
  "kernelspec": {
   "display_name": "Python 3.10.2 ('thematrix')",
   "language": "python",
   "name": "python3"
  },
  "language_info": {
   "codemirror_mode": {
    "name": "ipython",
    "version": 3
   },
   "file_extension": ".py",
   "mimetype": "text/x-python",
   "name": "python",
   "nbconvert_exporter": "python",
   "pygments_lexer": "ipython3",
   "version": "3.10.2"
  },
  "orig_nbformat": 4
 },
 "nbformat": 4,
 "nbformat_minor": 2
}
