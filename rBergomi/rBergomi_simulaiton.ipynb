{
 "cells": [
  {
   "cell_type": "code",
   "execution_count": 295,
   "metadata": {},
   "outputs": [
    {
     "name": "stdout",
     "output_type": "stream",
     "text": [
      "The autoreload extension is already loaded. To reload it, use:\n",
      "  %reload_ext autoreload\n"
     ]
    }
   ],
   "source": [
    "%load_ext autoreload\n",
    "%autoreload 2"
   ]
  },
  {
   "cell_type": "code",
   "execution_count": 296,
   "metadata": {},
   "outputs": [],
   "source": [
    "from rBergomi import rBergomi\n",
    "import numpy as np\n",
    "import matplotlib.pyplot as plt"
   ]
  },
  {
   "cell_type": "code",
   "execution_count": 298,
   "metadata": {},
   "outputs": [],
   "source": [
    "model = rBergomi(nsteps = 52, npaths = 10, T = 1.0, alpha = -0.43, eta=0, rho=0)"
   ]
  },
  {
   "cell_type": "code",
   "execution_count": 299,
   "metadata": {},
   "outputs": [],
   "source": [
    "Y = model.sim_Volterra()"
   ]
  },
  {
   "cell_type": "code",
   "execution_count": 300,
   "metadata": {},
   "outputs": [],
   "source": [
    "V = model.sim_V()"
   ]
  },
  {
   "cell_type": "code",
   "execution_count": 497,
   "metadata": {},
   "outputs": [],
   "source": [
    "from itertools import product\n",
    "import scipy.special\n",
    "\n",
    "def WZ(n, H, rho):\n",
    "    idx = np.linspace(1,n,n)\n",
    "    v, u = np.zeros(pow(n,2)), np.zeros(pow(n,2))\n",
    "\n",
    "    k = 0\n",
    "    for i in product(idx, idx):\n",
    "        v[k], u[k] = i\n",
    "        k = k + 1\n",
    "\n",
    "    D = np.sqrt(2.0*H)/(H+0.5)\n",
    "    res = rho * D * (v**(H+0.5)-(v-np.minimum(u,v))**(H+0.5))\n",
    "    return np.reshape(res, (n,n))\n",
    "\n",
    "def G(x, H):\n",
    "    gamma = 0.5 - H\n",
    "    F = scipy.special.hyp2f1(1.0,gamma,2.0-gamma,1.0/x)\n",
    "    return (1.0-2.0*gamma)/(1.0-gamma)*x**(-gamma)*F\n",
    "\n",
    "def WW(n, H):\n",
    "    cov = np.zeros((n,n))\n",
    "\n",
    "    for i in range(n):\n",
    "        v = i + 1\n",
    "        for j in range(n):\n",
    "            u = j + 1\n",
    "            if i == j:\n",
    "                cov[i,j] = u**(2.0*H)\n",
    "            if i > j:\n",
    "                x = v/u\n",
    "                cov[i,j] = u**(2.0*H)*G(x,H)\n",
    "            if i < j:\n",
    "                cov[i,j] = 0\n",
    "\n",
    "    return cov + cov.T - np.diag(cov.diagonal())\n",
    "\n",
    "def ZZ(n):\n",
    "    cov = np.zeros((n,n))\n",
    "\n",
    "    for i in range(n):\n",
    "        v = i + 1\n",
    "        for j in range(n):\n",
    "            u = j + 1\n",
    "            cov[i,j] = np.min([v,u])\n",
    "    return cov\n",
    "\n",
    "def check_symmetric(a):\n",
    "    return np.allclose(a, a.T)\n",
    "\n",
    "def joint_cov(n,H,rho):\n",
    "    res = np.block([[WW(n,H), WZ(n,H,rho)],[WZ(n,H,rho).T, ZZ(n)]])\n",
    "    if check_symmetric(res):\n",
    "        return res\n",
    "    else:\n",
    "        print('Covariance matrix is not symmetric...')\n",
    "    \n",
    "\n",
    "def rB_jcov(n, H, rho):\n",
    "    normal = np.random.normal(size=n*2)\n",
    "    cov = joint_cov(n,H,rho)\n",
    "    sigma = np.transpose(scipy.linalg.cholesky(cov))\n",
    "    control = np.all(np.matmul(sigma,np.transpose(sigma)) - cov < 1e-06)\n",
    "    if control:\n",
    "        print(\"Good news, everyone! I think I perfected a scheme that will simulate all paths!\")\n",
    "        return sigma.dot(normal)\n",
    "    else: \n",
    "        print(\"Bad news, everyone! I don't think the simulation is going to make it...\")"
   ]
  },
  {
   "cell_type": "code",
   "execution_count": 498,
   "metadata": {},
   "outputs": [
    {
     "name": "stdout",
     "output_type": "stream",
     "text": [
      "Good news, everyone! I think I perfected a scheme that will simulate all paths!\n"
     ]
    },
    {
     "data": {
      "text/plain": [
       "array([-2.68306954e-01,  1.64928002e-01, -4.60627503e-01, -6.81737072e-01,\n",
       "        4.14969562e-02, -4.61661811e-01, -1.58924792e+00, -2.58329691e+00,\n",
       "       -1.22579676e+00, -6.10581445e-01, -2.87235430e+00, -1.85996700e+00,\n",
       "       -9.55135701e-01, -1.80330341e-01, -1.51664354e+00, -1.24242853e+00,\n",
       "       -1.23548349e+00, -1.30954895e+00, -1.61456910e+00, -1.90494223e+00,\n",
       "        1.17162877e+00, -1.29256316e+00,  4.03437169e-01, -7.76936464e-01,\n",
       "       -1.90752732e+00, -7.53871088e-01, -2.84205391e-01, -1.95738780e+00,\n",
       "       -7.99260309e-01, -8.79636196e-01, -2.53572865e+00, -1.07123079e+00,\n",
       "       -1.65338036e+00, -1.21828495e+00, -3.11116998e-01, -1.10981387e+00,\n",
       "        6.25060483e-01, -1.24412866e+00,  1.20562132e+00, -9.66423524e-01,\n",
       "       -1.50716985e+00, -2.24802901e+00, -1.29048873e+00, -1.08238418e+00,\n",
       "       -1.33958005e+00, -1.38573377e+00, -5.98132920e-01,  3.38305056e-01,\n",
       "       -7.17840519e-01,  1.45508052e+00, -1.04223784e+00, -1.06300992e+00,\n",
       "       -1.70481853e-01, -1.59047030e+00,  3.65717367e-02, -2.99987338e-01,\n",
       "       -4.24812778e-01,  2.26881729e-01,  2.42180011e+00,  1.20143451e+00,\n",
       "        8.80956368e-01,  1.74864046e+00,  1.15870864e+00,  9.23857773e-01,\n",
       "       -3.18985325e-02,  2.07151521e+00,  2.69304561e+00,  2.99350556e+00,\n",
       "        1.27342171e+00,  2.12170169e+00,  8.45924191e-02,  1.68386592e+00,\n",
       "       -2.32133957e+00,  2.69944583e+00,  1.57368334e+00,  6.79526291e-02,\n",
       "       -1.50138351e+00, -1.37437843e+00, -6.16497967e-01, -1.03723427e+00,\n",
       "       -1.65632640e+00, -1.39066237e+00,  7.06694877e-01,  2.25093207e-01,\n",
       "       -6.91469045e-01, -1.51455536e+00, -3.55350101e-02,  2.51775010e-02,\n",
       "       -8.58815623e-02, -5.84008565e-01, -8.70407759e-01, -7.92995899e-01,\n",
       "       -2.05228722e+00, -1.88207900e+00,  4.37375002e-01,  7.07596245e-01,\n",
       "        8.10023655e-01,  1.47902672e+00,  9.25214744e-01,  8.05773231e-01,\n",
       "       -9.73621493e-02, -1.80323558e-01, -8.47755886e-02,  1.00971746e+00,\n",
       "        3.62439149e-01, -1.05989639e-01, -2.89054352e-01,  5.02396480e-01,\n",
       "        2.48814239e-01, -1.64344609e-03, -4.43791130e-01, -9.38780005e-01,\n",
       "       -1.11104572e+00, -3.44736617e-01,  3.07717929e-01,  1.69707963e+00,\n",
       "       -9.25504450e-01, -6.18057512e-01, -1.18680556e+00, -7.76022278e-01,\n",
       "       -2.53823396e+00, -2.96786553e+00, -3.75980000e+00, -3.13243902e+00,\n",
       "       -3.47335111e+00, -3.03424310e+00, -2.82643561e+00, -1.81649808e+00,\n",
       "       -1.27412532e+00, -1.47745008e+00, -1.80279412e+00, -2.64759759e+00,\n",
       "       -1.88718110e+00, -2.61645534e+00, -3.04554833e+00, -4.94510973e+00,\n",
       "       -3.86161512e+00, -6.11137684e+00, -6.29244770e+00, -4.64445983e+00,\n",
       "       -4.32199439e+00, -5.01440201e+00, -6.06721224e+00, -5.74021754e+00,\n",
       "       -6.55343955e+00, -7.63420215e+00, -1.08378564e+01, -1.01194966e+01,\n",
       "       -1.06834613e+01, -1.05660745e+01, -1.17200846e+01, -1.06832990e+01,\n",
       "       -1.02286253e+01, -1.02317678e+01, -9.53924386e+00, -8.42308045e+00,\n",
       "       -7.37595667e+00, -8.71412010e+00, -8.88354286e+00, -8.84435083e+00,\n",
       "       -9.13879146e+00, -7.91328881e+00, -9.09642934e+00, -8.95409995e+00,\n",
       "       -8.54061547e+00, -9.01853775e+00, -1.10276868e+01, -1.01661094e+01,\n",
       "       -9.70129949e+00, -9.21141008e+00, -8.82437261e+00, -8.92169600e+00,\n",
       "       -8.70841800e+00, -1.00439173e+01, -8.59631745e+00, -7.42478695e+00,\n",
       "       -7.71112880e+00, -6.73961833e+00, -8.16275538e+00, -8.74184874e+00,\n",
       "       -9.09541752e+00, -9.91067010e+00, -8.32126273e+00, -1.03443355e+01,\n",
       "       -9.46401008e+00, -8.92793996e+00, -8.50942356e+00, -8.89715067e+00,\n",
       "       -9.72089859e+00, -8.95175669e+00, -9.22897164e+00, -1.10210728e+01,\n",
       "       -9.72380531e+00, -8.91336538e+00, -9.17760371e+00, -9.91053009e+00,\n",
       "       -9.88468082e+00, -9.88991559e+00, -9.81001942e+00, -9.89642677e+00])"
      ]
     },
     "execution_count": 498,
     "metadata": {},
     "output_type": "execute_result"
    }
   ],
   "source": [
    "n = 100; H = 0.1; rho = -0.1\n",
    "rB_jcov(n,H,rho)"
   ]
  },
  {
   "cell_type": "code",
   "execution_count": null,
   "metadata": {},
   "outputs": [],
   "source": []
  }
 ],
 "metadata": {
  "interpreter": {
   "hash": "6314f1dd6a1867270512df5dbaf0da944fed172eba7544c32ea9917be2637492"
  },
  "kernelspec": {
   "display_name": "Python 3.10.2 ('thematrix')",
   "language": "python",
   "name": "python3"
  },
  "language_info": {
   "codemirror_mode": {
    "name": "ipython",
    "version": 3
   },
   "file_extension": ".py",
   "mimetype": "text/x-python",
   "name": "python",
   "nbconvert_exporter": "python",
   "pygments_lexer": "ipython3",
   "version": "3.10.2"
  },
  "orig_nbformat": 4
 },
 "nbformat": 4,
 "nbformat_minor": 2
}
