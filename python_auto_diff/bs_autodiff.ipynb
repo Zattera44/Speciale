{
 "cells": [
  {
   "cell_type": "code",
   "execution_count": 2,
   "metadata": {},
   "outputs": [],
   "source": [
    "import jax.numpy as jnp\n",
    "import jax.scipy as jsp\n",
    "from jax import grad, value_and_grad\n",
    "import numpy as np"
   ]
  },
  {
   "cell_type": "code",
   "execution_count": 3,
   "metadata": {},
   "outputs": [],
   "source": [
    "N = jsp.stats.norm.cdf\n",
    "\n",
    "def BlackScholesCall(S, sigma, T, r, K):\n",
    "    d1 = (jnp.log(S/K) + (r + sigma**2/2)*T) / (sigma*jnp.sqrt(T))\n",
    "    d2 = d1 - sigma * jnp.sqrt(T)\n",
    "    return S * N(d1) - K * jnp.exp(-r*T)* N(d2)"
   ]
  },
  {
   "cell_type": "code",
   "execution_count": 4,
   "metadata": {},
   "outputs": [
    {
     "name": "stderr",
     "output_type": "stream",
     "text": [
      "WARNING:absl:No GPU/TPU found, falling back to CPU. (Set TF_CPP_MIN_LOG_LEVEL=0 and rerun for more info.)\n"
     ]
    },
    {
     "data": {
      "text/plain": [
       "DeviceArray(39.844395, dtype=float32, weak_type=True)"
      ]
     },
     "execution_count": 4,
     "metadata": {},
     "output_type": "execute_result"
    }
   ],
   "source": [
    "grad_BS = grad(BlackScholesCall, argnums=1)\n",
    "grad_BS(100.0, 0.1, 1, 0, 100.0)"
   ]
  },
  {
   "cell_type": "code",
   "execution_count": 7,
   "metadata": {},
   "outputs": [],
   "source": [
    "def simulate_BS(sigma):\n",
    "    T = 1\n",
    "    it = 1000\n",
    "    weeks = 52\n",
    "    dt = T/weeks\n",
    "    sum = 0\n",
    "    S = 100\n",
    "\n",
    "    for i in range(it):\n",
    "        Sold = S\n",
    "        for t in range(weeks):\n",
    "            Z = np.random.normal()\n",
    "            Snew = Sold*jnp.exp((-0.5*sigma**2)*dt+sigma*jnp.sqrt(dt)*Z)\n",
    "            Sold = Snew\n",
    "        if Snew - 100 > 0:\n",
    "            sum = sum + (Snew - 100)\n",
    "    \n",
    "    return sum/float(it)"
   ]
  },
  {
   "cell_type": "code",
   "execution_count": 8,
   "metadata": {},
   "outputs": [
    {
     "ename": "KeyboardInterrupt",
     "evalue": "",
     "output_type": "error",
     "traceback": [
      "\u001b[0;31m---------------------------------------------------------------------------\u001b[0m",
      "\u001b[0;31mKeyboardInterrupt\u001b[0m                         Traceback (most recent call last)",
      "\u001b[1;32m/Users/tk/Documents/GitHub/Speciale/python_auto_diff/working_bs_autodiff.ipynb Cell 5'\u001b[0m in \u001b[0;36m<module>\u001b[0;34m\u001b[0m\n\u001b[1;32m      <a href='vscode-notebook-cell:/Users/tk/Documents/GitHub/Speciale/python_auto_diff/working_bs_autodiff.ipynb#ch0000004?line=0'>1</a>\u001b[0m grad_simulateBS \u001b[39m=\u001b[39m grad(simulate_BS)\n\u001b[0;32m----> <a href='vscode-notebook-cell:/Users/tk/Documents/GitHub/Speciale/python_auto_diff/working_bs_autodiff.ipynb#ch0000004?line=1'>2</a>\u001b[0m grad_simulateBS(\u001b[39m0.1\u001b[39;49m)\n",
      "    \u001b[0;31m[... skipping hidden 1 frame]\u001b[0m\n",
      "File \u001b[0;32m~/Documents/thematrix/lib/python3.10/site-packages/jax/_src/api.py:994\u001b[0m, in \u001b[0;36mgrad.<locals>.grad_f\u001b[0;34m(*args, **kwargs)\u001b[0m\n\u001b[1;32m    <a href='file:///~/Documents/thematrix/lib/python3.10/site-packages/jax/_src/api.py?line=990'>991</a>\u001b[0m \u001b[39m@wraps\u001b[39m(fun, docstr\u001b[39m=\u001b[39mdocstr, argnums\u001b[39m=\u001b[39margnums)\n\u001b[1;32m    <a href='file:///~/Documents/thematrix/lib/python3.10/site-packages/jax/_src/api.py?line=991'>992</a>\u001b[0m \u001b[39m@api_boundary\u001b[39m\n\u001b[1;32m    <a href='file:///~/Documents/thematrix/lib/python3.10/site-packages/jax/_src/api.py?line=992'>993</a>\u001b[0m \u001b[39mdef\u001b[39;00m \u001b[39mgrad_f\u001b[39m(\u001b[39m*\u001b[39margs, \u001b[39m*\u001b[39m\u001b[39m*\u001b[39mkwargs):\n\u001b[0;32m--> <a href='file:///~/Documents/thematrix/lib/python3.10/site-packages/jax/_src/api.py?line=993'>994</a>\u001b[0m   _, g \u001b[39m=\u001b[39m value_and_grad_f(\u001b[39m*\u001b[39;49margs, \u001b[39m*\u001b[39;49m\u001b[39m*\u001b[39;49mkwargs)\n\u001b[1;32m    <a href='file:///~/Documents/thematrix/lib/python3.10/site-packages/jax/_src/api.py?line=994'>995</a>\u001b[0m   \u001b[39mreturn\u001b[39;00m g\n",
      "    \u001b[0;31m[... skipping hidden 1 frame]\u001b[0m\n",
      "File \u001b[0;32m~/Documents/thematrix/lib/python3.10/site-packages/jax/_src/api.py:1070\u001b[0m, in \u001b[0;36mvalue_and_grad.<locals>.value_and_grad_f\u001b[0;34m(*args, **kwargs)\u001b[0m\n\u001b[1;32m   <a href='file:///~/Documents/thematrix/lib/python3.10/site-packages/jax/_src/api.py?line=1067'>1068</a>\u001b[0m   _check_input_dtype_grad(holomorphic, allow_int, leaf)\n\u001b[1;32m   <a href='file:///~/Documents/thematrix/lib/python3.10/site-packages/jax/_src/api.py?line=1068'>1069</a>\u001b[0m \u001b[39mif\u001b[39;00m \u001b[39mnot\u001b[39;00m has_aux:\n\u001b[0;32m-> <a href='file:///~/Documents/thematrix/lib/python3.10/site-packages/jax/_src/api.py?line=1069'>1070</a>\u001b[0m   ans, vjp_py \u001b[39m=\u001b[39m _vjp(f_partial, \u001b[39m*\u001b[39;49mdyn_args, reduce_axes\u001b[39m=\u001b[39;49mreduce_axes)\n\u001b[1;32m   <a href='file:///~/Documents/thematrix/lib/python3.10/site-packages/jax/_src/api.py?line=1070'>1071</a>\u001b[0m \u001b[39melse\u001b[39;00m:\n\u001b[1;32m   <a href='file:///~/Documents/thematrix/lib/python3.10/site-packages/jax/_src/api.py?line=1071'>1072</a>\u001b[0m   ans, vjp_py, aux \u001b[39m=\u001b[39m _vjp(\n\u001b[1;32m   <a href='file:///~/Documents/thematrix/lib/python3.10/site-packages/jax/_src/api.py?line=1072'>1073</a>\u001b[0m       f_partial, \u001b[39m*\u001b[39mdyn_args, has_aux\u001b[39m=\u001b[39m\u001b[39mTrue\u001b[39;00m, reduce_axes\u001b[39m=\u001b[39mreduce_axes)\n",
      "File \u001b[0;32m~/Documents/thematrix/lib/python3.10/site-packages/jax/_src/api.py:2522\u001b[0m, in \u001b[0;36m_vjp\u001b[0;34m(fun, has_aux, reduce_axes, *primals)\u001b[0m\n\u001b[1;32m   <a href='file:///~/Documents/thematrix/lib/python3.10/site-packages/jax/_src/api.py?line=2519'>2520</a>\u001b[0m \u001b[39mif\u001b[39;00m \u001b[39mnot\u001b[39;00m has_aux:\n\u001b[1;32m   <a href='file:///~/Documents/thematrix/lib/python3.10/site-packages/jax/_src/api.py?line=2520'>2521</a>\u001b[0m   flat_fun, out_tree \u001b[39m=\u001b[39m flatten_fun_nokwargs(fun, in_tree)\n\u001b[0;32m-> <a href='file:///~/Documents/thematrix/lib/python3.10/site-packages/jax/_src/api.py?line=2521'>2522</a>\u001b[0m   out_primal, out_vjp \u001b[39m=\u001b[39m ad\u001b[39m.\u001b[39;49mvjp(\n\u001b[1;32m   <a href='file:///~/Documents/thematrix/lib/python3.10/site-packages/jax/_src/api.py?line=2522'>2523</a>\u001b[0m       flat_fun, primals_flat, reduce_axes\u001b[39m=\u001b[39;49mreduce_axes)\n\u001b[1;32m   <a href='file:///~/Documents/thematrix/lib/python3.10/site-packages/jax/_src/api.py?line=2523'>2524</a>\u001b[0m   out_tree \u001b[39m=\u001b[39m out_tree()\n\u001b[1;32m   <a href='file:///~/Documents/thematrix/lib/python3.10/site-packages/jax/_src/api.py?line=2524'>2525</a>\u001b[0m \u001b[39melse\u001b[39;00m:\n",
      "File \u001b[0;32m~/Documents/thematrix/lib/python3.10/site-packages/jax/interpreters/ad.py:116\u001b[0m, in \u001b[0;36mvjp\u001b[0;34m(traceable, primals, has_aux, reduce_axes)\u001b[0m\n\u001b[1;32m    <a href='file:///~/Documents/thematrix/lib/python3.10/site-packages/jax/interpreters/ad.py?line=113'>114</a>\u001b[0m \u001b[39mdef\u001b[39;00m \u001b[39mvjp\u001b[39m(traceable, primals, has_aux\u001b[39m=\u001b[39m\u001b[39mFalse\u001b[39;00m, reduce_axes\u001b[39m=\u001b[39m()):\n\u001b[1;32m    <a href='file:///~/Documents/thematrix/lib/python3.10/site-packages/jax/interpreters/ad.py?line=114'>115</a>\u001b[0m   \u001b[39mif\u001b[39;00m \u001b[39mnot\u001b[39;00m has_aux:\n\u001b[0;32m--> <a href='file:///~/Documents/thematrix/lib/python3.10/site-packages/jax/interpreters/ad.py?line=115'>116</a>\u001b[0m     out_primals, pvals, jaxpr, consts \u001b[39m=\u001b[39m linearize(traceable, \u001b[39m*\u001b[39;49mprimals)\n\u001b[1;32m    <a href='file:///~/Documents/thematrix/lib/python3.10/site-packages/jax/interpreters/ad.py?line=116'>117</a>\u001b[0m   \u001b[39melse\u001b[39;00m:\n\u001b[1;32m    <a href='file:///~/Documents/thematrix/lib/python3.10/site-packages/jax/interpreters/ad.py?line=117'>118</a>\u001b[0m     out_primals, pvals, jaxpr, consts, aux \u001b[39m=\u001b[39m linearize(traceable, \u001b[39m*\u001b[39mprimals, has_aux\u001b[39m=\u001b[39m\u001b[39mTrue\u001b[39;00m)\n",
      "File \u001b[0;32m~/Documents/thematrix/lib/python3.10/site-packages/jax/interpreters/ad.py:103\u001b[0m, in \u001b[0;36mlinearize\u001b[0;34m(traceable, *primals, **kwargs)\u001b[0m\n\u001b[1;32m    <a href='file:///~/Documents/thematrix/lib/python3.10/site-packages/jax/interpreters/ad.py?line=100'>101</a>\u001b[0m _, in_tree \u001b[39m=\u001b[39m tree_flatten(((primals, primals), {}))\n\u001b[1;32m    <a href='file:///~/Documents/thematrix/lib/python3.10/site-packages/jax/interpreters/ad.py?line=101'>102</a>\u001b[0m jvpfun_flat, out_tree \u001b[39m=\u001b[39m flatten_fun(jvpfun, in_tree)\n\u001b[0;32m--> <a href='file:///~/Documents/thematrix/lib/python3.10/site-packages/jax/interpreters/ad.py?line=102'>103</a>\u001b[0m jaxpr, out_pvals, consts \u001b[39m=\u001b[39m pe\u001b[39m.\u001b[39;49mtrace_to_jaxpr(jvpfun_flat, in_pvals)\n\u001b[1;32m    <a href='file:///~/Documents/thematrix/lib/python3.10/site-packages/jax/interpreters/ad.py?line=103'>104</a>\u001b[0m out_primals_pvals, out_tangents_pvals \u001b[39m=\u001b[39m tree_unflatten(out_tree(), out_pvals)\n\u001b[1;32m    <a href='file:///~/Documents/thematrix/lib/python3.10/site-packages/jax/interpreters/ad.py?line=104'>105</a>\u001b[0m \u001b[39massert\u001b[39;00m \u001b[39mall\u001b[39m(out_primal_pval\u001b[39m.\u001b[39mis_known() \u001b[39mfor\u001b[39;00m out_primal_pval \u001b[39min\u001b[39;00m out_primals_pvals)\n",
      "File \u001b[0;32m~/Documents/thematrix/lib/python3.10/site-packages/jax/_src/profiler.py:206\u001b[0m, in \u001b[0;36mannotate_function.<locals>.wrapper\u001b[0;34m(*args, **kwargs)\u001b[0m\n\u001b[1;32m    <a href='file:///~/Documents/thematrix/lib/python3.10/site-packages/jax/_src/profiler.py?line=202'>203</a>\u001b[0m \u001b[39m@wraps\u001b[39m(func)\n\u001b[1;32m    <a href='file:///~/Documents/thematrix/lib/python3.10/site-packages/jax/_src/profiler.py?line=203'>204</a>\u001b[0m \u001b[39mdef\u001b[39;00m \u001b[39mwrapper\u001b[39m(\u001b[39m*\u001b[39margs, \u001b[39m*\u001b[39m\u001b[39m*\u001b[39mkwargs):\n\u001b[1;32m    <a href='file:///~/Documents/thematrix/lib/python3.10/site-packages/jax/_src/profiler.py?line=204'>205</a>\u001b[0m   \u001b[39mwith\u001b[39;00m TraceAnnotation(name, \u001b[39m*\u001b[39m\u001b[39m*\u001b[39mdecorator_kwargs):\n\u001b[0;32m--> <a href='file:///~/Documents/thematrix/lib/python3.10/site-packages/jax/_src/profiler.py?line=205'>206</a>\u001b[0m     \u001b[39mreturn\u001b[39;00m func(\u001b[39m*\u001b[39;49margs, \u001b[39m*\u001b[39;49m\u001b[39m*\u001b[39;49mkwargs)\n\u001b[1;32m    <a href='file:///~/Documents/thematrix/lib/python3.10/site-packages/jax/_src/profiler.py?line=206'>207</a>\u001b[0m   \u001b[39mreturn\u001b[39;00m wrapper\n",
      "File \u001b[0;32m~/Documents/thematrix/lib/python3.10/site-packages/jax/interpreters/partial_eval.py:522\u001b[0m, in \u001b[0;36mtrace_to_jaxpr\u001b[0;34m(fun, pvals, instantiate)\u001b[0m\n\u001b[1;32m    <a href='file:///~/Documents/thematrix/lib/python3.10/site-packages/jax/interpreters/partial_eval.py?line=519'>520</a>\u001b[0m \u001b[39mwith\u001b[39;00m core\u001b[39m.\u001b[39mnew_main(JaxprTrace) \u001b[39mas\u001b[39;00m main:\n\u001b[1;32m    <a href='file:///~/Documents/thematrix/lib/python3.10/site-packages/jax/interpreters/partial_eval.py?line=520'>521</a>\u001b[0m   fun \u001b[39m=\u001b[39m trace_to_subjaxpr(fun, main, instantiate)\n\u001b[0;32m--> <a href='file:///~/Documents/thematrix/lib/python3.10/site-packages/jax/interpreters/partial_eval.py?line=521'>522</a>\u001b[0m   jaxpr, (out_pvals, consts, env) \u001b[39m=\u001b[39m fun\u001b[39m.\u001b[39;49mcall_wrapped(pvals)\n\u001b[1;32m    <a href='file:///~/Documents/thematrix/lib/python3.10/site-packages/jax/interpreters/partial_eval.py?line=522'>523</a>\u001b[0m   \u001b[39massert\u001b[39;00m \u001b[39mnot\u001b[39;00m env\n\u001b[1;32m    <a href='file:///~/Documents/thematrix/lib/python3.10/site-packages/jax/interpreters/partial_eval.py?line=523'>524</a>\u001b[0m   \u001b[39mdel\u001b[39;00m main, fun, env\n",
      "File \u001b[0;32m~/Documents/thematrix/lib/python3.10/site-packages/jax/linear_util.py:166\u001b[0m, in \u001b[0;36mWrappedFun.call_wrapped\u001b[0;34m(self, *args, **kwargs)\u001b[0m\n\u001b[1;32m    <a href='file:///~/Documents/thematrix/lib/python3.10/site-packages/jax/linear_util.py?line=162'>163</a>\u001b[0m gen \u001b[39m=\u001b[39m gen_static_args \u001b[39m=\u001b[39m out_store \u001b[39m=\u001b[39m \u001b[39mNone\u001b[39;00m\n\u001b[1;32m    <a href='file:///~/Documents/thematrix/lib/python3.10/site-packages/jax/linear_util.py?line=164'>165</a>\u001b[0m \u001b[39mtry\u001b[39;00m:\n\u001b[0;32m--> <a href='file:///~/Documents/thematrix/lib/python3.10/site-packages/jax/linear_util.py?line=165'>166</a>\u001b[0m   ans \u001b[39m=\u001b[39m \u001b[39mself\u001b[39;49m\u001b[39m.\u001b[39;49mf(\u001b[39m*\u001b[39;49margs, \u001b[39m*\u001b[39;49m\u001b[39m*\u001b[39;49m\u001b[39mdict\u001b[39;49m(\u001b[39mself\u001b[39;49m\u001b[39m.\u001b[39;49mparams, \u001b[39m*\u001b[39;49m\u001b[39m*\u001b[39;49mkwargs))\n\u001b[1;32m    <a href='file:///~/Documents/thematrix/lib/python3.10/site-packages/jax/linear_util.py?line=166'>167</a>\u001b[0m \u001b[39mexcept\u001b[39;00m:\n\u001b[1;32m    <a href='file:///~/Documents/thematrix/lib/python3.10/site-packages/jax/linear_util.py?line=167'>168</a>\u001b[0m   \u001b[39m# Some transformations yield from inside context managers, so we have to\u001b[39;00m\n\u001b[1;32m    <a href='file:///~/Documents/thematrix/lib/python3.10/site-packages/jax/linear_util.py?line=168'>169</a>\u001b[0m   \u001b[39m# interrupt them before reraising the exception. Otherwise they will only\u001b[39;00m\n\u001b[1;32m    <a href='file:///~/Documents/thematrix/lib/python3.10/site-packages/jax/linear_util.py?line=169'>170</a>\u001b[0m   \u001b[39m# get garbage-collected at some later time, running their cleanup tasks\u001b[39;00m\n\u001b[1;32m    <a href='file:///~/Documents/thematrix/lib/python3.10/site-packages/jax/linear_util.py?line=170'>171</a>\u001b[0m   \u001b[39m# only after this exception is handled, which can corrupt the global\u001b[39;00m\n\u001b[1;32m    <a href='file:///~/Documents/thematrix/lib/python3.10/site-packages/jax/linear_util.py?line=171'>172</a>\u001b[0m   \u001b[39m# state.\u001b[39;00m\n\u001b[1;32m    <a href='file:///~/Documents/thematrix/lib/python3.10/site-packages/jax/linear_util.py?line=172'>173</a>\u001b[0m   \u001b[39mwhile\u001b[39;00m stack:\n",
      "\u001b[1;32m/Users/tk/Documents/GitHub/Speciale/python_auto_diff/working_bs_autodiff.ipynb Cell 4'\u001b[0m in \u001b[0;36msimulate_BS\u001b[0;34m(sigma)\u001b[0m\n\u001b[1;32m     <a href='vscode-notebook-cell:/Users/tk/Documents/GitHub/Speciale/python_auto_diff/working_bs_autodiff.ipynb#ch0000003?line=10'>11</a>\u001b[0m \u001b[39mfor\u001b[39;00m t \u001b[39min\u001b[39;00m \u001b[39mrange\u001b[39m(weeks):\n\u001b[1;32m     <a href='vscode-notebook-cell:/Users/tk/Documents/GitHub/Speciale/python_auto_diff/working_bs_autodiff.ipynb#ch0000003?line=11'>12</a>\u001b[0m     Z \u001b[39m=\u001b[39m np\u001b[39m.\u001b[39mrandom\u001b[39m.\u001b[39mnormal()\n\u001b[0;32m---> <a href='vscode-notebook-cell:/Users/tk/Documents/GitHub/Speciale/python_auto_diff/working_bs_autodiff.ipynb#ch0000003?line=12'>13</a>\u001b[0m     Snew \u001b[39m=\u001b[39m Sold\u001b[39m*\u001b[39mjnp\u001b[39m.\u001b[39mexp((\u001b[39m-\u001b[39m\u001b[39m0.5\u001b[39m\u001b[39m*\u001b[39msigma\u001b[39m*\u001b[39m\u001b[39m*\u001b[39m\u001b[39m2\u001b[39m)\u001b[39m*\u001b[39mdt\u001b[39m+\u001b[39msigma\u001b[39m*\u001b[39;49mjnp\u001b[39m.\u001b[39;49msqrt(dt)\u001b[39m*\u001b[39;49mZ)\n\u001b[1;32m     <a href='vscode-notebook-cell:/Users/tk/Documents/GitHub/Speciale/python_auto_diff/working_bs_autodiff.ipynb#ch0000003?line=13'>14</a>\u001b[0m     Sold \u001b[39m=\u001b[39m Snew\n\u001b[1;32m     <a href='vscode-notebook-cell:/Users/tk/Documents/GitHub/Speciale/python_auto_diff/working_bs_autodiff.ipynb#ch0000003?line=14'>15</a>\u001b[0m \u001b[39mif\u001b[39;00m Snew \u001b[39m-\u001b[39m \u001b[39m100\u001b[39m \u001b[39m>\u001b[39m \u001b[39m0\u001b[39m:\n",
      "File \u001b[0;32m~/Documents/thematrix/lib/python3.10/site-packages/jax/core.py:487\u001b[0m, in \u001b[0;36mTracer.__mul__\u001b[0;34m(self, other)\u001b[0m\n\u001b[0;32m--> <a href='file:///~/Documents/thematrix/lib/python3.10/site-packages/jax/core.py?line=486'>487</a>\u001b[0m \u001b[39mdef\u001b[39;00m \u001b[39m__mul__\u001b[39m(\u001b[39mself\u001b[39m, other): \u001b[39mreturn\u001b[39;00m \u001b[39mself\u001b[39;49m\u001b[39m.\u001b[39;49maval\u001b[39m.\u001b[39;49m_mul(\u001b[39mself\u001b[39;49m, other)\n",
      "File \u001b[0;32m~/Documents/thematrix/lib/python3.10/site-packages/jax/_src/numpy/lax_numpy.py:6715\u001b[0m, in \u001b[0;36m_defer_to_unrecognized_arg.<locals>.deferring_binary_op\u001b[0;34m(self, other)\u001b[0m\n\u001b[1;32m   <a href='file:///~/Documents/thematrix/lib/python3.10/site-packages/jax/_src/numpy/lax_numpy.py?line=6712'>6713</a>\u001b[0m \u001b[39mif\u001b[39;00m \u001b[39mnot\u001b[39;00m \u001b[39misinstance\u001b[39m(other, _accepted_binop_types):\n\u001b[1;32m   <a href='file:///~/Documents/thematrix/lib/python3.10/site-packages/jax/_src/numpy/lax_numpy.py?line=6713'>6714</a>\u001b[0m   \u001b[39mreturn\u001b[39;00m \u001b[39mNotImplemented\u001b[39m\n\u001b[0;32m-> <a href='file:///~/Documents/thematrix/lib/python3.10/site-packages/jax/_src/numpy/lax_numpy.py?line=6714'>6715</a>\u001b[0m \u001b[39mreturn\u001b[39;00m binary_op(\u001b[39mself\u001b[39;49m, other)\n",
      "    \u001b[0;31m[... skipping hidden 1 frame]\u001b[0m\n",
      "File \u001b[0;32m~/Documents/thematrix/lib/python3.10/site-packages/jax/_src/api.py:430\u001b[0m, in \u001b[0;36m_cpp_jit.<locals>.cache_miss\u001b[0;34m(*args, **kwargs)\u001b[0m\n\u001b[1;32m    <a href='file:///~/Documents/thematrix/lib/python3.10/site-packages/jax/_src/api.py?line=427'>428</a>\u001b[0m   _check_arg(arg)\n\u001b[1;32m    <a href='file:///~/Documents/thematrix/lib/python3.10/site-packages/jax/_src/api.py?line=428'>429</a>\u001b[0m flat_fun, out_tree \u001b[39m=\u001b[39m flatten_fun(closed_fun, in_tree)\n\u001b[0;32m--> <a href='file:///~/Documents/thematrix/lib/python3.10/site-packages/jax/_src/api.py?line=429'>430</a>\u001b[0m out_flat \u001b[39m=\u001b[39m xla\u001b[39m.\u001b[39;49mxla_call(\n\u001b[1;32m    <a href='file:///~/Documents/thematrix/lib/python3.10/site-packages/jax/_src/api.py?line=430'>431</a>\u001b[0m     flat_fun, \u001b[39m*\u001b[39;49margs_flat,\n\u001b[1;32m    <a href='file:///~/Documents/thematrix/lib/python3.10/site-packages/jax/_src/api.py?line=431'>432</a>\u001b[0m     device\u001b[39m=\u001b[39;49mdevice, backend\u001b[39m=\u001b[39;49mbackend, name\u001b[39m=\u001b[39;49mflat_fun\u001b[39m.\u001b[39;49m\u001b[39m__name__\u001b[39;49m,\n\u001b[1;32m    <a href='file:///~/Documents/thematrix/lib/python3.10/site-packages/jax/_src/api.py?line=432'>433</a>\u001b[0m     donated_invars\u001b[39m=\u001b[39;49mdonated_invars, inline\u001b[39m=\u001b[39;49minline)\n\u001b[1;32m    <a href='file:///~/Documents/thematrix/lib/python3.10/site-packages/jax/_src/api.py?line=433'>434</a>\u001b[0m out_pytree_def \u001b[39m=\u001b[39m out_tree()\n\u001b[1;32m    <a href='file:///~/Documents/thematrix/lib/python3.10/site-packages/jax/_src/api.py?line=434'>435</a>\u001b[0m out \u001b[39m=\u001b[39m tree_unflatten(out_pytree_def, out_flat)\n",
      "File \u001b[0;32m~/Documents/thematrix/lib/python3.10/site-packages/jax/core.py:1681\u001b[0m, in \u001b[0;36mCallPrimitive.bind\u001b[0;34m(self, fun, *args, **params)\u001b[0m\n\u001b[1;32m   <a href='file:///~/Documents/thematrix/lib/python3.10/site-packages/jax/core.py?line=1679'>1680</a>\u001b[0m \u001b[39mdef\u001b[39;00m \u001b[39mbind\u001b[39m(\u001b[39mself\u001b[39m, fun, \u001b[39m*\u001b[39margs, \u001b[39m*\u001b[39m\u001b[39m*\u001b[39mparams):\n\u001b[0;32m-> <a href='file:///~/Documents/thematrix/lib/python3.10/site-packages/jax/core.py?line=1680'>1681</a>\u001b[0m   \u001b[39mreturn\u001b[39;00m call_bind(\u001b[39mself\u001b[39;49m, fun, \u001b[39m*\u001b[39;49margs, \u001b[39m*\u001b[39;49m\u001b[39m*\u001b[39;49mparams)\n",
      "File \u001b[0;32m~/Documents/thematrix/lib/python3.10/site-packages/jax/core.py:1693\u001b[0m, in \u001b[0;36mcall_bind\u001b[0;34m(primitive, fun, *args, **params)\u001b[0m\n\u001b[1;32m   <a href='file:///~/Documents/thematrix/lib/python3.10/site-packages/jax/core.py?line=1689'>1690</a>\u001b[0m fun, env_trace_todo \u001b[39m=\u001b[39m process_env_traces_call(\n\u001b[1;32m   <a href='file:///~/Documents/thematrix/lib/python3.10/site-packages/jax/core.py?line=1690'>1691</a>\u001b[0m     fun, primitive, top_trace \u001b[39mand\u001b[39;00m top_trace\u001b[39m.\u001b[39mlevel, \u001b[39mtuple\u001b[39m(params\u001b[39m.\u001b[39mitems()))\n\u001b[1;32m   <a href='file:///~/Documents/thematrix/lib/python3.10/site-packages/jax/core.py?line=1691'>1692</a>\u001b[0m tracers \u001b[39m=\u001b[39m \u001b[39mmap\u001b[39m(top_trace\u001b[39m.\u001b[39mfull_raise, args)\n\u001b[0;32m-> <a href='file:///~/Documents/thematrix/lib/python3.10/site-packages/jax/core.py?line=1692'>1693</a>\u001b[0m outs \u001b[39m=\u001b[39m top_trace\u001b[39m.\u001b[39;49mprocess_call(primitive, fun, tracers, params)\n\u001b[1;32m   <a href='file:///~/Documents/thematrix/lib/python3.10/site-packages/jax/core.py?line=1693'>1694</a>\u001b[0m \u001b[39mreturn\u001b[39;00m \u001b[39mmap\u001b[39m(full_lower, apply_todos(env_trace_todo(), outs))\n",
      "File \u001b[0;32m~/Documents/thematrix/lib/python3.10/site-packages/jax/interpreters/ad.py:324\u001b[0m, in \u001b[0;36mJVPTrace.process_call\u001b[0;34m(self, call_primitive, f, tracers, params)\u001b[0m\n\u001b[1;32m    <a href='file:///~/Documents/thematrix/lib/python3.10/site-packages/jax/interpreters/ad.py?line=320'>321</a>\u001b[0m update_params \u001b[39m=\u001b[39m call_param_updaters\u001b[39m.\u001b[39mget(call_primitive)\n\u001b[1;32m    <a href='file:///~/Documents/thematrix/lib/python3.10/site-packages/jax/interpreters/ad.py?line=321'>322</a>\u001b[0m new_params \u001b[39m=\u001b[39m (update_params(params, nz_tangents, nz_tangents_out)\n\u001b[1;32m    <a href='file:///~/Documents/thematrix/lib/python3.10/site-packages/jax/interpreters/ad.py?line=322'>323</a>\u001b[0m               \u001b[39mif\u001b[39;00m update_params \u001b[39melse\u001b[39;00m params)\n\u001b[0;32m--> <a href='file:///~/Documents/thematrix/lib/python3.10/site-packages/jax/interpreters/ad.py?line=323'>324</a>\u001b[0m result \u001b[39m=\u001b[39m call_primitive\u001b[39m.\u001b[39;49mbind(f_jvp, \u001b[39m*\u001b[39;49mprimals, \u001b[39m*\u001b[39;49mnonzero_tangents, \u001b[39m*\u001b[39;49m\u001b[39m*\u001b[39;49mnew_params)\n\u001b[1;32m    <a href='file:///~/Documents/thematrix/lib/python3.10/site-packages/jax/interpreters/ad.py?line=324'>325</a>\u001b[0m primal_out, tangent_out \u001b[39m=\u001b[39m tree_unflatten(out_tree_def(), result)\n\u001b[1;32m    <a href='file:///~/Documents/thematrix/lib/python3.10/site-packages/jax/interpreters/ad.py?line=325'>326</a>\u001b[0m \u001b[39mreturn\u001b[39;00m [JVPTracer(\u001b[39mself\u001b[39m, p, t) \u001b[39mfor\u001b[39;00m p, t \u001b[39min\u001b[39;00m \u001b[39mzip\u001b[39m(primal_out, tangent_out)]\n",
      "File \u001b[0;32m~/Documents/thematrix/lib/python3.10/site-packages/jax/core.py:1681\u001b[0m, in \u001b[0;36mCallPrimitive.bind\u001b[0;34m(self, fun, *args, **params)\u001b[0m\n\u001b[1;32m   <a href='file:///~/Documents/thematrix/lib/python3.10/site-packages/jax/core.py?line=1679'>1680</a>\u001b[0m \u001b[39mdef\u001b[39;00m \u001b[39mbind\u001b[39m(\u001b[39mself\u001b[39m, fun, \u001b[39m*\u001b[39margs, \u001b[39m*\u001b[39m\u001b[39m*\u001b[39mparams):\n\u001b[0;32m-> <a href='file:///~/Documents/thematrix/lib/python3.10/site-packages/jax/core.py?line=1680'>1681</a>\u001b[0m   \u001b[39mreturn\u001b[39;00m call_bind(\u001b[39mself\u001b[39;49m, fun, \u001b[39m*\u001b[39;49margs, \u001b[39m*\u001b[39;49m\u001b[39m*\u001b[39;49mparams)\n",
      "File \u001b[0;32m~/Documents/thematrix/lib/python3.10/site-packages/jax/core.py:1693\u001b[0m, in \u001b[0;36mcall_bind\u001b[0;34m(primitive, fun, *args, **params)\u001b[0m\n\u001b[1;32m   <a href='file:///~/Documents/thematrix/lib/python3.10/site-packages/jax/core.py?line=1689'>1690</a>\u001b[0m fun, env_trace_todo \u001b[39m=\u001b[39m process_env_traces_call(\n\u001b[1;32m   <a href='file:///~/Documents/thematrix/lib/python3.10/site-packages/jax/core.py?line=1690'>1691</a>\u001b[0m     fun, primitive, top_trace \u001b[39mand\u001b[39;00m top_trace\u001b[39m.\u001b[39mlevel, \u001b[39mtuple\u001b[39m(params\u001b[39m.\u001b[39mitems()))\n\u001b[1;32m   <a href='file:///~/Documents/thematrix/lib/python3.10/site-packages/jax/core.py?line=1691'>1692</a>\u001b[0m tracers \u001b[39m=\u001b[39m \u001b[39mmap\u001b[39m(top_trace\u001b[39m.\u001b[39mfull_raise, args)\n\u001b[0;32m-> <a href='file:///~/Documents/thematrix/lib/python3.10/site-packages/jax/core.py?line=1692'>1693</a>\u001b[0m outs \u001b[39m=\u001b[39m top_trace\u001b[39m.\u001b[39;49mprocess_call(primitive, fun, tracers, params)\n\u001b[1;32m   <a href='file:///~/Documents/thematrix/lib/python3.10/site-packages/jax/core.py?line=1693'>1694</a>\u001b[0m \u001b[39mreturn\u001b[39;00m \u001b[39mmap\u001b[39m(full_lower, apply_todos(env_trace_todo(), outs))\n",
      "File \u001b[0;32m~/Documents/thematrix/lib/python3.10/site-packages/jax/interpreters/partial_eval.py:219\u001b[0m, in \u001b[0;36mJaxprTrace.process_call\u001b[0;34m(self, primitive, f, tracers, params)\u001b[0m\n\u001b[1;32m    <a href='file:///~/Documents/thematrix/lib/python3.10/site-packages/jax/interpreters/partial_eval.py?line=216'>217</a>\u001b[0m in_knowns \u001b[39m=\u001b[39m \u001b[39mtuple\u001b[39m(t\u001b[39m.\u001b[39mpval\u001b[39m.\u001b[39mis_known() \u001b[39mfor\u001b[39;00m t \u001b[39min\u001b[39;00m it\u001b[39m.\u001b[39mchain(env_tracers, tracers))\n\u001b[1;32m    <a href='file:///~/Documents/thematrix/lib/python3.10/site-packages/jax/interpreters/partial_eval.py?line=217'>218</a>\u001b[0m out_unknowns \u001b[39m=\u001b[39m \u001b[39mtuple\u001b[39m(\u001b[39mnot\u001b[39;00m pval\u001b[39m.\u001b[39mis_known() \u001b[39mfor\u001b[39;00m pval \u001b[39min\u001b[39;00m out_pvals)\n\u001b[0;32m--> <a href='file:///~/Documents/thematrix/lib/python3.10/site-packages/jax/interpreters/partial_eval.py?line=218'>219</a>\u001b[0m jaxpr \u001b[39m=\u001b[39m _drop_vars(jaxpr, in_knowns, (\u001b[39mFalse\u001b[39;49;00m,) \u001b[39m*\u001b[39;49m \u001b[39mlen\u001b[39;49m(jaxpr\u001b[39m.\u001b[39;49moutvars))\n\u001b[1;32m    <a href='file:///~/Documents/thematrix/lib/python3.10/site-packages/jax/interpreters/partial_eval.py?line=219'>220</a>\u001b[0m jaxpr \u001b[39m=\u001b[39m _dce_open_jaxpr(jaxpr, out_unknowns, drop_outputs\u001b[39m=\u001b[39m\u001b[39mTrue\u001b[39;00m)\n\u001b[1;32m    <a href='file:///~/Documents/thematrix/lib/python3.10/site-packages/jax/interpreters/partial_eval.py?line=221'>222</a>\u001b[0m \u001b[39m# Known tracers get propagated as if they were constants\u001b[39;00m\n",
      "File \u001b[0;32m~/Documents/thematrix/lib/python3.10/site-packages/jax/_src/util.py:199\u001b[0m, in \u001b[0;36mcache.<locals>.wrap.<locals>.wrapper\u001b[0;34m(*args, **kwargs)\u001b[0m\n\u001b[1;32m    <a href='file:///~/Documents/thematrix/lib/python3.10/site-packages/jax/_src/util.py?line=196'>197</a>\u001b[0m \u001b[39m@functools\u001b[39m\u001b[39m.\u001b[39mwraps(f)\n\u001b[1;32m    <a href='file:///~/Documents/thematrix/lib/python3.10/site-packages/jax/_src/util.py?line=197'>198</a>\u001b[0m \u001b[39mdef\u001b[39;00m \u001b[39mwrapper\u001b[39m(\u001b[39m*\u001b[39margs, \u001b[39m*\u001b[39m\u001b[39m*\u001b[39mkwargs):\n\u001b[0;32m--> <a href='file:///~/Documents/thematrix/lib/python3.10/site-packages/jax/_src/util.py?line=198'>199</a>\u001b[0m   \u001b[39mif\u001b[39;00m config\u001b[39m.\u001b[39;49mjax_check_tracer_leaks:\n\u001b[1;32m    <a href='file:///~/Documents/thematrix/lib/python3.10/site-packages/jax/_src/util.py?line=199'>200</a>\u001b[0m     \u001b[39mreturn\u001b[39;00m f(\u001b[39m*\u001b[39margs, \u001b[39m*\u001b[39m\u001b[39m*\u001b[39mkwargs)\n\u001b[1;32m    <a href='file:///~/Documents/thematrix/lib/python3.10/site-packages/jax/_src/util.py?line=200'>201</a>\u001b[0m   \u001b[39melse\u001b[39;00m:\n",
      "File \u001b[0;32m~/Documents/thematrix/lib/python3.10/site-packages/jax/_src/config.py:236\u001b[0m, in \u001b[0;36mConfig.define_bool_state.<locals>.get_state\u001b[0;34m(self)\u001b[0m\n\u001b[1;32m    <a href='file:///~/Documents/thematrix/lib/python3.10/site-packages/jax/_src/config.py?line=231'>232</a>\u001b[0m \u001b[39mself\u001b[39m\u001b[39m.\u001b[39mDEFINE_bool(name, bool_env(name\u001b[39m.\u001b[39mupper(), default), help,\n\u001b[1;32m    <a href='file:///~/Documents/thematrix/lib/python3.10/site-packages/jax/_src/config.py?line=232'>233</a>\u001b[0m                  update_hook\u001b[39m=\u001b[39mupdate_global_hook)\n\u001b[1;32m    <a href='file:///~/Documents/thematrix/lib/python3.10/site-packages/jax/_src/config.py?line=233'>234</a>\u001b[0m \u001b[39mself\u001b[39m\u001b[39m.\u001b[39m_contextmanager_flags\u001b[39m.\u001b[39madd(name)\n\u001b[0;32m--> <a href='file:///~/Documents/thematrix/lib/python3.10/site-packages/jax/_src/config.py?line=235'>236</a>\u001b[0m \u001b[39mdef\u001b[39;00m \u001b[39mget_state\u001b[39m(\u001b[39mself\u001b[39m):\n\u001b[1;32m    <a href='file:///~/Documents/thematrix/lib/python3.10/site-packages/jax/_src/config.py?line=236'>237</a>\u001b[0m   val \u001b[39m=\u001b[39m \u001b[39mgetattr\u001b[39m(_thread_local_state, name, unset)\n\u001b[1;32m    <a href='file:///~/Documents/thematrix/lib/python3.10/site-packages/jax/_src/config.py?line=237'>238</a>\u001b[0m   \u001b[39mreturn\u001b[39;00m val \u001b[39mif\u001b[39;00m val \u001b[39mis\u001b[39;00m \u001b[39mnot\u001b[39;00m unset \u001b[39melse\u001b[39;00m \u001b[39mself\u001b[39m\u001b[39m.\u001b[39m_read(name)\n",
      "\u001b[0;31mKeyboardInterrupt\u001b[0m: "
     ]
    }
   ],
   "source": [
    "grad_simulateBS = grad(simulate_BS)\n",
    "grad_simulateBS(0.1)"
   ]
  },
  {
   "cell_type": "code",
   "execution_count": 18,
   "metadata": {},
   "outputs": [],
   "source": [
    "def simulate_BS(sigma):\n",
    "    S0 = 100\n",
    "    it = 1000000\n",
    "    T = 1\n",
    "    weeks = 52\n",
    "    dt = T/weeks\n",
    "\n",
    "    S = jnp.empty(shape=(it,weeks+1))\n",
    "    S = S.at[:,0].set(S0)\n",
    "\n",
    "    for i in range(weeks):\n",
    "        Z = np.random.normal(size=it)\n",
    "        S = S.at[:,i+1].set(S[:,i]*jnp.exp((-0.5*sigma**2)*dt+sigma*jnp.sqrt(dt)*Z))\n",
    "\n",
    "    return jnp.sum(jnp.where(S[:,i+1]-100<0,0,S[:,i+1]-100))/it"
   ]
  },
  {
   "cell_type": "code",
   "execution_count": 19,
   "metadata": {},
   "outputs": [],
   "source": [
    "C, delta = value_and_grad(simulate_BS, argnums=0)(0.1)"
   ]
  },
  {
   "cell_type": "code",
   "execution_count": 20,
   "metadata": {},
   "outputs": [
    {
     "name": "stdout",
     "output_type": "stream",
     "text": [
      "3.9939249 39.910343\n"
     ]
    }
   ],
   "source": [
    "print(C, delta)"
   ]
  }
 ],
 "metadata": {
  "interpreter": {
   "hash": "6314f1dd6a1867270512df5dbaf0da944fed172eba7544c32ea9917be2637492"
  },
  "kernelspec": {
   "display_name": "Python 3.10.2 64-bit ('thematrix': venv)",
   "language": "python",
   "name": "python3"
  },
  "language_info": {
   "codemirror_mode": {
    "name": "ipython",
    "version": 3
   },
   "file_extension": ".py",
   "mimetype": "text/x-python",
   "name": "python",
   "nbconvert_exporter": "python",
   "pygments_lexer": "ipython3",
   "version": "3.10.2"
  },
  "orig_nbformat": 4
 },
 "nbformat": 4,
 "nbformat_minor": 2
}
