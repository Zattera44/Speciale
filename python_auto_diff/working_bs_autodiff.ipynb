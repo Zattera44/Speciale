{
 "cells": [
  {
   "cell_type": "code",
   "execution_count": 30,
   "metadata": {},
   "outputs": [],
   "source": [
    "import jax.numpy as jnp\n",
    "import jax.scipy as jsp\n",
    "from jax import grad, value_and_grad\n",
    "import numpy as np"
   ]
  },
  {
   "cell_type": "code",
   "execution_count": 9,
   "metadata": {},
   "outputs": [],
   "source": [
    "N = jsp.stats.norm.cdf\n",
    "\n",
    "def BlackScholesCall(S, sigma, T, r, K):\n",
    "    d1 = (jnp.log(S/K) + (r + sigma**2/2)*T) / (sigma*jnp.sqrt(T))\n",
    "    d2 = d1 - sigma * jnp.sqrt(T)\n",
    "    return S * N(d1) - K * jnp.exp(-r*T)* N(d2)"
   ]
  },
  {
   "cell_type": "code",
   "execution_count": 10,
   "metadata": {},
   "outputs": [
    {
     "data": {
      "text/plain": [
       "DeviceArray(39.844395, dtype=float32, weak_type=True)"
      ]
     },
     "execution_count": 10,
     "metadata": {},
     "output_type": "execute_result"
    }
   ],
   "source": [
    "grad_BS = grad(BlackScholesCall, argnums=1)\n",
    "grad_BS(100.0, 0.1, 1, 0, 100.0)"
   ]
  },
  {
   "cell_type": "code",
   "execution_count": 20,
   "metadata": {},
   "outputs": [],
   "source": [
    "def simulate_BS(sigma):\n",
    "    T = 1\n",
    "    it = 10\n",
    "    weeks = 52\n",
    "    dt = T/weeks\n",
    "    sum = 0\n",
    "    S = 100\n",
    "\n",
    "    for i in range(it):\n",
    "        Sold = S\n",
    "        for t in range(weeks):\n",
    "            Z = np.random.normal()\n",
    "            Snew = Sold*jnp.exp((-0.5*sigma**2)*dt+sigma*jnp.sqrt(dt)*Z)\n",
    "            Sold = Snew\n",
    "        if Snew - 100 > 0:\n",
    "            sum = sum + (Snew - 100)\n",
    "    \n",
    "    return sum/float(it)"
   ]
  },
  {
   "cell_type": "code",
   "execution_count": 21,
   "metadata": {},
   "outputs": [
    {
     "data": {
      "text/plain": [
       "DeviceArray(25.481146, dtype=float32, weak_type=True)"
      ]
     },
     "execution_count": 21,
     "metadata": {},
     "output_type": "execute_result"
    }
   ],
   "source": [
    "grad_simulateBS = grad(simulate_BS)\n",
    "grad_simulateBS(0.1)"
   ]
  },
  {
   "cell_type": "code",
   "execution_count": 28,
   "metadata": {},
   "outputs": [],
   "source": [
    "def simulate_BS(sigma):\n",
    "    S0 = 100\n",
    "    it = 100000\n",
    "    T = 1\n",
    "    weeks = 52\n",
    "    dt = T/weeks\n",
    "\n",
    "    S = jnp.empty(shape=(it,weeks+1))\n",
    "    S = S.at[:,0].set(S0)\n",
    "\n",
    "    for i in range(weeks):\n",
    "        Z = np.random.normal(size=it)\n",
    "        S = S.at[:,i+1].set(S[:,i]*jnp.exp((-0.5*sigma**2)*dt+sigma*jnp.sqrt(dt)*Z))\n",
    "\n",
    "    return jnp.sum(jnp.where(S[:,i+1]-100<0,0,S[:,i+1]-100))/it"
   ]
  },
  {
   "cell_type": "code",
   "execution_count": 38,
   "metadata": {},
   "outputs": [],
   "source": [
    "C, delta = value_and_grad(simulate_BS, argnums=0)(0.1)"
   ]
  },
  {
   "cell_type": "code",
   "execution_count": 40,
   "metadata": {},
   "outputs": [
    {
     "name": "stdout",
     "output_type": "stream",
     "text": [
      "4.003037 39.988308\n"
     ]
    }
   ],
   "source": [
    "print(C, delta)"
   ]
  }
 ],
 "metadata": {
  "interpreter": {
   "hash": "6314f1dd6a1867270512df5dbaf0da944fed172eba7544c32ea9917be2637492"
  },
  "kernelspec": {
   "display_name": "Python 3.10.2 64-bit ('thematrix': venv)",
   "language": "python",
   "name": "python3"
  },
  "language_info": {
   "codemirror_mode": {
    "name": "ipython",
    "version": 3
   },
   "file_extension": ".py",
   "mimetype": "text/x-python",
   "name": "python",
   "nbconvert_exporter": "python",
   "pygments_lexer": "ipython3",
   "version": "3.10.2"
  },
  "orig_nbformat": 4
 },
 "nbformat": 4,
 "nbformat_minor": 2
}
