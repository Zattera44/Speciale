{
 "cells": [
  {
   "cell_type": "code",
   "execution_count": null,
   "metadata": {},
   "outputs": [
    {
     "ename": "",
     "evalue": "",
     "output_type": "error",
     "traceback": [
      "\u001b[1;31mRunning cells with 'Python 3.10.2 ('thematrix')' requires ipykernel package.\n",
      "Run the following command to install 'ipykernel' into the Python environment. \n",
      "Command: '/Users/tk/Documents/thematrix/bin/python -m pip install ipykernel -U --force-reinstall'"
     ]
    }
   ],
   "source": [
    "import numpy as np\n",
    "from itertools import product\n",
    "import scipy.special\n",
    "import matplotlib.pyplot as plt\n",
    "\n",
    "import jax.numpy as jnp\n",
    "import jax.scipy as jsp\n",
    "from jax import grad, value_and_grad"
   ]
  },
  {
   "cell_type": "code",
   "execution_count": 57,
   "metadata": {},
   "outputs": [],
   "source": [
    "npaths = 100000\n",
    "nsteps = 52 \n",
    "\n",
    "T = 1\n",
    "dt = 1.0/nsteps \n",
    "s = int(nsteps * T) \n",
    "t = np.linspace(T/s,T,s)\n",
    "\n",
    "strike = 100\n",
    "#spot = 100.0\n",
    "\n",
    "H = 0.1\n",
    "eta = 1 \n",
    "rho = -.3 \n",
    "xi = 0.235**2"
   ]
  },
  {
   "cell_type": "code",
   "execution_count": 58,
   "metadata": {},
   "outputs": [],
   "source": [
    "def sim_paths():\n",
    "\n",
    "    v, u = np.zeros(pow(s,2)), np.zeros(pow(s,2))\n",
    "\n",
    "    k = 0\n",
    "    for i in product(t, t):\n",
    "        v[k], u[k] = i\n",
    "        k = k + 1\n",
    "\n",
    "    # Matrix keeping track of which minimum time index in each entry\n",
    "    index_matrix = np.reshape(np.minimum(v,u),(s,s))\n",
    "\n",
    "    # Used to find E[WW], see Gatheral\n",
    "    def G(H, x): \n",
    "        F = scipy.special.hyp2f1(1.0,0.5-H,1.5+H,1.0/x)\n",
    "        return (2*H*(x**(H-0.5))*scipy.special.gamma(0.5+H)*F)/scipy.special.gamma(H+1.5)\n",
    "\n",
    "    # Initialize E[WW] and E[WZ]\n",
    "    WW = np.zeros((s,s))\n",
    "    WZ = np.zeros((s,s))\n",
    "\n",
    "    # Correlation of Browninan motion with itself\n",
    "    ZZ = index_matrix\n",
    "\n",
    "    # Used to find E[WZ], see Gatheral\n",
    "    D = np.sqrt(2.0*H)/(H+0.5)\n",
    "\n",
    "    # Construction E[WW] and E[WZ]\n",
    "    i = 0\n",
    "    for v in t:\n",
    "        j = 0\n",
    "        for u in t:\n",
    "            if i == j:\n",
    "                WW[i,j] = u**(2.0*H)\n",
    "            if i > j:\n",
    "                x = v/u\n",
    "                WW[i,j] = u**(2.0*H)*G(H,x)\n",
    "            if i < j:\n",
    "                WW[i,j] = 0\n",
    "            WZ[i,j] = D * (v**(H+0.5)-(v-np.minimum(u,v))**(H+0.5))\n",
    "            j += 1\n",
    "        i += 1\n",
    "\n",
    "    # Utilizing that E[WW] is symmetric \n",
    "    WW = WW + WW.T - np.diag(WW.diagonal())\n",
    "\n",
    "    # Creating covariance matrix for (W,Z)~N(0,Sigma)\n",
    "    cov = np.block([[WW, WZ],[WZ.T, ZZ]]) # = Sigma\n",
    "\n",
    "    mean = np.zeros(s*2)\n",
    "\n",
    "    # Simulating the specified number of paths by drawing \n",
    "    # from the joint distribution of W and Z\n",
    "    paths = np.random.multivariate_normal(mean=mean,cov=cov, size=npaths)\n",
    "\n",
    "    ### Slower, but maybe more illustrating way of achieving the above ###\n",
    "\n",
    "    #A = scipy.linalg.cholesky(cov, lower=True)\n",
    "    #normal = np.random.randn(steps*2,npaths)\n",
    "    #paths = np.matmul(A, normal)\n",
    "\n",
    "    return paths"
   ]
  },
  {
   "cell_type": "code",
   "execution_count": 59,
   "metadata": {},
   "outputs": [],
   "source": [
    "paths = sim_paths()\n",
    "volterra, W = np.zeros((npaths,s+1)), np.zeros((npaths,s+1)) \n",
    "volterra[:,0] = 0; volterra[:,1:] = paths[:,:s]\n",
    "W[:,0] = 0; W[:,1:] = paths[:,s:]\n",
    "dW = np.diff(W, axis = 1)\n",
    "\n",
    "t = np.linspace(0,T,s+1); S0 = 1\n",
    "V = xi * np.exp(eta * volterra-0.5 * eta**2 * t**(2 * (H-0.5) + 1))\n",
    "increments = np.sqrt(V[:,:-1]) * dW - 0.5 * V[:,:-1] * dt\n",
    "integral = np.cumsum(increments, axis = 1)\n",
    "\n",
    "S = np.zeros_like(V)\n",
    "S[:,0] = S0\n",
    "S[:,1:] = S0 * np.exp(integral)"
   ]
  },
  {
   "cell_type": "code",
   "execution_count": 60,
   "metadata": {},
   "outputs": [],
   "source": [
    "def price(spot):\n",
    "    S = jnp.empty(shape=(npaths,nsteps+1))\n",
    "    S = S.at[:,0].set(spot)\n",
    "\n",
    "    for i in range(nsteps):\n",
    "        inc = jnp.exp(jnp.sqrt(V[:,i]) * dW[:,i] - 0.5 * V[:,i] * dt)\n",
    "        S = S.at[:,i+1].set(S[:,i]*inc)\n",
    "\n",
    "    return jnp.sum(jnp.where(S[:,i+1]-strike<0,0,S[:,i+1]-strike))/npaths"
   ]
  },
  {
   "cell_type": "code",
   "execution_count": 61,
   "metadata": {},
   "outputs": [],
   "source": [
    "spots = np.linspace(35, 165, 100)"
   ]
  },
  {
   "cell_type": "code",
   "execution_count": 63,
   "metadata": {},
   "outputs": [],
   "source": [
    "p = []\n",
    "d = []\n",
    "\n",
    "for spot in spots:\n",
    "    C, delta = value_and_grad(price, argnums=0)(spot)\n",
    "    p.append(C)\n",
    "    d.append(delta)"
   ]
  },
  {
   "cell_type": "code",
   "execution_count": 66,
   "metadata": {},
   "outputs": [
    {
     "data": {
      "text/plain": [
       "[<matplotlib.lines.Line2D at 0x1354b78e0>]"
      ]
     },
     "execution_count": 66,
     "metadata": {},
     "output_type": "execute_result"
    },
    {
     "data": {
      "image/png": "[encoded data removed]",
      "text/plain": [
       "<Figure size 432x288 with 1 Axes>"
      ]
     },
     "metadata": {
      "needs_background": "light"
     },
     "output_type": "display_data"
    }
   ],
   "source": [
    "import matplotlib.pyplot as plt\n",
    "\n",
    "plt.plot(spots, d)"
   ]
  },
  {
   "cell_type": "code",
   "execution_count": null,
   "metadata": {},
   "outputs": [],
   "source": [
    "#plot, axes = plt.subplots()\n",
    "#axes.plot(-2*np.mean(np.log(S), axis=0), 'r')\n",
    "#axes.plot(0.235**2 * t, 'g')"
   ]
  },
  {
   "cell_type": "code",
   "execution_count": null,
   "metadata": {},
   "outputs": [],
   "source": [
    "#plt.plot(np.mean(S, axis=0))"
   ]
  }
 ],
 "metadata": {
  "interpreter": {
   "hash": "6314f1dd6a1867270512df5dbaf0da944fed172eba7544c32ea9917be2637492"
  },
  "kernelspec": {
   "display_name": "Python 3.10.2 ('thematrix')",
   "language": "python",
   "name": "python3"
  },
  "language_info": {
   "codemirror_mode": {
    "name": "ipython",
    "version": 3
   },
   "file_extension": ".py",
   "mimetype": "text/x-python",
   "name": "python",
   "nbconvert_exporter": "python",
   "pygments_lexer": "ipython3",
   "version": "3.10.2"
  },
  "orig_nbformat": 4
 },
 "nbformat": 4,
 "nbformat_minor": 2
}
